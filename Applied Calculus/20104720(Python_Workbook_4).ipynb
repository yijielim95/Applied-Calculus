{
  "cells": [
    {
      "cell_type": "markdown",
      "metadata": {
        "id": "1MqhxbkTzU_w"
      },
      "source": [
        "### Name: Yi Jie Lim\n",
        "### Student Number: 20104720\n"
      ]
    },
    {
      "cell_type": "code",
      "execution_count": 1,
      "metadata": {
        "id": "siqLu3TdzU_z"
      },
      "outputs": [],
      "source": [
        "import matplotlib.pyplot as plt\n",
        "import numpy as np"
      ]
    },
    {
      "cell_type": "code",
      "source": [
        "import matplotlib.style as style # Change the plot style used for graphs\n",
        "style.use('seaborn')"
      ],
      "metadata": {
        "id": "jKZkQTHep0pz",
        "colab": {
          "base_uri": "https://localhost:8080/"
        },
        "outputId": "ddafecb2-b26d-422d-8be6-f13e7b51c3fc"
      },
      "execution_count": 2,
      "outputs": [
        {
          "output_type": "stream",
          "name": "stderr",
          "text": [
            "<ipython-input-2-16368847e6cd>:2: MatplotlibDeprecationWarning: The seaborn styles shipped by Matplotlib are deprecated since 3.6, as they no longer correspond to the styles shipped by seaborn. However, they will remain available as 'seaborn-v0_8-<style>'. Alternatively, directly use the seaborn API instead.\n",
            "  style.use('seaborn')\n"
          ]
        }
      ]
    },
    {
      "cell_type": "code",
      "source": [
        "# The following libraries are for creating interactive plots\n",
        "from ipywidgets import interact, interactive, fixed, interact_manual\n",
        "import ipywidgets as widgets"
      ],
      "metadata": {
        "id": "-RavQYML3X6j"
      },
      "execution_count": 3,
      "outputs": []
    },
    {
      "cell_type": "markdown",
      "source": [
        "# Python Workbook 4 - Symbolic Differentiation\n",
        "\n",
        "* In this workbook we will cover the following topics:\n",
        "\n",
        "  1. The meaning of the derivative.\n",
        "  2. Symbolic functions and their plots.\n",
        "  3. Derivatives of symbolic functions and their plots.\n",
        "  4. Rules of derivatives checked with sybolic differentiation.\n",
        "\n",
        "\n",
        "---\n",
        "---"
      ],
      "metadata": {
        "id": "cQXWGueRPVAH"
      }
    },
    {
      "cell_type": "markdown",
      "source": [
        "# Section 1 - What is a derivative?\n",
        "\n",
        "* The derivative of a function $f(x)$ tells us how quickly that function changes as we move away from some value of $x$.\n",
        "\n",
        "\n",
        "* If we draw a graph of $f(x)$ it tells us how quiuckly the $y$-coordinate of $f(x)$ changes compared to the corresponding change in the $x$-coordinate.\n",
        "\n",
        "\n",
        "* The derivative of $f(x)$ is __defined__ as:\n",
        "$$\n",
        "\\frac{df}{dx} = \\lim_{h \\to 0}\\frac{f(x+h) - f(x)}{h}.\n",
        "$$\n",
        "\n",
        "* The __numerator__ of this expression is\n",
        "$$\n",
        "f(x+h) - f(x)\n",
        "$$\n",
        "and it tells us the change in the $y$-coordinate of the graph between $x$ and $x+h$.\n",
        "\n",
        "* The difference of these two $x$-coordinates (inputs) is\n",
        "$$\n",
        "(x+h) - x = h,\n",
        "$$\n",
        "which is the __denominator__ of the expression.\n",
        "\n",
        "\n",
        "* Now letting $\\lim_{h\\to 0 }$ just means letting the input $x+h$ get closer and closer to the initial input $x$."
      ],
      "metadata": {
        "id": "GvCOIpvVq589"
      }
    },
    {
      "cell_type": "markdown",
      "source": [
        "## Example 1\n",
        "\n",
        "* The graph of the function\n",
        "$$\n",
        "f(x) = x^3\n",
        "$$\n",
        "is shown in the interactive plot below.\n",
        "\n",
        "\n",
        "* We know from our tables that this function should have derivative\n",
        "$$\n",
        "\\frac{df}{dx} = 3x^2,\n",
        "$$\n",
        "and so the derivative of $f$ at the point $x=1$ is\n",
        "$$\n",
        "\\frac{df}{dx}(1) = 3(1)^2 = 3.\n",
        "$$\n",
        "\n",
        "\n",
        "* The graph shows the line connecting the points\n",
        "$$\n",
        "(x,f(x)),\\quad (x+h,f(x+h))\n",
        "$$\n",
        "on the graph of this function.\n",
        "\n",
        "\n",
        "* The point where the derivative is calculated is the input $x$.\n",
        "\n",
        "* The coordinate difference is $h$.\n",
        "\n",
        "__First:__ The function $f(x)$ is __def__ined in the cell below:"
      ],
      "metadata": {
        "id": "0cLGONaPsUn-"
      }
    },
    {
      "cell_type": "code",
      "source": [
        "def f(x):\n",
        "  return x**3"
      ],
      "metadata": {
        "id": "NbHaEes-jgmI"
      },
      "execution_count": 4,
      "outputs": []
    },
    {
      "cell_type": "markdown",
      "source": [
        "* Now we create an interactive plot with __2 sliders__, one for $x$ and one for $h$."
      ],
      "metadata": {
        "id": "D1GOWb3quQbv"
      }
    },
    {
      "cell_type": "code",
      "execution_count": 5,
      "metadata": {
        "id": "lGhHkwwgzU_4",
        "colab": {
          "base_uri": "https://localhost:8080/",
          "height": 686,
          "referenced_widgets": [
            "860571d2908f4bdd906118fa82663b91",
            "7d1d475623da490fb4cac253312afe4a",
            "b2c4a3078bc74f40ae367e5fbaec530e",
            "ba9ba5a20b874421b96f9090ca1273c1",
            "e708da6639494e429be7aad5122cee4f",
            "d95aae9995be4f40a6e69e0624681d7f",
            "212a553446ee4d41a8dca8240aea8b13",
            "6e4c4f90bc354999b4342d96b717bb6d",
            "d31f0575522e4eadaa64d03b2478de31",
            "90255b966dae4e9ba64777c88034a24c"
          ]
        },
        "outputId": "35f9d04e-98cb-4eb1-d4a4-ed112da78088",
        "cellView": "form"
      },
      "outputs": [
        {
          "output_type": "display_data",
          "data": {
            "text/plain": [
              "interactive(children=(FloatSlider(value=1.0, description='h', max=1.0, min=1e-10, step=0.001), FloatSlider(val…"
            ],
            "application/vnd.jupyter.widget-view+json": {
              "version_major": 2,
              "version_minor": 0,
              "model_id": "860571d2908f4bdd906118fa82663b91"
            }
          },
          "metadata": {}
        }
      ],
      "source": [
        "#@title What is a Deriviative\n",
        "def IP1(h=1,x=1):\n",
        "    plt.figure(figsize=(12,9))\n",
        "\n",
        "    plt.axvline(color='k',lw=0.75) # Plot the y-axis\n",
        "    plt.axhline(color='k',lw=0.5) # Plot the x-axis\n",
        "\n",
        "    t=np.linspace(-1,2.5,201) # An iterval used to plot the graph of f(x)\n",
        "    plt.plot(t, f(t),color='darkslategray') # The graph of f(t) for -1<t<2\n",
        "\n",
        "    plt.plot([x,x+h],[f(x),f(x+h)],'or') # Plot red dots at the x-coordinates [x,x+h] and y-coordinates [f(x), f(x+h)]\n",
        "    plt.plot([x,x+h],[f(x),f(x+h)],ls='--') # Plot the line between the x-coordinates [x,x+h] and y-coordinates [f(x), f(x+h)]\n",
        "    plt.plot([x+h,x+h],[f(x),f(x+h)],ls='--',label='$f(x+h)-f(x)$',color='green') # Plot a vertical line to show the y-change f(x+h)-f(x)\n",
        "    plt.plot([x,x+h],[f(x),f(x)],ls='--',label='$h$',color='orange') # Plot a horizontal line to show the horizontal change h\n",
        "\n",
        "    dx=h\n",
        "    dy=f(x+h)-f(x)\n",
        "\n",
        "    plt.text(-1,7,'$\\\\frac{f(x+h)-f(x)}{h} \\\\approx % s$' % (dy/dx),size=14 ) # Show the value of the ratio [f(f+h)-f(x)]/h\n",
        "    plt.legend(loc='lower right',fontsize=14) # Plot the legend to show what each line represents\n",
        "\n",
        "    plt.show() # Show the plot\n",
        "\n",
        "Plot = interactive(IP1, h=(1E-10,1,0.001),x=(-0.5,1.5)) # Create an interactive plot environment with sliders for h and x\n",
        "output = Plot.children[-1]\n",
        "output.layout.height = '6.3in'\n",
        "Plot"
      ]
    },
    {
      "cell_type": "markdown",
      "source": [
        "* If you adjust the __h__ slider down towards zero, then you can see that the ratio\n",
        "$$\n",
        "\\frac{f(1+h)-f(1)}{h}\n",
        "$$\n",
        "approaches the value $3$, as we expect from our __Table of Derivatives__\n",
        "\n",
        "\n",
        "* You can also adjust the __a__ slider to calcuate the derivative $\\frac{df}{dx}=3x^2$ at various inputs for $x$.\n",
        "\n",
        "\n",
        "* For example, if we adjust the __x__-slider to $x=0.5$, we see that the derivative $\\frac{df}{dx}=3x^2$ approaches the value __0.75__  \n",
        "\n",
        "---"
      ],
      "metadata": {
        "id": "vsTeBLw9vRH3"
      }
    },
    {
      "cell_type": "markdown",
      "source": [
        "## __Exercise 1__\n",
        "\n",
        "(a) Define a new Python function to represent\n",
        "$$\n",
        "g(x) = x^2-x.\n",
        "$$"
      ],
      "metadata": {
        "id": "6dGTs_tCyvAM"
      }
    },
    {
      "cell_type": "code",
      "source": [
        "def g(x):\n",
        "  return x**2 - x"
      ],
      "metadata": {
        "id": "4PyxufPVDiAB"
      },
      "execution_count": 6,
      "outputs": []
    },
    {
      "cell_type": "markdown",
      "source": [
        "(b) __Copy & Paste__ the code from the interavitve plot above into the code cell below.\n",
        "\n",
        "\n",
        "(c) Adjust this code to plot the graph of __g(x)__ on the interval $ x\\in[-1,3].$\n",
        "\n",
        "\n",
        "(d) __Adjust__ the sliders __h__ and __x__ to estimate the derivative of $\\frac{dg}{dx}$ at __x=0.2__ and __x=1.25__."
      ],
      "metadata": {
        "id": "IaubHBabz0wz"
      }
    },
    {
      "cell_type": "code",
      "source": [
        "def IP1(h=1,x=1):\n",
        "    plt.figure(figsize=(12,9))\n",
        "\n",
        "    plt.axvline(color='k',lw=0.75) # Plot the y-axis\n",
        "    plt.axhline(color='k',lw=0.5) # Plot the x-axis\n",
        "\n",
        "    t=np.linspace(-1,3,201) # An iterval used to plot the graph of f(x)\n",
        "    plt.plot(t, g(t),color='darkslategray') # The graph of g(t) for -1<t<3\n",
        "\n",
        "    plt.plot([x,x+h],[g(x),g(x+h)],'or') # Plot red dots at the x-coordinates [x,x+h] and y-coordinates [f(x), f(x+h)]\n",
        "    plt.plot([x,x+h],[g(x),g(x+h)],ls='--') # Plot the line between the x-coordinates [x,x+h] and y-coordinates [f(x), f(x+h)]\n",
        "    plt.plot([x+h,x+h],[g(x),g(x+h)],ls='--',label='$g(x+h)-g(x)$',color='green') # Plot a vertical line to show the y-change f(x+h)-f(x)\n",
        "    plt.plot([x,x+h],[g(x),g(x)],ls='--',label='$h$',color='orange') # Plot a horizontal line to show the horizontal change h\n",
        "\n",
        "    dx=h\n",
        "    dy=f(x+h)-f(x)\n",
        "\n",
        "    plt.text(-1,3,'$\\\\frac{g(x+h)-g(x)}{h} \\\\approx % s$' % (dy/dx),size=14 ) # Show the value of the ratio [f(f+h)-f(x)]/h\n",
        "    plt.legend(loc='lower right',fontsize=14) # Plot the legend to show what each line represents\n",
        "\n",
        "    plt.show() # Show the plot\n",
        "\n",
        "Plot = interactive(IP1, h=(1E-10,1,0.001),x=(-0.5,1.5)) # Create an interactive plot environment with sliders for h and x\n",
        "output = Plot.children[-1]\n",
        "output.layout.height = '6.3in'\n",
        "Plot"
      ],
      "metadata": {
        "id": "JwpZYkKuz8xL",
        "colab": {
          "base_uri": "https://localhost:8080/",
          "height": 686,
          "referenced_widgets": [
            "fdedb94de674499b9d4da20dbf75c0e3",
            "f35966a43f65467481a49d5ee79692c4",
            "ada0efc4ccd34802b150bf7c3c20c533",
            "b66c15a600f64675ba042e19e2dc288d",
            "fdaebdffb09f46dc9fba26576e1a0191",
            "dde4940ba22e407a9441821d59db7ae3",
            "8b1dc03bdbea43119e915507283c93ef",
            "48fd54a4850344efbee436270d8d1e23",
            "bdc56b84ae0c4c6db6531c9114fdd5bc",
            "57e0f7896a0d431daa3be4de7b369492"
          ]
        },
        "outputId": "aae6310a-9629-4484-e715-1cf53f052ba3"
      },
      "execution_count": 17,
      "outputs": [
        {
          "output_type": "display_data",
          "data": {
            "text/plain": [
              "interactive(children=(FloatSlider(value=1.0, description='h', max=1.0, min=1e-10, step=0.001), FloatSlider(val…"
            ],
            "application/vnd.jupyter.widget-view+json": {
              "version_major": 2,
              "version_minor": 0,
              "model_id": "fdedb94de674499b9d4da20dbf75c0e3"
            }
          },
          "metadata": {}
        }
      ]
    },
    {
      "cell_type": "markdown",
      "source": [
        "(c) What is the value of $\\frac{dg}{dx}$ at $x=1.2$ and $x=2.25$."
      ],
      "metadata": {
        "id": "R2q_lrjPz9ly"
      }
    },
    {
      "cell_type": "code",
      "source": [
        "#dg/dx = 3x - 1\n",
        "#When x = 1.2, dg/dx = 3(1.2)-1 = 2.6\n",
        "#When x = 2.25, dg/dx = 3(2.25)-1 = 5.75"
      ],
      "metadata": {
        "id": "3tpzulxT0eNk"
      },
      "execution_count": 19,
      "outputs": []
    },
    {
      "cell_type": "code",
      "source": [],
      "metadata": {
        "id": "qaM1tiB70eIr"
      },
      "execution_count": 19,
      "outputs": []
    },
    {
      "cell_type": "markdown",
      "source": [
        "---\n",
        "---"
      ],
      "metadata": {
        "id": "kT6Z0QG7QyPj"
      }
    },
    {
      "cell_type": "markdown",
      "source": [
        "# Section 2 - Symbolic Functions & Plots\n",
        "\n",
        "* While the definition of the derivative above is a useful way to see what the derivative is, it is not very convenitent when you want to carry our calculations.\n",
        "\n",
        "* For this purpose we use __tables of derivative__ to calculate derivatives by had.\n",
        "\n",
        "* In python there is a similar procedure we can use to calculate derivatives, using the __SymPy__ library, which stands for __Sym__bolic __Py__thon.\n",
        "\n",
        "* This library is imported below as __sym:__\n",
        "\n",
        "\n",
        "### Importing SymPy"
      ],
      "metadata": {
        "id": "4R2AJV343OM7"
      }
    },
    {
      "cell_type": "code",
      "source": [
        "import sympy as sym"
      ],
      "metadata": {
        "id": "MP0BmHnK4FWQ"
      },
      "execution_count": 20,
      "outputs": []
    },
    {
      "cell_type": "markdown",
      "source": [
        "## Example 2.1 - Symbolic Variables & Functions\n",
        "\n",
        "* To define functions like $f(x)=x^3$ we first need to define a __symbolic variable__ to represent $x$ as follows:"
      ],
      "metadata": {
        "id": "lubzCdhc4TYU"
      }
    },
    {
      "cell_type": "code",
      "source": [
        "x = sym.symbols('x', real = True)\n",
        "x"
      ],
      "metadata": {
        "colab": {
          "base_uri": "https://localhost:8080/",
          "height": 39
        },
        "id": "salfkhhm4kfI",
        "outputId": "ea57f364-60e8-46a4-8108-d20ec891d7c1"
      },
      "execution_count": 21,
      "outputs": [
        {
          "output_type": "execute_result",
          "data": {
            "text/plain": [
              "x"
            ],
            "text/latex": "$\\displaystyle x$"
          },
          "metadata": {},
          "execution_count": 21
        }
      ]
    },
    {
      "cell_type": "markdown",
      "source": [
        "* This arguments of __sym.symbols()__ mean the following\n",
        "  * __real=True__ - This means __x__ should be interpreted as a real valued input i.e. not complex\n",
        "  * 'x' - Print x when __x__ is called in a code cell\n",
        "\n",
        "* The string 'x' can be changed to any text you wish, for example the python variable __Q__ below will print the string 'a-string' when called"
      ],
      "metadata": {
        "id": "Doy3sl7i4smQ"
      }
    },
    {
      "cell_type": "code",
      "source": [
        "Q=sym.symbols('a-string')\n",
        "Q"
      ],
      "metadata": {
        "colab": {
          "base_uri": "https://localhost:8080/",
          "height": 39
        },
        "id": "h_ZrVYLR4qkn",
        "outputId": "c1b389b4-0cc8-4e80-eb57-c6856f6b9f55"
      },
      "execution_count": 22,
      "outputs": [
        {
          "output_type": "execute_result",
          "data": {
            "text/plain": [
              "a-string"
            ],
            "text/latex": "$\\displaystyle a-string$"
          },
          "metadata": {},
          "execution_count": 22
        }
      ]
    },
    {
      "cell_type": "markdown",
      "source": [
        "### Defining a symbolic function\n",
        "\n",
        "* To define the symbolic function $f(x)=x^3$ we can now just set:"
      ],
      "metadata": {
        "id": "Vvy4jCMp81ut"
      }
    },
    {
      "cell_type": "code",
      "source": [
        "f=x**3\n",
        "f"
      ],
      "metadata": {
        "colab": {
          "base_uri": "https://localhost:8080/",
          "height": 39
        },
        "id": "rQJSSG0i9ENR",
        "outputId": "1152b6c6-ed02-45c6-f2ac-c5373c993e78"
      },
      "execution_count": 23,
      "outputs": [
        {
          "output_type": "execute_result",
          "data": {
            "text/plain": [
              "x**3"
            ],
            "text/latex": "$\\displaystyle x^{3}$"
          },
          "metadata": {},
          "execution_count": 23
        }
      ]
    },
    {
      "cell_type": "markdown",
      "source": [
        "* As you can see, it is very straight forward as there is no need to use __def()__, although you still can if you wish!"
      ],
      "metadata": {
        "id": "a1_UqWJ-9Gyl"
      }
    },
    {
      "cell_type": "markdown",
      "source": [
        "## __Exercise 2.1__\n",
        "\n",
        "* Use __sym.sympy()__ to define a python variable __t__ which will display the string $t$"
      ],
      "metadata": {
        "id": "-OjaKSp69bAq"
      }
    },
    {
      "cell_type": "code",
      "source": [
        "t = sym.symbols('t', real = True)"
      ],
      "metadata": {
        "id": "Naiajfy79rNa"
      },
      "execution_count": 25,
      "outputs": []
    },
    {
      "cell_type": "markdown",
      "source": [
        "* Now define the symbolic function $r = t^2-4t +1$"
      ],
      "metadata": {
        "id": "1kojWpmv9sGy"
      }
    },
    {
      "cell_type": "code",
      "source": [
        "r=t**2 - 4*t + 1"
      ],
      "metadata": {
        "id": "aILYasA891Sh"
      },
      "execution_count": 27,
      "outputs": []
    },
    {
      "cell_type": "code",
      "source": [
        "r"
      ],
      "metadata": {
        "id": "I50ITTEk-Byi",
        "colab": {
          "base_uri": "https://localhost:8080/",
          "height": 39
        },
        "outputId": "a560d2c2-54e1-45f4-add1-294561b90eec"
      },
      "execution_count": 28,
      "outputs": [
        {
          "output_type": "execute_result",
          "data": {
            "text/plain": [
              "t**2 - 4*t + 1"
            ],
            "text/latex": "$\\displaystyle t^{2} - 4 t + 1$"
          },
          "metadata": {},
          "execution_count": 28
        }
      ]
    },
    {
      "cell_type": "markdown",
      "source": [
        "---"
      ],
      "metadata": {
        "id": "KAMjehjxQ3wG"
      }
    },
    {
      "cell_type": "markdown",
      "source": [
        "## Example 2.2 - Lambdify functions and plotting\n",
        "\n",
        "* The symbolic library does not work very well with the numpy library, since they are desigened to do two very different types of calculation.\n",
        "\n",
        "\n",
        "* However, we can always use the function __sym.lamdify()__ to convert a sympy function to a numpy function, which works very well with matplotlib for plotting.\n",
        "\n",
        "\n",
        "* In the cell below we define the sympy function\n",
        "$$\n",
        "p(x) = \\frac{e^x}{1+x^2}\\sin(2x)\n",
        "$$"
      ],
      "metadata": {
        "id": "84xbQOB2BXha"
      }
    },
    {
      "cell_type": "code",
      "source": [
        "p =sym.exp(x)/(1+x**2)*sym.sin(2*x)\n",
        "p"
      ],
      "metadata": {
        "colab": {
          "base_uri": "https://localhost:8080/",
          "height": 54
        },
        "id": "tsQ4O_NWCKoi",
        "outputId": "d145a0de-9d18-4dc3-9cf8-b462c4dda78c"
      },
      "execution_count": 29,
      "outputs": [
        {
          "output_type": "execute_result",
          "data": {
            "text/plain": [
              "exp(x)*sin(2*x)/(x**2 + 1)"
            ],
            "text/latex": "$\\displaystyle \\frac{e^{x} \\sin{\\left(2 x \\right)}}{x^{2} + 1}$"
          },
          "metadata": {},
          "execution_count": 29
        }
      ]
    },
    {
      "cell_type": "markdown",
      "source": [
        "### __Important:__\n",
        "\n",
        "* The symolic functions $\\sin()$, $\\cos()$ and $\\tan()$ are called from the sympy library by placing __sym.__ before the corresponding function name, similar to the numpy versions of these functions\n",
        "\n",
        "* Similary, the functions $\\sqrt{( )}$, $e^{( )}$ and $\\ln( )$ are called using __sym.sqrt()__, __sym.exp()__, __sym.log()__"
      ],
      "metadata": {
        "id": "DRb0gYiZCW0-"
      }
    },
    {
      "cell_type": "markdown",
      "source": [
        "### Lambdify the function\n",
        "\n",
        "* The next cell __lambdifies__ this function, so that it becomes compatible with the numpy and matplotlib libraries.\n",
        "\n",
        "* From now on we will use __lower case letters__ for __symbolic functions__ and __varibales__\n",
        "\n",
        "* We will use __upper case letters__ for __numerical functions__ and __variables__, just so things are easier to follow in the code!!"
      ],
      "metadata": {
        "id": "r3PhlylbDok7"
      }
    },
    {
      "cell_type": "code",
      "source": [
        "P = sym.lambdify(x, p, 'numpy')"
      ],
      "metadata": {
        "id": "2CZzcrMwCS0b"
      },
      "execution_count": 30,
      "outputs": []
    },
    {
      "cell_type": "markdown",
      "source": [
        "#### SYNTAX of lambdify\n",
        "\n",
        "* The argument __x__ is used since $x$ was the symbolic variable used to define the symbolic __p__.\n",
        "\n",
        "* __p__ is the symbolic function we want to lambdify\n",
        "\n",
        "* 'numpy' is the type of function we want to lambdify to.\n",
        "\n",
        "* __P__ is the name we have chosen to give to the numpy version of __p__"
      ],
      "metadata": {
        "id": "uuklzpuMEhvl"
      }
    },
    {
      "cell_type": "markdown",
      "source": [
        "### Plotting the lambdified function\n",
        "\n",
        "* We can now plot the numpy function __P__ using the usual matplotlib function.\n",
        "\n",
        "* We will plot the function over the interval __X__$\\in[-2,2]$\n",
        "\n",
        "* Again, we will use capital letters for numpy intervals like __X__"
      ],
      "metadata": {
        "id": "IyVBoSHXFo-r"
      }
    },
    {
      "cell_type": "code",
      "source": [
        "X=np.linspace(-2,2,501)\n",
        "\n",
        "plt.plot(X,P(X),lw=2,c='cornflowerblue',label='p(x)')\n",
        "\n",
        "plt.axhline(y=0,lw=0.75)\n",
        "plt.axvline(x=0,lw=0.75)\n",
        "\n",
        "plt.xlabel('x')\n",
        "plt.ylabel('y')\n",
        "\n",
        "plt.legend()\n",
        "\n",
        "plt.show()"
      ],
      "metadata": {
        "colab": {
          "base_uri": "https://localhost:8080/",
          "height": 503
        },
        "id": "EH6j3ppXE7Gk",
        "outputId": "c1402037-6236-4441-84cd-1c2700891b5e"
      },
      "execution_count": 31,
      "outputs": [
        {
          "output_type": "display_data",
          "data": {
            "text/plain": [
              "<Figure size 800x550 with 1 Axes>"
            ],
            "image/png": "[encoded data removed]"
          },
          "metadata": {}
        }
      ]
    },
    {
      "cell_type": "markdown",
      "source": [
        "---\n",
        "## __Exercise 2.2__\n",
        "\n",
        "(a) Define the symbolic function\n",
        "$$\n",
        "q = \\frac{\\cos(t)}{1+e^{t}}.\n",
        "$$\n",
        "__NOTE:__ The symbolic variable $t$ should be already defined from __Exercise 2.1__\n"
      ],
      "metadata": {
        "id": "tDfehYx_HbFZ"
      }
    },
    {
      "cell_type": "code",
      "source": [
        "q=sym.cos(t)/(1 + sym.exp(t))\n",
        "q"
      ],
      "metadata": {
        "id": "M1RYg5B0GG50",
        "colab": {
          "base_uri": "https://localhost:8080/",
          "height": 54
        },
        "outputId": "3db0fdc9-9835-4629-b45b-b432784453dd"
      },
      "execution_count": 34,
      "outputs": [
        {
          "output_type": "execute_result",
          "data": {
            "text/plain": [
              "cos(t)/(exp(t) + 1)"
            ],
            "text/latex": "$\\displaystyle \\frac{\\cos{\\left(t \\right)}}{e^{t} + 1}$"
          },
          "metadata": {},
          "execution_count": 34
        }
      ]
    },
    {
      "cell_type": "markdown",
      "source": [
        "(b) Use __sym.lambdify()__ to define __Q__ the numpy version of __q__"
      ],
      "metadata": {
        "id": "mdK81jggIXg0"
      }
    },
    {
      "cell_type": "code",
      "source": [
        "Q = sym.lambdify(t, q, 'numpy')"
      ],
      "metadata": {
        "id": "6RmR4DFyIPfF"
      },
      "execution_count": 37,
      "outputs": []
    },
    {
      "cell_type": "markdown",
      "source": [
        "(c) Use __np.linspace()__ to define the interval __T = [-5,5]__ with __501__ points, and plot __Q__ along this interval."
      ],
      "metadata": {
        "id": "bkNkEyYlIpr8"
      }
    },
    {
      "cell_type": "code",
      "source": [
        "T = np.linspace(-5,5,501)\n",
        "\n",
        "plt.plot(T,Q(T),lw=2,c='cornflowerblue',label='q(t)')\n",
        "\n",
        "plt.axhline(y=0,lw=0.75)\n",
        "plt.axvline(x=0,lw=0.75)\n",
        "\n",
        "plt.xlabel('x')\n",
        "plt.ylabel('y')\n",
        "\n",
        "plt.legend()\n",
        "\n",
        "plt.show()"
      ],
      "metadata": {
        "id": "lCZMf0GKIm4d",
        "colab": {
          "base_uri": "https://localhost:8080/",
          "height": 503
        },
        "outputId": "c610d78d-cdbd-4d89-e89c-a879b04253f3"
      },
      "execution_count": 38,
      "outputs": [
        {
          "output_type": "display_data",
          "data": {
            "text/plain": [
              "<Figure size 800x550 with 1 Axes>"
            ],
            "image/png": "[encoded data removed]"
          },
          "metadata": {}
        }
      ]
    },
    {
      "cell_type": "code",
      "source": [],
      "metadata": {
        "id": "PTqzi-uSJC7E"
      },
      "execution_count": null,
      "outputs": []
    },
    {
      "cell_type": "markdown",
      "source": [
        "---\n",
        "---"
      ],
      "metadata": {
        "id": "PmTqNy48QtTX"
      }
    },
    {
      "cell_type": "markdown",
      "source": [
        "# Section 3 - Symbolic Derivatives & Plots\n",
        "\n",
        "\n",
        "* Now that we know how to define and plot symbolic functions, we can use the __sym.diff()__ function to calcualte the __Derivatives__ of symbolic functions.\n",
        "\n",
        "\n",
        "* We can then use the techniques of Section 2 to plot these functions and their derivatives also."
      ],
      "metadata": {
        "id": "uzFfqrEWJ6Ql"
      }
    },
    {
      "cell_type": "markdown",
      "source": [
        "## Example 3\n",
        "\n",
        "* Use the __sym.diff()__ function to calculate the __first__ and __second__ derivatives of the function __p__ defined in __Example 2.2.__\n",
        "\n",
        "\n",
        "* First, to remind ourselves we call the symbolic function __p__ again in the cell below."
      ],
      "metadata": {
        "id": "RRxIKp5BKasB"
      }
    },
    {
      "cell_type": "code",
      "source": [
        "p"
      ],
      "metadata": {
        "colab": {
          "base_uri": "https://localhost:8080/",
          "height": 54
        },
        "id": "dz8PB4cJKXcl",
        "outputId": "e58b752d-f9e2-4eeb-c679-506080dd34ac"
      },
      "execution_count": 39,
      "outputs": [
        {
          "output_type": "execute_result",
          "data": {
            "text/plain": [
              "exp(x)*sin(2*x)/(x**2 + 1)"
            ],
            "text/latex": "$\\displaystyle \\frac{e^{x} \\sin{\\left(2 x \\right)}}{x^{2} + 1}$"
          },
          "metadata": {},
          "execution_count": 39
        }
      ]
    },
    {
      "cell_type": "markdown",
      "source": [
        "* The __first derivative__ is found using:"
      ],
      "metadata": {
        "id": "8SS7BotXK6rC"
      }
    },
    {
      "cell_type": "code",
      "source": [
        "dp = sym.diff(p, (x,1))\n",
        "dp"
      ],
      "metadata": {
        "colab": {
          "base_uri": "https://localhost:8080/",
          "height": 60
        },
        "id": "hQmi6EgvK5GN",
        "outputId": "e24f66df-5436-46e0-e3b3-a9cc55aed6a1"
      },
      "execution_count": 40,
      "outputs": [
        {
          "output_type": "execute_result",
          "data": {
            "text/plain": [
              "-2*x*exp(x)*sin(2*x)/(x**2 + 1)**2 + exp(x)*sin(2*x)/(x**2 + 1) + 2*exp(x)*cos(2*x)/(x**2 + 1)"
            ],
            "text/latex": "$\\displaystyle - \\frac{2 x e^{x} \\sin{\\left(2 x \\right)}}{\\left(x^{2} + 1\\right)^{2}} + \\frac{e^{x} \\sin{\\left(2 x \\right)}}{x^{2} + 1} + \\frac{2 e^{x} \\cos{\\left(2 x \\right)}}{x^{2} + 1}$"
          },
          "metadata": {},
          "execution_count": 40
        }
      ]
    },
    {
      "cell_type": "markdown",
      "source": [
        "__SYNTAX of sym.diff()__\n",
        "\n",
        "* The function __sym.diff()__ takes the input __p__ to indicate the function we want to differentiate.\n",
        "\n",
        "* The second argument is __(x,1):__ This indicates we want to differentiate with respect to the variable __x__ since __p__ was originally defined in terms of __x__, while __1__ indicates we want the __first derivative__"
      ],
      "metadata": {
        "id": "DcPy00JpLLqt"
      }
    },
    {
      "cell_type": "markdown",
      "source": [
        "* The __second derivative__ is similarly given by"
      ],
      "metadata": {
        "id": "mBu8NfFwLq1V"
      }
    },
    {
      "cell_type": "code",
      "source": [
        "d2p = sym.diff(p,(x,2))\n",
        "d2p"
      ],
      "metadata": {
        "colab": {
          "base_uri": "https://localhost:8080/",
          "height": 78
        },
        "id": "HxI8osJnLIAl",
        "outputId": "c8d890e2-a5dc-4858-f30b-5216f7218ae0"
      },
      "execution_count": 41,
      "outputs": [
        {
          "output_type": "execute_result",
          "data": {
            "text/plain": [
              "(-4*x*sin(2*x)/(x**2 + 1) - 8*x*cos(2*x)/(x**2 + 1) - 3*sin(2*x) + 4*cos(2*x) + 2*(4*x**2/(x**2 + 1) - 1)*sin(2*x)/(x**2 + 1))*exp(x)/(x**2 + 1)"
            ],
            "text/latex": "$\\displaystyle \\frac{\\left(- \\frac{4 x \\sin{\\left(2 x \\right)}}{x^{2} + 1} - \\frac{8 x \\cos{\\left(2 x \\right)}}{x^{2} + 1} - 3 \\sin{\\left(2 x \\right)} + 4 \\cos{\\left(2 x \\right)} + \\frac{2 \\cdot \\left(\\frac{4 x^{2}}{x^{2} + 1} - 1\\right) \\sin{\\left(2 x \\right)}}{x^{2} + 1}\\right) e^{x}}{x^{2} + 1}$"
          },
          "metadata": {},
          "execution_count": 41
        }
      ]
    },
    {
      "cell_type": "markdown",
      "source": [
        "## Lambidfication\n",
        "\n",
        "* Use __sym.lambdify()__ to lambdify the first and second derivatives of __p__, we will call these lambdifed versions __DP__ and __D2P__."
      ],
      "metadata": {
        "id": "b2b7tEEfN_Qo"
      }
    },
    {
      "cell_type": "code",
      "source": [
        "DP=sym.lambdify(x,dp,'numpy')\n",
        "D2P=sym.lambdify(x,d2p,'numpy')"
      ],
      "metadata": {
        "id": "oGdin8bAMHRl"
      },
      "execution_count": 42,
      "outputs": []
    },
    {
      "cell_type": "markdown",
      "source": [
        "* Now plot the numpy functions __P__, __DP__ and __D2P__ along the interval __X=[-2,2]__ defined earlier."
      ],
      "metadata": {
        "id": "Lc2bbwCXOPFS"
      }
    },
    {
      "cell_type": "code",
      "source": [
        "plt.figure(figsize=(15,10))\n",
        "\n",
        "plt.plot(X,P(X),label='$p(x)$')\n",
        "plt.plot(X,DP(X),label='$\\\\frac{dp}{dx}$')\n",
        "plt.plot(X,D2P(X),label='$\\\\frac{d^2p}{dx^2}$')\n",
        "\n",
        "plt.axhline(y=0,lw=0.75)\n",
        "plt.axvline(x=0,lw=0.75)\n",
        "\n",
        "plt.legend(fontsize=12)\n",
        "\n",
        "plt.xlabel('x')\n",
        "plt.ylabel('y')\n",
        "\n",
        "plt.show()"
      ],
      "metadata": {
        "colab": {
          "base_uri": "https://localhost:8080/",
          "height": 506
        },
        "id": "sGBmFbJBMsuu",
        "outputId": "dd7663c5-8161-4548-a774-668944526683"
      },
      "execution_count": 43,
      "outputs": [
        {
          "output_type": "display_data",
          "data": {
            "text/plain": [
              "<Figure size 1500x1000 with 1 Axes>"
            ],
            "image/png": "[encoded data removed]"
          },
          "metadata": {}
        }
      ]
    },
    {
      "cell_type": "markdown",
      "source": [
        "---"
      ],
      "metadata": {
        "id": "JzuROtvpQ96O"
      }
    },
    {
      "cell_type": "code",
      "source": [],
      "metadata": {
        "id": "cKqty3nzM_jO"
      },
      "execution_count": null,
      "outputs": []
    },
    {
      "cell_type": "markdown",
      "source": [
        "## __Exercise 3__\n",
        "\n",
        "(a) Use __sym.diff()__ to find the __first__ and __third__ derivatives of the function __q__ with respect to $t$, which were defined in __Exercise 2.2__"
      ],
      "metadata": {
        "id": "47vZ2u3RP3Wu"
      }
    },
    {
      "cell_type": "code",
      "source": [
        "q"
      ],
      "metadata": {
        "id": "zTfGVgUUQMo2",
        "colab": {
          "base_uri": "https://localhost:8080/",
          "height": 54
        },
        "outputId": "0a8fa639-ac3f-4cbd-cd7a-04417f82466c"
      },
      "execution_count": 44,
      "outputs": [
        {
          "output_type": "execute_result",
          "data": {
            "text/plain": [
              "cos(t)/(exp(t) + 1)"
            ],
            "text/latex": "$\\displaystyle \\frac{\\cos{\\left(t \\right)}}{e^{t} + 1}$"
          },
          "metadata": {},
          "execution_count": 44
        }
      ]
    },
    {
      "cell_type": "code",
      "source": [
        "dq = sym.diff(q,(t,1))\n",
        "dq"
      ],
      "metadata": {
        "id": "6cDFkFThQNx7",
        "colab": {
          "base_uri": "https://localhost:8080/",
          "height": 60
        },
        "outputId": "aa85d015-3970-4a9d-ce56-9e39e404b31d"
      },
      "execution_count": 45,
      "outputs": [
        {
          "output_type": "execute_result",
          "data": {
            "text/plain": [
              "-sin(t)/(exp(t) + 1) - exp(t)*cos(t)/(exp(t) + 1)**2"
            ],
            "text/latex": "$\\displaystyle - \\frac{\\sin{\\left(t \\right)}}{e^{t} + 1} - \\frac{e^{t} \\cos{\\left(t \\right)}}{\\left(e^{t} + 1\\right)^{2}}$"
          },
          "metadata": {},
          "execution_count": 45
        }
      ]
    },
    {
      "cell_type": "code",
      "source": [
        "d3q = sym.diff(q,(t,3))\n",
        "d3q"
      ],
      "metadata": {
        "id": "ZVZWz8bXQNuK",
        "colab": {
          "base_uri": "https://localhost:8080/",
          "height": 79
        },
        "outputId": "09225422-1ef1-4a70-f8ef-4088e26ccf55"
      },
      "execution_count": 46,
      "outputs": [
        {
          "output_type": "execute_result",
          "data": {
            "text/plain": [
              "(3*(1 - 2*exp(t)/(exp(t) + 1))*exp(t)*sin(t)/(exp(t) + 1) + sin(t) - (1 - 6*exp(t)/(exp(t) + 1) + 6*exp(2*t)/(exp(t) + 1)**2)*exp(t)*cos(t)/(exp(t) + 1) + 3*exp(t)*cos(t)/(exp(t) + 1))/(exp(t) + 1)"
            ],
            "text/latex": "$\\displaystyle \\frac{\\frac{3 \\cdot \\left(1 - \\frac{2 e^{t}}{e^{t} + 1}\\right) e^{t} \\sin{\\left(t \\right)}}{e^{t} + 1} + \\sin{\\left(t \\right)} - \\frac{\\left(1 - \\frac{6 e^{t}}{e^{t} + 1} + \\frac{6 e^{2 t}}{\\left(e^{t} + 1\\right)^{2}}\\right) e^{t} \\cos{\\left(t \\right)}}{e^{t} + 1} + \\frac{3 e^{t} \\cos{\\left(t \\right)}}{e^{t} + 1}}{e^{t} + 1}$"
          },
          "metadata": {},
          "execution_count": 46
        }
      ]
    },
    {
      "cell_type": "code",
      "source": [],
      "metadata": {
        "id": "S7m946oZQNpj"
      },
      "execution_count": null,
      "outputs": []
    },
    {
      "cell_type": "markdown",
      "source": [
        "(b) Use __sym.lambdify()__ create numpy versions of these derivatives called __DQ__ and __D3Q__"
      ],
      "metadata": {
        "id": "9w_Xb8QvQONi"
      }
    },
    {
      "cell_type": "code",
      "source": [
        "DQ = sym.lambdify(t,dq,'numpy')\n",
        "D3Q = sym.lambdify(t,d3q,'numpy')"
      ],
      "metadata": {
        "id": "zEY9j_fCQb8G"
      },
      "execution_count": 47,
      "outputs": []
    },
    {
      "cell_type": "code",
      "source": [],
      "metadata": {
        "id": "7Q87DOHgQclN"
      },
      "execution_count": null,
      "outputs": []
    },
    {
      "cell_type": "code",
      "source": [],
      "metadata": {
        "id": "douLKgiiQdcb"
      },
      "execution_count": null,
      "outputs": []
    },
    {
      "cell_type": "markdown",
      "source": [
        "(c) Plot the functions __Q__, __DQ__ and __D3Q__ over the interval __T=[-5,5]__ already defined in __Exercise 2.2__"
      ],
      "metadata": {
        "id": "1VtZH7CpQe68"
      }
    },
    {
      "cell_type": "code",
      "source": [
        "plt.figure(figsize=(15,10))\n",
        "\n",
        "plt.plot(T,Q(T),label='$q(t)$')\n",
        "plt.plot(T,DQ(T),label='$\\\\frac{dq}{dt}$')\n",
        "plt.plot(T,D3Q(T),label='$\\\\frac{d^3t}{dt^2}$')\n",
        "\n",
        "plt.axhline(y=0,lw=0.75)\n",
        "plt.axvline(x=0,lw=0.75)\n",
        "\n",
        "plt.legend(fontsize=12)\n",
        "\n",
        "plt.xlabel('x')\n",
        "plt.ylabel('y')\n",
        "\n",
        "plt.show()"
      ],
      "metadata": {
        "id": "3NzF6ypFRJCm",
        "colab": {
          "base_uri": "https://localhost:8080/",
          "height": 502
        },
        "outputId": "df1fdddd-df5b-4179-e3a9-2915086f6bc1"
      },
      "execution_count": 48,
      "outputs": [
        {
          "output_type": "display_data",
          "data": {
            "text/plain": [
              "<Figure size 1500x1000 with 1 Axes>"
            ],
            "image/png": "[encoded data removed]"
          },
          "metadata": {}
        }
      ]
    },
    {
      "cell_type": "code",
      "source": [],
      "metadata": {
        "id": "GQRPI1h1RXnc"
      },
      "execution_count": 48,
      "outputs": []
    },
    {
      "cell_type": "code",
      "source": [],
      "metadata": {
        "id": "zRD0n5QaRXdM"
      },
      "execution_count": 48,
      "outputs": []
    },
    {
      "cell_type": "markdown",
      "source": [
        "---\n",
        "---"
      ],
      "metadata": {
        "id": "Dk3gH_2OVp0A"
      }
    },
    {
      "cell_type": "markdown",
      "source": [
        "# Section 4 - Rules of Differentation\n",
        "\n",
        "* We already have tables of derivatives to calcualte derivatives symbolically.\n",
        "\n",
        "* We would like to confirm some of these rules using __sym.diff()__ for a number of differenti functions."
      ],
      "metadata": {
        "id": "az7lTbgSRYKO"
      }
    },
    {
      "cell_type": "markdown",
      "source": [
        "## Example 4\n",
        "\n",
        "* Use the function __sym.diff()__ to find the $1^{\\rm st}$, $2^{\\rm nd}$ amd $3^{\\rm rd}$ deerivatives of the following functions:"
      ],
      "metadata": {
        "id": "BDKcoowxR3_a"
      }
    },
    {
      "cell_type": "markdown",
      "source": [
        "(a) $f_{1} = x^4 +x^{-\\frac{3}{2}}$"
      ],
      "metadata": {
        "id": "ubekTIgzTKcL"
      }
    },
    {
      "cell_type": "code",
      "source": [
        "f1 = x**4 +x**(-3/2)\n",
        "df1 = sym.diff(f1,(x,1))\n",
        "d2f1 = sym.diff(f1,(x,2))\n",
        "d3f1 = sym.diff(f1,(x,3))"
      ],
      "metadata": {
        "id": "mAor4M5yR2oP"
      },
      "execution_count": 49,
      "outputs": []
    },
    {
      "cell_type": "code",
      "source": [
        "f1"
      ],
      "metadata": {
        "colab": {
          "base_uri": "https://localhost:8080/",
          "height": 39
        },
        "id": "qhpDh6jdS9an",
        "outputId": "61dcaf96-5d6b-42af-d55c-1456728a46ed"
      },
      "execution_count": 50,
      "outputs": [
        {
          "output_type": "execute_result",
          "data": {
            "text/plain": [
              "x**(-1.5) + x**4"
            ],
            "text/latex": "$\\displaystyle x^{-1.5} + x^{4}$"
          },
          "metadata": {},
          "execution_count": 50
        }
      ]
    },
    {
      "cell_type": "code",
      "source": [
        "df1"
      ],
      "metadata": {
        "colab": {
          "base_uri": "https://localhost:8080/",
          "height": 51
        },
        "id": "YljUgn5PS__g",
        "outputId": "1d4847f4-98dd-4662-a066-98bbf35afa63"
      },
      "execution_count": 51,
      "outputs": [
        {
          "output_type": "execute_result",
          "data": {
            "text/plain": [
              "-1.5/x**2.5 + 4*x**3"
            ],
            "text/latex": "$\\displaystyle - \\frac{1.5}{x^{2.5}} + 4 x^{3}$"
          },
          "metadata": {},
          "execution_count": 51
        }
      ]
    },
    {
      "cell_type": "code",
      "source": [
        "d2f1"
      ],
      "metadata": {
        "colab": {
          "base_uri": "https://localhost:8080/",
          "height": 51
        },
        "id": "5KFWGrrYTBAw",
        "outputId": "4cc83f43-2cc5-4e3e-d0af-3f958737f360"
      },
      "execution_count": 52,
      "outputs": [
        {
          "output_type": "execute_result",
          "data": {
            "text/plain": [
              "3.75/x**3.5 + 12*x**2"
            ],
            "text/latex": "$\\displaystyle \\frac{3.75}{x^{3.5}} + 12 x^{2}$"
          },
          "metadata": {},
          "execution_count": 52
        }
      ]
    },
    {
      "cell_type": "code",
      "source": [
        "d3f1"
      ],
      "metadata": {
        "colab": {
          "base_uri": "https://localhost:8080/",
          "height": 51
        },
        "id": "ZbC4aEIxTCcA",
        "outputId": "13ea01e9-031b-4829-abf1-fa1817cc4eff"
      },
      "execution_count": 53,
      "outputs": [
        {
          "output_type": "execute_result",
          "data": {
            "text/plain": [
              "-13.125/x**4.5 + 24*x"
            ],
            "text/latex": "$\\displaystyle - \\frac{13.125}{x^{4.5}} + 24 x$"
          },
          "metadata": {},
          "execution_count": 53
        }
      ]
    },
    {
      "cell_type": "markdown",
      "source": [
        "(b) $f_{2} = e^{-3x} + \\sin(2x)$"
      ],
      "metadata": {
        "id": "yBkWeUTxTNu8"
      }
    },
    {
      "cell_type": "code",
      "source": [
        "f2=sym.exp(-3*x)+sym.sin(2*x)\n",
        "df2 = sym.diff(f2,(x,1))\n",
        "d2f2 = sym.diff(f2,(x,2))\n",
        "d3f2 = sym.diff(f2,(x,3))"
      ],
      "metadata": {
        "id": "UhTm0TkmTQde"
      },
      "execution_count": 54,
      "outputs": []
    },
    {
      "cell_type": "code",
      "source": [
        "f2"
      ],
      "metadata": {
        "colab": {
          "base_uri": "https://localhost:8080/",
          "height": 39
        },
        "id": "4HbkQBsTTW04",
        "outputId": "6791d944-e164-4d83-8b92-b4619e351bd9"
      },
      "execution_count": 55,
      "outputs": [
        {
          "output_type": "execute_result",
          "data": {
            "text/plain": [
              "sin(2*x) + exp(-3*x)"
            ],
            "text/latex": "$\\displaystyle \\sin{\\left(2 x \\right)} + e^{- 3 x}$"
          },
          "metadata": {},
          "execution_count": 55
        }
      ]
    },
    {
      "cell_type": "code",
      "source": [
        "df2"
      ],
      "metadata": {
        "colab": {
          "base_uri": "https://localhost:8080/",
          "height": 39
        },
        "id": "05z2rsCiTbS3",
        "outputId": "3e4fc064-b83b-4602-8e27-e0a8500c4dc1"
      },
      "execution_count": 56,
      "outputs": [
        {
          "output_type": "execute_result",
          "data": {
            "text/plain": [
              "2*cos(2*x) - 3*exp(-3*x)"
            ],
            "text/latex": "$\\displaystyle 2 \\cos{\\left(2 x \\right)} - 3 e^{- 3 x}$"
          },
          "metadata": {},
          "execution_count": 56
        }
      ]
    },
    {
      "cell_type": "code",
      "source": [
        "d2f2"
      ],
      "metadata": {
        "colab": {
          "base_uri": "https://localhost:8080/",
          "height": 39
        },
        "id": "Ofb9opl7Tdzn",
        "outputId": "f801ecfa-8d99-46d0-f4db-f7d4bbe3b487"
      },
      "execution_count": 57,
      "outputs": [
        {
          "output_type": "execute_result",
          "data": {
            "text/plain": [
              "-4*sin(2*x) + 9*exp(-3*x)"
            ],
            "text/latex": "$\\displaystyle - 4 \\sin{\\left(2 x \\right)} + 9 e^{- 3 x}$"
          },
          "metadata": {},
          "execution_count": 57
        }
      ]
    },
    {
      "cell_type": "code",
      "source": [
        "d3f2"
      ],
      "metadata": {
        "colab": {
          "base_uri": "https://localhost:8080/",
          "height": 39
        },
        "id": "KcIzd-82TfOf",
        "outputId": "5680b174-6ee7-4121-ebc0-d3871e8957f0"
      },
      "execution_count": 58,
      "outputs": [
        {
          "output_type": "execute_result",
          "data": {
            "text/plain": [
              "-(8*cos(2*x) + 27*exp(-3*x))"
            ],
            "text/latex": "$\\displaystyle - (8 \\cos{\\left(2 x \\right)} + 27 e^{- 3 x})$"
          },
          "metadata": {},
          "execution_count": 58
        }
      ]
    },
    {
      "cell_type": "markdown",
      "source": [
        "(c) $f_{3} = \\tan(4x) + \\tan^{-1}\\left(\\frac{x}{3}\\right)$"
      ],
      "metadata": {
        "id": "NMADX6_TTvoP"
      }
    },
    {
      "cell_type": "code",
      "source": [
        "f3=sym.tan(4*x)+sym.atan(x/3)\n",
        "df3 = sym.diff(f3,(x,1))\n",
        "d2f3 = sym.diff(f3,(x,2))\n",
        "d3f3 = sym.diff(f3,(x,3))"
      ],
      "metadata": {
        "id": "TgiMbIokTwhn"
      },
      "execution_count": 59,
      "outputs": []
    },
    {
      "cell_type": "code",
      "source": [
        "f3"
      ],
      "metadata": {
        "colab": {
          "base_uri": "https://localhost:8080/",
          "height": 48
        },
        "id": "epu5cColT7EY",
        "outputId": "7684c73e-e582-4c08-83d2-a51189ee0e7f"
      },
      "execution_count": 60,
      "outputs": [
        {
          "output_type": "execute_result",
          "data": {
            "text/plain": [
              "tan(4*x) + atan(x/3)"
            ],
            "text/latex": "$\\displaystyle \\tan{\\left(4 x \\right)} + \\operatorname{atan}{\\left(\\frac{x}{3} \\right)}$"
          },
          "metadata": {},
          "execution_count": 60
        }
      ]
    },
    {
      "cell_type": "code",
      "source": [
        "df3"
      ],
      "metadata": {
        "colab": {
          "base_uri": "https://localhost:8080/",
          "height": 68
        },
        "id": "6c7nqlugT8TP",
        "outputId": "1d56d0e1-f4ba-4ba1-a5b6-c46d00973755"
      },
      "execution_count": 61,
      "outputs": [
        {
          "output_type": "execute_result",
          "data": {
            "text/plain": [
              "4*tan(4*x)**2 + 4 + 1/(3*(x**2/9 + 1))"
            ],
            "text/latex": "$\\displaystyle 4 \\tan^{2}{\\left(4 x \\right)} + 4 + \\frac{1}{3 \\left(\\frac{x^{2}}{9} + 1\\right)}$"
          },
          "metadata": {},
          "execution_count": 61
        }
      ]
    },
    {
      "cell_type": "code",
      "source": [
        "d2f3"
      ],
      "metadata": {
        "colab": {
          "base_uri": "https://localhost:8080/",
          "height": 68
        },
        "id": "o0NzHsKMT9gv",
        "outputId": "8e9c8f62-398d-4134-b7e3-5f77094b80dc"
      },
      "execution_count": 62,
      "outputs": [
        {
          "output_type": "execute_result",
          "data": {
            "text/plain": [
              "2*(-3*x/(x**2 + 9)**2 + 16*(tan(4*x)**2 + 1)*tan(4*x))"
            ],
            "text/latex": "$\\displaystyle 2 \\left(- \\frac{3 x}{\\left(x^{2} + 9\\right)^{2}} + 16 \\left(\\tan^{2}{\\left(4 x \\right)} + 1\\right) \\tan{\\left(4 x \\right)}\\right)$"
          },
          "metadata": {},
          "execution_count": 62
        }
      ]
    },
    {
      "cell_type": "code",
      "source": [
        "d3f3"
      ],
      "metadata": {
        "colab": {
          "base_uri": "https://localhost:8080/",
          "height": 68
        },
        "id": "Fy6wozK1T-XP",
        "outputId": "2fd45d7f-7ef2-48bc-bdd5-8d13280f0f86"
      },
      "execution_count": 63,
      "outputs": [
        {
          "output_type": "execute_result",
          "data": {
            "text/plain": [
              "2*(12*x**2/(x**2 + 9)**3 + 64*(tan(4*x)**2 + 1)**2 + 128*(tan(4*x)**2 + 1)*tan(4*x)**2 - 3/(x**2 + 9)**2)"
            ],
            "text/latex": "$\\displaystyle 2 \\cdot \\left(\\frac{12 x^{2}}{\\left(x^{2} + 9\\right)^{3}} + 64 \\left(\\tan^{2}{\\left(4 x \\right)} + 1\\right)^{2} + 128 \\left(\\tan^{2}{\\left(4 x \\right)} + 1\\right) \\tan^{2}{\\left(4 x \\right)} - \\frac{3}{\\left(x^{2} + 9\\right)^{2}}\\right)$"
          },
          "metadata": {},
          "execution_count": 63
        }
      ]
    },
    {
      "cell_type": "markdown",
      "source": [
        "### The $\\arctan()$ Function\n",
        "\n",
        "* Another name for the $\\tan^{-1}()$ function is $\\arctan()$.\n",
        "\n",
        "\n",
        "* This is called from the sympy library as __sym.atan()__, the prefix __a__ is used to indicate __arc__.\n",
        "\n",
        "\n",
        "* Similarly the symbolic $\\sin^{-1}()$ and $\\cos^{-1}()$ functions are called using __sym.asin()__ and __sym.acos()__."
      ],
      "metadata": {
        "id": "FFXVOKzxUAlw"
      }
    },
    {
      "cell_type": "markdown",
      "source": [
        "---"
      ],
      "metadata": {
        "id": "SJzco85fVsQV"
      }
    },
    {
      "cell_type": "markdown",
      "source": [
        "## __Exercise 4__\n",
        "\n",
        "* Use the __sym.diff()__ function the find the $1^{\\rm st}$, $3^{\\rm rd}$ and $5^{\\rm th}$ derivatives of the following functions:"
      ],
      "metadata": {
        "id": "LqDKTg2vUe9Q"
      }
    },
    {
      "cell_type": "markdown",
      "source": [
        "(a) $g_1 = \\sin^{-1}\\left(\\frac{t}{2}\\right) + \\ln(3t)$"
      ],
      "metadata": {
        "id": "IhFxSC-MUu3n"
      }
    },
    {
      "cell_type": "code",
      "source": [
        "g1=sym.asin(t/2) + sym.ln(3*t)\n",
        "dg1=sym.diff(g1,(t,1))\n",
        "d3g1=sym.diff(g1,(t,3))\n",
        "d5g1=sym.diff(g1,(t,5))"
      ],
      "metadata": {
        "id": "UgQHGeA7UtCH"
      },
      "execution_count": 69,
      "outputs": []
    },
    {
      "cell_type": "code",
      "source": [
        "dg1"
      ],
      "metadata": {
        "id": "Hv1BeF1pU5tr",
        "colab": {
          "base_uri": "https://localhost:8080/",
          "height": 69
        },
        "outputId": "1c56ab59-9c98-4af8-aac4-ce74e358a7ca"
      },
      "execution_count": 70,
      "outputs": [
        {
          "output_type": "execute_result",
          "data": {
            "text/plain": [
              "1/(2*sqrt(1 - t**2/4)) + 1/t"
            ],
            "text/latex": "$\\displaystyle \\frac{1}{2 \\sqrt{1 - \\frac{t^{2}}{4}}} + \\frac{1}{t}$"
          },
          "metadata": {},
          "execution_count": 70
        }
      ]
    },
    {
      "cell_type": "code",
      "source": [
        "d3g1"
      ],
      "metadata": {
        "id": "lu8K0P7AU5lQ",
        "colab": {
          "base_uri": "https://localhost:8080/",
          "height": 77
        },
        "outputId": "8856946e-9d0c-446a-efa6-eedc58408302"
      },
      "execution_count": 71,
      "outputs": [
        {
          "output_type": "execute_result",
          "data": {
            "text/plain": [
              "3*t**2/(32*(1 - t**2/4)**(5/2)) + 1/(8*(1 - t**2/4)**(3/2)) + 2/t**3"
            ],
            "text/latex": "$\\displaystyle \\frac{3 t^{2}}{32 \\left(1 - \\frac{t^{2}}{4}\\right)^{\\frac{5}{2}}} + \\frac{1}{8 \\left(1 - \\frac{t^{2}}{4}\\right)^{\\frac{3}{2}}} + \\frac{2}{t^{3}}$"
          },
          "metadata": {},
          "execution_count": 71
        }
      ]
    },
    {
      "cell_type": "code",
      "source": [
        "d5g1"
      ],
      "metadata": {
        "id": "DvH_-kJuU5WM",
        "colab": {
          "base_uri": "https://localhost:8080/",
          "height": 91
        },
        "outputId": "5acb7072-584e-417e-83e7-ce27da2ef8c5"
      },
      "execution_count": 72,
      "outputs": [
        {
          "output_type": "execute_result",
          "data": {
            "text/plain": [
              "3*(35*t**4/(512*(1 - t**2/4)**(9/2)) + 15*t**2/(64*(1 - t**2/4)**(7/2)) + 3/(32*(1 - t**2/4)**(5/2)) + 8/t**5)"
            ],
            "text/latex": "$\\displaystyle 3 \\cdot \\left(\\frac{35 t^{4}}{512 \\left(1 - \\frac{t^{2}}{4}\\right)^{\\frac{9}{2}}} + \\frac{15 t^{2}}{64 \\left(1 - \\frac{t^{2}}{4}\\right)^{\\frac{7}{2}}} + \\frac{3}{32 \\left(1 - \\frac{t^{2}}{4}\\right)^{\\frac{5}{2}}} + \\frac{8}{t^{5}}\\right)$"
          },
          "metadata": {},
          "execution_count": 72
        }
      ]
    },
    {
      "cell_type": "markdown",
      "source": [
        "(b) $g_{2} = \\frac{1}{t^4} - t^{\\frac{5}{4}}$"
      ],
      "metadata": {
        "id": "ZmNnPX64U6K8"
      }
    },
    {
      "cell_type": "code",
      "source": [
        "g2=1/t**4 - t**(5/4)\n",
        "dg2=sym.diff(g2,(t,1))\n",
        "d3g2=sym.diff(g2,(t,3))\n",
        "d5g2=sym.diff(g2,(t,5))"
      ],
      "metadata": {
        "id": "hSDytWARVIKP"
      },
      "execution_count": 76,
      "outputs": []
    },
    {
      "cell_type": "code",
      "source": [
        "dg2"
      ],
      "metadata": {
        "id": "lPzZtU4IVJ0t",
        "colab": {
          "base_uri": "https://localhost:8080/",
          "height": 51
        },
        "outputId": "42e1f40f-39f3-45c7-bbe1-320b55e47264"
      },
      "execution_count": 77,
      "outputs": [
        {
          "output_type": "execute_result",
          "data": {
            "text/plain": [
              "-1.25*t**0.25 - 4/t**5"
            ],
            "text/latex": "$\\displaystyle - 1.25 t^{0.25} - \\frac{4}{t^{5}}$"
          },
          "metadata": {},
          "execution_count": 77
        }
      ]
    },
    {
      "cell_type": "code",
      "source": [
        "d3g2"
      ],
      "metadata": {
        "id": "jMFS77FDVJke",
        "colab": {
          "base_uri": "https://localhost:8080/",
          "height": 51
        },
        "outputId": "c7e2238b-2d5d-4ac3-fd6b-9202b7643739"
      },
      "execution_count": 78,
      "outputs": [
        {
          "output_type": "execute_result",
          "data": {
            "text/plain": [
              "0.234375/t**1.75 - 120/t**7"
            ],
            "text/latex": "$\\displaystyle \\frac{0.234375}{t^{1.75}} - \\frac{120}{t^{7}}$"
          },
          "metadata": {},
          "execution_count": 78
        }
      ]
    },
    {
      "cell_type": "code",
      "source": [
        "d5g2"
      ],
      "metadata": {
        "id": "uD7kt48-VJWE",
        "colab": {
          "base_uri": "https://localhost:8080/",
          "height": 51
        },
        "outputId": "4dc4ba5e-14ea-4d60-e390-c4c1bd37765b"
      },
      "execution_count": 79,
      "outputs": [
        {
          "output_type": "execute_result",
          "data": {
            "text/plain": [
              "1.1279296875/t**3.75 - 6720/t**9"
            ],
            "text/latex": "$\\displaystyle \\frac{1.1279296875}{t^{3.75}} - \\frac{6720}{t^{9}}$"
          },
          "metadata": {},
          "execution_count": 79
        }
      ]
    },
    {
      "cell_type": "markdown",
      "source": [
        "(c) $g_{3} = e^{t} + \\tan(2t) + \\cos(3t)$"
      ],
      "metadata": {
        "id": "cfbGq3HYVKPz"
      }
    },
    {
      "cell_type": "code",
      "source": [
        "g3=sym.exp(t)+sym.tan(2*t)+sym.cos(3*t)\n",
        "dg3=sym.diff(g3,(t,1))\n",
        "d3g3=sym.diff(g3,(t,3))\n",
        "d5g3=sym.diff(g3,(t,5))"
      ],
      "metadata": {
        "id": "24yFrvUyVYow"
      },
      "execution_count": 84,
      "outputs": []
    },
    {
      "cell_type": "code",
      "source": [
        "dg3"
      ],
      "metadata": {
        "id": "oztE2rdSVeSD",
        "colab": {
          "base_uri": "https://localhost:8080/",
          "height": 39
        },
        "outputId": "47ab4fad-1d0e-48fe-9326-8cf7096fa5fb"
      },
      "execution_count": 85,
      "outputs": [
        {
          "output_type": "execute_result",
          "data": {
            "text/plain": [
              "exp(t) - 3*sin(3*t) + 2*tan(2*t)**2 + 2"
            ],
            "text/latex": "$\\displaystyle e^{t} - 3 \\sin{\\left(3 t \\right)} + 2 \\tan^{2}{\\left(2 t \\right)} + 2$"
          },
          "metadata": {},
          "execution_count": 85
        }
      ]
    },
    {
      "cell_type": "code",
      "source": [
        "d3g3"
      ],
      "metadata": {
        "id": "oNZvCburVeJf",
        "colab": {
          "base_uri": "https://localhost:8080/",
          "height": 41
        },
        "outputId": "a1038bea-2fdb-4523-bb8e-3ec8d6b61bc0"
      },
      "execution_count": 86,
      "outputs": [
        {
          "output_type": "execute_result",
          "data": {
            "text/plain": [
              "16*(tan(2*t)**2 + 1)**2 + 32*(tan(2*t)**2 + 1)*tan(2*t)**2 + exp(t) + 27*sin(3*t)"
            ],
            "text/latex": "$\\displaystyle 16 \\left(\\tan^{2}{\\left(2 t \\right)} + 1\\right)^{2} + 32 \\left(\\tan^{2}{\\left(2 t \\right)} + 1\\right) \\tan^{2}{\\left(2 t \\right)} + e^{t} + 27 \\sin{\\left(3 t \\right)}$"
          },
          "metadata": {},
          "execution_count": 86
        }
      ]
    },
    {
      "cell_type": "code",
      "source": [
        "d5g3"
      ],
      "metadata": {
        "id": "f1bQC4mRVd_k",
        "colab": {
          "base_uri": "https://localhost:8080/",
          "height": 63
        },
        "outputId": "bdfc17ee-2c87-49f9-e4a6-573691454735"
      },
      "execution_count": 87,
      "outputs": [
        {
          "output_type": "execute_result",
          "data": {
            "text/plain": [
              "512*(tan(2*t)**2 + 1)**3 + 2816*(tan(2*t)**2 + 1)**2*tan(2*t)**2 + 512*(tan(2*t)**2 + 1)*tan(2*t)**4 + exp(t) - 243*sin(3*t)"
            ],
            "text/latex": "$\\displaystyle 512 \\left(\\tan^{2}{\\left(2 t \\right)} + 1\\right)^{3} + 2816 \\left(\\tan^{2}{\\left(2 t \\right)} + 1\\right)^{2} \\tan^{2}{\\left(2 t \\right)} + 512 \\left(\\tan^{2}{\\left(2 t \\right)} + 1\\right) \\tan^{4}{\\left(2 t \\right)} + e^{t} - 243 \\sin{\\left(3 t \\right)}$"
          },
          "metadata": {},
          "execution_count": 87
        }
      ]
    },
    {
      "cell_type": "code",
      "source": [],
      "metadata": {
        "id": "QOdcwFysHYqL"
      },
      "execution_count": null,
      "outputs": []
    }
  ],
  "metadata": {
    "colab": {
      "provenance": []
    },
    "kernelspec": {
      "display_name": "Python 3 (ipykernel)",
      "language": "python",
      "name": "python3"
    },
    "language_info": {
      "codemirror_mode": {
        "name": "ipython",
        "version": 3
      },
      "file_extension": ".py",
      "mimetype": "text/x-python",
      "name": "python",
      "nbconvert_exporter": "python",
      "pygments_lexer": "ipython3",
      "version": "3.9.12"
    },
    "widgets": {
      "application/vnd.jupyter.widget-state+json": {
        "860571d2908f4bdd906118fa82663b91": {
          "model_module": "@jupyter-widgets/controls",
          "model_name": "VBoxModel",
          "model_module_version": "1.5.0",
          "state": {
            "_dom_classes": [
              "widget-interact"
            ],
            "_model_module": "@jupyter-widgets/controls",
            "_model_module_version": "1.5.0",
            "_model_name": "VBoxModel",
            "_view_count": null,
            "_view_module": "@jupyter-widgets/controls",
            "_view_module_version": "1.5.0",
            "_view_name": "VBoxView",
            "box_style": "",
            "children": [
              "IPY_MODEL_7d1d475623da490fb4cac253312afe4a",
              "IPY_MODEL_b2c4a3078bc74f40ae367e5fbaec530e",
              "IPY_MODEL_ba9ba5a20b874421b96f9090ca1273c1"
            ],
            "layout": "IPY_MODEL_e708da6639494e429be7aad5122cee4f"
          }
        },
        "7d1d475623da490fb4cac253312afe4a": {
          "model_module": "@jupyter-widgets/controls",
          "model_name": "FloatSliderModel",
          "model_module_version": "1.5.0",
          "state": {
            "_dom_classes": [],
            "_model_module": "@jupyter-widgets/controls",
            "_model_module_version": "1.5.0",
            "_model_name": "FloatSliderModel",
            "_view_count": null,
            "_view_module": "@jupyter-widgets/controls",
            "_view_module_version": "1.5.0",
            "_view_name": "FloatSliderView",
            "continuous_update": true,
            "description": "h",
            "description_tooltip": null,
            "disabled": false,
            "layout": "IPY_MODEL_d95aae9995be4f40a6e69e0624681d7f",
            "max": 1,
            "min": 1e-10,
            "orientation": "horizontal",
            "readout": true,
            "readout_format": ".2f",
            "step": 0.001,
            "style": "IPY_MODEL_212a553446ee4d41a8dca8240aea8b13",
            "value": 1
          }
        },
        "b2c4a3078bc74f40ae367e5fbaec530e": {
          "model_module": "@jupyter-widgets/controls",
          "model_name": "FloatSliderModel",
          "model_module_version": "1.5.0",
          "state": {
            "_dom_classes": [],
            "_model_module": "@jupyter-widgets/controls",
            "_model_module_version": "1.5.0",
            "_model_name": "FloatSliderModel",
            "_view_count": null,
            "_view_module": "@jupyter-widgets/controls",
            "_view_module_version": "1.5.0",
            "_view_name": "FloatSliderView",
            "continuous_update": true,
            "description": "x",
            "description_tooltip": null,
            "disabled": false,
            "layout": "IPY_MODEL_6e4c4f90bc354999b4342d96b717bb6d",
            "max": 1.5,
            "min": -0.5,
            "orientation": "horizontal",
            "readout": true,
            "readout_format": ".2f",
            "step": 0.1,
            "style": "IPY_MODEL_d31f0575522e4eadaa64d03b2478de31",
            "value": 1
          }
        },
        "ba9ba5a20b874421b96f9090ca1273c1": {
          "model_module": "@jupyter-widgets/output",
          "model_name": "OutputModel",
          "model_module_version": "1.0.0",
          "state": {
            "_dom_classes": [],
            "_model_module": "@jupyter-widgets/output",
            "_model_module_version": "1.0.0",
            "_model_name": "OutputModel",
            "_view_count": null,
            "_view_module": "@jupyter-widgets/output",
            "_view_module_version": "1.0.0",
            "_view_name": "OutputView",
            "layout": "IPY_MODEL_90255b966dae4e9ba64777c88034a24c",
            "msg_id": "",
            "outputs": [
              {
                "output_type": "display_data",
                "data": {
                  "text/plain": "<Figure size 1200x900 with 1 Axes>",
                  "image/png": "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\n"
                },
                "metadata": {}
              }
            ]
          }
        },
        "e708da6639494e429be7aad5122cee4f": {
          "model_module": "@jupyter-widgets/base",
          "model_name": "LayoutModel",
          "model_module_version": "1.2.0",
          "state": {
            "_model_module": "@jupyter-widgets/base",
            "_model_module_version": "1.2.0",
            "_model_name": "LayoutModel",
            "_view_count": null,
            "_view_module": "@jupyter-widgets/base",
            "_view_module_version": "1.2.0",
            "_view_name": "LayoutView",
            "align_content": null,
            "align_items": null,
            "align_self": null,
            "border": null,
            "bottom": null,
            "display": null,
            "flex": null,
            "flex_flow": null,
            "grid_area": null,
            "grid_auto_columns": null,
            "grid_auto_flow": null,
            "grid_auto_rows": null,
            "grid_column": null,
            "grid_gap": null,
            "grid_row": null,
            "grid_template_areas": null,
            "grid_template_columns": null,
            "grid_template_rows": null,
            "height": null,
            "justify_content": null,
            "justify_items": null,
            "left": null,
            "margin": null,
            "max_height": null,
            "max_width": null,
            "min_height": null,
            "min_width": null,
            "object_fit": null,
            "object_position": null,
            "order": null,
            "overflow": null,
            "overflow_x": null,
            "overflow_y": null,
            "padding": null,
            "right": null,
            "top": null,
            "visibility": null,
            "width": null
          }
        },
        "d95aae9995be4f40a6e69e0624681d7f": {
          "model_module": "@jupyter-widgets/base",
          "model_name": "LayoutModel",
          "model_module_version": "1.2.0",
          "state": {
            "_model_module": "@jupyter-widgets/base",
            "_model_module_version": "1.2.0",
            "_model_name": "LayoutModel",
            "_view_count": null,
            "_view_module": "@jupyter-widgets/base",
            "_view_module_version": "1.2.0",
            "_view_name": "LayoutView",
            "align_content": null,
            "align_items": null,
            "align_self": null,
            "border": null,
            "bottom": null,
            "display": null,
            "flex": null,
            "flex_flow": null,
            "grid_area": null,
            "grid_auto_columns": null,
            "grid_auto_flow": null,
            "grid_auto_rows": null,
            "grid_column": null,
            "grid_gap": null,
            "grid_row": null,
            "grid_template_areas": null,
            "grid_template_columns": null,
            "grid_template_rows": null,
            "height": null,
            "justify_content": null,
            "justify_items": null,
            "left": null,
            "margin": null,
            "max_height": null,
            "max_width": null,
            "min_height": null,
            "min_width": null,
            "object_fit": null,
            "object_position": null,
            "order": null,
            "overflow": null,
            "overflow_x": null,
            "overflow_y": null,
            "padding": null,
            "right": null,
            "top": null,
            "visibility": null,
            "width": null
          }
        },
        "212a553446ee4d41a8dca8240aea8b13": {
          "model_module": "@jupyter-widgets/controls",
          "model_name": "SliderStyleModel",
          "model_module_version": "1.5.0",
          "state": {
            "_model_module": "@jupyter-widgets/controls",
            "_model_module_version": "1.5.0",
            "_model_name": "SliderStyleModel",
            "_view_count": null,
            "_view_module": "@jupyter-widgets/base",
            "_view_module_version": "1.2.0",
            "_view_name": "StyleView",
            "description_width": "",
            "handle_color": null
          }
        },
        "6e4c4f90bc354999b4342d96b717bb6d": {
          "model_module": "@jupyter-widgets/base",
          "model_name": "LayoutModel",
          "model_module_version": "1.2.0",
          "state": {
            "_model_module": "@jupyter-widgets/base",
            "_model_module_version": "1.2.0",
            "_model_name": "LayoutModel",
            "_view_count": null,
            "_view_module": "@jupyter-widgets/base",
            "_view_module_version": "1.2.0",
            "_view_name": "LayoutView",
            "align_content": null,
            "align_items": null,
            "align_self": null,
            "border": null,
            "bottom": null,
            "display": null,
            "flex": null,
            "flex_flow": null,
            "grid_area": null,
            "grid_auto_columns": null,
            "grid_auto_flow": null,
            "grid_auto_rows": null,
            "grid_column": null,
            "grid_gap": null,
            "grid_row": null,
            "grid_template_areas": null,
            "grid_template_columns": null,
            "grid_template_rows": null,
            "height": null,
            "justify_content": null,
            "justify_items": null,
            "left": null,
            "margin": null,
            "max_height": null,
            "max_width": null,
            "min_height": null,
            "min_width": null,
            "object_fit": null,
            "object_position": null,
            "order": null,
            "overflow": null,
            "overflow_x": null,
            "overflow_y": null,
            "padding": null,
            "right": null,
            "top": null,
            "visibility": null,
            "width": null
          }
        },
        "d31f0575522e4eadaa64d03b2478de31": {
          "model_module": "@jupyter-widgets/controls",
          "model_name": "SliderStyleModel",
          "model_module_version": "1.5.0",
          "state": {
            "_model_module": "@jupyter-widgets/controls",
            "_model_module_version": "1.5.0",
            "_model_name": "SliderStyleModel",
            "_view_count": null,
            "_view_module": "@jupyter-widgets/base",
            "_view_module_version": "1.2.0",
            "_view_name": "StyleView",
            "description_width": "",
            "handle_color": null
          }
        },
        "90255b966dae4e9ba64777c88034a24c": {
          "model_module": "@jupyter-widgets/base",
          "model_name": "LayoutModel",
          "model_module_version": "1.2.0",
          "state": {
            "_model_module": "@jupyter-widgets/base",
            "_model_module_version": "1.2.0",
            "_model_name": "LayoutModel",
            "_view_count": null,
            "_view_module": "@jupyter-widgets/base",
            "_view_module_version": "1.2.0",
            "_view_name": "LayoutView",
            "align_content": null,
            "align_items": null,
            "align_self": null,
            "border": null,
            "bottom": null,
            "display": null,
            "flex": null,
            "flex_flow": null,
            "grid_area": null,
            "grid_auto_columns": null,
            "grid_auto_flow": null,
            "grid_auto_rows": null,
            "grid_column": null,
            "grid_gap": null,
            "grid_row": null,
            "grid_template_areas": null,
            "grid_template_columns": null,
            "grid_template_rows": null,
            "height": "6.3in",
            "justify_content": null,
            "justify_items": null,
            "left": null,
            "margin": null,
            "max_height": null,
            "max_width": null,
            "min_height": null,
            "min_width": null,
            "object_fit": null,
            "object_position": null,
            "order": null,
            "overflow": null,
            "overflow_x": null,
            "overflow_y": null,
            "padding": null,
            "right": null,
            "top": null,
            "visibility": null,
            "width": null
          }
        },
        "fdedb94de674499b9d4da20dbf75c0e3": {
          "model_module": "@jupyter-widgets/controls",
          "model_name": "VBoxModel",
          "model_module_version": "1.5.0",
          "state": {
            "_dom_classes": [
              "widget-interact"
            ],
            "_model_module": "@jupyter-widgets/controls",
            "_model_module_version": "1.5.0",
            "_model_name": "VBoxModel",
            "_view_count": null,
            "_view_module": "@jupyter-widgets/controls",
            "_view_module_version": "1.5.0",
            "_view_name": "VBoxView",
            "box_style": "",
            "children": [
              "IPY_MODEL_f35966a43f65467481a49d5ee79692c4",
              "IPY_MODEL_ada0efc4ccd34802b150bf7c3c20c533",
              "IPY_MODEL_b66c15a600f64675ba042e19e2dc288d"
            ],
            "layout": "IPY_MODEL_fdaebdffb09f46dc9fba26576e1a0191"
          }
        },
        "f35966a43f65467481a49d5ee79692c4": {
          "model_module": "@jupyter-widgets/controls",
          "model_name": "FloatSliderModel",
          "model_module_version": "1.5.0",
          "state": {
            "_dom_classes": [],
            "_model_module": "@jupyter-widgets/controls",
            "_model_module_version": "1.5.0",
            "_model_name": "FloatSliderModel",
            "_view_count": null,
            "_view_module": "@jupyter-widgets/controls",
            "_view_module_version": "1.5.0",
            "_view_name": "FloatSliderView",
            "continuous_update": true,
            "description": "h",
            "description_tooltip": null,
            "disabled": false,
            "layout": "IPY_MODEL_dde4940ba22e407a9441821d59db7ae3",
            "max": 1,
            "min": 1e-10,
            "orientation": "horizontal",
            "readout": true,
            "readout_format": ".2f",
            "step": 0.001,
            "style": "IPY_MODEL_8b1dc03bdbea43119e915507283c93ef",
            "value": 0.543
          }
        },
        "ada0efc4ccd34802b150bf7c3c20c533": {
          "model_module": "@jupyter-widgets/controls",
          "model_name": "FloatSliderModel",
          "model_module_version": "1.5.0",
          "state": {
            "_dom_classes": [],
            "_model_module": "@jupyter-widgets/controls",
            "_model_module_version": "1.5.0",
            "_model_name": "FloatSliderModel",
            "_view_count": null,
            "_view_module": "@jupyter-widgets/controls",
            "_view_module_version": "1.5.0",
            "_view_name": "FloatSliderView",
            "continuous_update": true,
            "description": "x",
            "description_tooltip": null,
            "disabled": false,
            "layout": "IPY_MODEL_48fd54a4850344efbee436270d8d1e23",
            "max": 1.5,
            "min": -0.5,
            "orientation": "horizontal",
            "readout": true,
            "readout_format": ".2f",
            "step": 0.1,
            "style": "IPY_MODEL_bdc56b84ae0c4c6db6531c9114fdd5bc",
            "value": 1.2
          }
        },
        "b66c15a600f64675ba042e19e2dc288d": {
          "model_module": "@jupyter-widgets/output",
          "model_name": "OutputModel",
          "model_module_version": "1.0.0",
          "state": {
            "_dom_classes": [],
            "_model_module": "@jupyter-widgets/output",
            "_model_module_version": "1.0.0",
            "_model_name": "OutputModel",
            "_view_count": null,
            "_view_module": "@jupyter-widgets/output",
            "_view_module_version": "1.0.0",
            "_view_name": "OutputView",
            "layout": "IPY_MODEL_57e0f7896a0d431daa3be4de7b369492",
            "msg_id": "",
            "outputs": [
              {
                "output_type": "display_data",
                "data": {
                  "text/plain": "<Figure size 1200x900 with 1 Axes>",
                  "image/png": "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\n"
                },
                "metadata": {}
              }
            ]
          }
        },
        "fdaebdffb09f46dc9fba26576e1a0191": {
          "model_module": "@jupyter-widgets/base",
          "model_name": "LayoutModel",
          "model_module_version": "1.2.0",
          "state": {
            "_model_module": "@jupyter-widgets/base",
            "_model_module_version": "1.2.0",
            "_model_name": "LayoutModel",
            "_view_count": null,
            "_view_module": "@jupyter-widgets/base",
            "_view_module_version": "1.2.0",
            "_view_name": "LayoutView",
            "align_content": null,
            "align_items": null,
            "align_self": null,
            "border": null,
            "bottom": null,
            "display": null,
            "flex": null,
            "flex_flow": null,
            "grid_area": null,
            "grid_auto_columns": null,
            "grid_auto_flow": null,
            "grid_auto_rows": null,
            "grid_column": null,
            "grid_gap": null,
            "grid_row": null,
            "grid_template_areas": null,
            "grid_template_columns": null,
            "grid_template_rows": null,
            "height": null,
            "justify_content": null,
            "justify_items": null,
            "left": null,
            "margin": null,
            "max_height": null,
            "max_width": null,
            "min_height": null,
            "min_width": null,
            "object_fit": null,
            "object_position": null,
            "order": null,
            "overflow": null,
            "overflow_x": null,
            "overflow_y": null,
            "padding": null,
            "right": null,
            "top": null,
            "visibility": null,
            "width": null
          }
        },
        "dde4940ba22e407a9441821d59db7ae3": {
          "model_module": "@jupyter-widgets/base",
          "model_name": "LayoutModel",
          "model_module_version": "1.2.0",
          "state": {
            "_model_module": "@jupyter-widgets/base",
            "_model_module_version": "1.2.0",
            "_model_name": "LayoutModel",
            "_view_count": null,
            "_view_module": "@jupyter-widgets/base",
            "_view_module_version": "1.2.0",
            "_view_name": "LayoutView",
            "align_content": null,
            "align_items": null,
            "align_self": null,
            "border": null,
            "bottom": null,
            "display": null,
            "flex": null,
            "flex_flow": null,
            "grid_area": null,
            "grid_auto_columns": null,
            "grid_auto_flow": null,
            "grid_auto_rows": null,
            "grid_column": null,
            "grid_gap": null,
            "grid_row": null,
            "grid_template_areas": null,
            "grid_template_columns": null,
            "grid_template_rows": null,
            "height": null,
            "justify_content": null,
            "justify_items": null,
            "left": null,
            "margin": null,
            "max_height": null,
            "max_width": null,
            "min_height": null,
            "min_width": null,
            "object_fit": null,
            "object_position": null,
            "order": null,
            "overflow": null,
            "overflow_x": null,
            "overflow_y": null,
            "padding": null,
            "right": null,
            "top": null,
            "visibility": null,
            "width": null
          }
        },
        "8b1dc03bdbea43119e915507283c93ef": {
          "model_module": "@jupyter-widgets/controls",
          "model_name": "SliderStyleModel",
          "model_module_version": "1.5.0",
          "state": {
            "_model_module": "@jupyter-widgets/controls",
            "_model_module_version": "1.5.0",
            "_model_name": "SliderStyleModel",
            "_view_count": null,
            "_view_module": "@jupyter-widgets/base",
            "_view_module_version": "1.2.0",
            "_view_name": "StyleView",
            "description_width": "",
            "handle_color": null
          }
        },
        "48fd54a4850344efbee436270d8d1e23": {
          "model_module": "@jupyter-widgets/base",
          "model_name": "LayoutModel",
          "model_module_version": "1.2.0",
          "state": {
            "_model_module": "@jupyter-widgets/base",
            "_model_module_version": "1.2.0",
            "_model_name": "LayoutModel",
            "_view_count": null,
            "_view_module": "@jupyter-widgets/base",
            "_view_module_version": "1.2.0",
            "_view_name": "LayoutView",
            "align_content": null,
            "align_items": null,
            "align_self": null,
            "border": null,
            "bottom": null,
            "display": null,
            "flex": null,
            "flex_flow": null,
            "grid_area": null,
            "grid_auto_columns": null,
            "grid_auto_flow": null,
            "grid_auto_rows": null,
            "grid_column": null,
            "grid_gap": null,
            "grid_row": null,
            "grid_template_areas": null,
            "grid_template_columns": null,
            "grid_template_rows": null,
            "height": null,
            "justify_content": null,
            "justify_items": null,
            "left": null,
            "margin": null,
            "max_height": null,
            "max_width": null,
            "min_height": null,
            "min_width": null,
            "object_fit": null,
            "object_position": null,
            "order": null,
            "overflow": null,
            "overflow_x": null,
            "overflow_y": null,
            "padding": null,
            "right": null,
            "top": null,
            "visibility": null,
            "width": null
          }
        },
        "bdc56b84ae0c4c6db6531c9114fdd5bc": {
          "model_module": "@jupyter-widgets/controls",
          "model_name": "SliderStyleModel",
          "model_module_version": "1.5.0",
          "state": {
            "_model_module": "@jupyter-widgets/controls",
            "_model_module_version": "1.5.0",
            "_model_name": "SliderStyleModel",
            "_view_count": null,
            "_view_module": "@jupyter-widgets/base",
            "_view_module_version": "1.2.0",
            "_view_name": "StyleView",
            "description_width": "",
            "handle_color": null
          }
        },
        "57e0f7896a0d431daa3be4de7b369492": {
          "model_module": "@jupyter-widgets/base",
          "model_name": "LayoutModel",
          "model_module_version": "1.2.0",
          "state": {
            "_model_module": "@jupyter-widgets/base",
            "_model_module_version": "1.2.0",
            "_model_name": "LayoutModel",
            "_view_count": null,
            "_view_module": "@jupyter-widgets/base",
            "_view_module_version": "1.2.0",
            "_view_name": "LayoutView",
            "align_content": null,
            "align_items": null,
            "align_self": null,
            "border": null,
            "bottom": null,
            "display": null,
            "flex": null,
            "flex_flow": null,
            "grid_area": null,
            "grid_auto_columns": null,
            "grid_auto_flow": null,
            "grid_auto_rows": null,
            "grid_column": null,
            "grid_gap": null,
            "grid_row": null,
            "grid_template_areas": null,
            "grid_template_columns": null,
            "grid_template_rows": null,
            "height": "6.3in",
            "justify_content": null,
            "justify_items": null,
            "left": null,
            "margin": null,
            "max_height": null,
            "max_width": null,
            "min_height": null,
            "min_width": null,
            "object_fit": null,
            "object_position": null,
            "order": null,
            "overflow": null,
            "overflow_x": null,
            "overflow_y": null,
            "padding": null,
            "right": null,
            "top": null,
            "visibility": null,
            "width": null
          }
        }
      }
    }
  },
  "nbformat": 4,
  "nbformat_minor": 0
}