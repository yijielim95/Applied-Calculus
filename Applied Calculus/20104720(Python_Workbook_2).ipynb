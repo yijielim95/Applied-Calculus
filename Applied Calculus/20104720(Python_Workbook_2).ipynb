{
  "cells": [
    {
      "cell_type": "markdown",
      "metadata": {
        "id": "fEO9D8FL2_TJ"
      },
      "source": [
        "### Name: Yi Jie Lim\n",
        "### Student Number: 20104720"
      ]
    },
    {
      "cell_type": "markdown",
      "metadata": {
        "id": "TObwFT-UEzZE"
      },
      "source": [
        "### Importing the required functions\n",
        "---"
      ]
    },
    {
      "cell_type": "code",
      "execution_count": null,
      "metadata": {
        "id": "8StfKvNF2_TR"
      },
      "outputs": [],
      "source": [
        "import matplotlib.pyplot as plt\n",
        "import numpy as np"
      ]
    },
    {
      "cell_type": "markdown",
      "metadata": {
        "id": "UvsTLStCExPo"
      },
      "source": [
        "* The cell below allowes for different possible plot styles:"
      ]
    },
    {
      "cell_type": "code",
      "execution_count": null,
      "metadata": {
        "id": "ZzxBHrUxEfan"
      },
      "outputs": [],
      "source": [
        "import matplotlib.style as style # For changing the plot style used for graphs\n",
        "style.use('ggplot')"
      ]
    },
    {
      "cell_type": "markdown",
      "metadata": {
        "id": "6AOVhbp-GsS_"
      },
      "source": [
        "* A full list of availbel styles for use inside __style.use()__ is given by running the next cell."
      ]
    },
    {
      "cell_type": "code",
      "execution_count": null,
      "metadata": {
        "colab": {
          "base_uri": "https://localhost:8080/"
        },
        "id": "04sIxs4nGezw",
        "outputId": "978c99d4-2ce0-4f11-9e96-2c5cd0cf5955"
      },
      "outputs": [
        {
          "output_type": "execute_result",
          "data": {
            "text/plain": [
              "['Solarize_Light2',\n",
              " '_classic_test_patch',\n",
              " '_mpl-gallery',\n",
              " '_mpl-gallery-nogrid',\n",
              " 'bmh',\n",
              " 'classic',\n",
              " 'dark_background',\n",
              " 'fast',\n",
              " 'fivethirtyeight',\n",
              " 'ggplot',\n",
              " 'grayscale',\n",
              " 'seaborn-v0_8',\n",
              " 'seaborn-v0_8-bright',\n",
              " 'seaborn-v0_8-colorblind',\n",
              " 'seaborn-v0_8-dark',\n",
              " 'seaborn-v0_8-dark-palette',\n",
              " 'seaborn-v0_8-darkgrid',\n",
              " 'seaborn-v0_8-deep',\n",
              " 'seaborn-v0_8-muted',\n",
              " 'seaborn-v0_8-notebook',\n",
              " 'seaborn-v0_8-paper',\n",
              " 'seaborn-v0_8-pastel',\n",
              " 'seaborn-v0_8-poster',\n",
              " 'seaborn-v0_8-talk',\n",
              " 'seaborn-v0_8-ticks',\n",
              " 'seaborn-v0_8-white',\n",
              " 'seaborn-v0_8-whitegrid',\n",
              " 'tableau-colorblind10']"
            ]
          },
          "metadata": {},
          "execution_count": 3
        }
      ],
      "source": [
        "style.available"
      ]
    },
    {
      "cell_type": "markdown",
      "metadata": {
        "id": "PaxduvWbC_2k"
      },
      "source": [
        "# Python Workbook 2 - Exponents & Logs\n",
        "\n",
        "* In this workbook we are going to cover the following topics:\n",
        "\n",
        "  1. __Exponential Functions:__ Their domains and graphs\n",
        "    \n",
        "  2. __Logarithmic functions:__ Their domains and graphs\n",
        "    \n",
        "  3. __Important exponents and logs:__ The functions $e^{x}$ and $\\ln(x)$\n",
        "    "
      ]
    },
    {
      "cell_type": "markdown",
      "metadata": {
        "id": "Lf5Uaj0GC_2m"
      },
      "source": [
        "___\n",
        "# Section 1 - Exponential Functions\n",
        "\n",
        "In this section we will examine __exponential__ functions of the form\n",
        "\n",
        "$$\n",
        "f(x) = b^{x},\n",
        "$$\n",
        "\n",
        "where $b$ is a __positive number__ and the input $x$ is usually _any real number._\n",
        "\n",
        "___\n",
        "\n",
        "\n",
        "## Section 1.1: What are Exponentials?\n",
        "\n",
        "* When we say something like $4^{3}$ we mean $4\\times4\\times4$, i.e. multiply $4$ by itself $3$ times.\n",
        "\n",
        "\n",
        "* In this case the number $4$ is called the __base__ while the power $3$ is called the __exponent.__\n",
        "\n",
        "\n",
        "* The exponent is usually any real number between $-\\infty$ and $\\infty$.\n",
        "\n",
        "\n",
        "* In particular, if the exponent is a __fraction or decimal__ it means we take the corresponding __root__ of the number: For example, $4^{\\frac{1}{5}}$ means the $\\mathrm{5^{th}-root}$ of $4$ or in other words $\\sqrt[5]{4}$.\n",
        "\n",
        "\n",
        "* Even more generally, $4^{\\frac{m}{n}}$ means the $\\mathrm{n^{th}-root}$ of $4$ rased to the power of $m$, i.e. $\\left(\\sqrt[n]{4}\\right)^{m}$, where $m$ and $n$ are any __numbers__\n",
        "\n",
        "\n",
        "* A __negative exponent__ means we take __1-over-the-positive-power__, for example $4^{-3}$ means $\\frac{1}{4^{3}}$."
      ]
    },
    {
      "cell_type": "markdown",
      "metadata": {
        "id": "AdSIHr2FC_2n"
      },
      "source": [
        "## Defining a 2-variable function\n",
        "\n",
        "* We can define a very general function to calcualte the exponential of any base, i.e. a function\n",
        "\n",
        "$$\n",
        "f(b,x) = b^{x};\\quad 0<b<\\infty\\quad -\\infty<x<\\infty.\n",
        "$$"
      ]
    },
    {
      "cell_type": "code",
      "execution_count": null,
      "metadata": {
        "id": "6dGbAg0MC_2o"
      },
      "outputs": [],
      "source": [
        "def EXP(b,x):\n",
        "    return b**x"
      ]
    },
    {
      "cell_type": "markdown",
      "metadata": {
        "id": "D7czPW-YC_2o"
      },
      "source": [
        "* __IMPORTANT:__ We do not call our function __exp()__ because this is a particularly important function already defined in __numpy__"
      ]
    },
    {
      "cell_type": "markdown",
      "metadata": {
        "id": "CcHJZiWiC_2o"
      },
      "source": [
        "## __Example 1.1__\n",
        "\n",
        "* Use the function __EXP()__ to calculate the following:\n",
        "\n",
        "    1. $4^{1.54}$\n",
        "    \n",
        "    2. $3.5^{\\frac{2}{7}}$\n",
        "    \n",
        "    3. $0.45^{-0.32}$\n",
        "    \n",
        "\n",
        "* Use the function __EXP()__ to show that $(-2)^{\\frac{1}{2}}$ and  $(-2)^{\\frac{1}{3}}$ are __not real valued__."
      ]
    },
    {
      "cell_type": "markdown",
      "metadata": {
        "id": "PIUYRMOWC_2p"
      },
      "source": [
        "### Solution:\n",
        "\n",
        "* The first three cases are __real numbers__, as we can see below:"
      ]
    },
    {
      "cell_type": "code",
      "execution_count": null,
      "metadata": {
        "colab": {
          "base_uri": "https://localhost:8080/"
        },
        "id": "E9N3W5BKC_2p",
        "outputId": "143f59e7-9759-42fb-f8a0-02ff1486b701"
      },
      "outputs": [
        {
          "output_type": "execute_result",
          "data": {
            "text/plain": [
              "8.456144324491044"
            ]
          },
          "metadata": {},
          "execution_count": 5
        }
      ],
      "source": [
        "EXP(4,1.54)"
      ]
    },
    {
      "cell_type": "code",
      "execution_count": null,
      "metadata": {
        "colab": {
          "base_uri": "https://localhost:8080/"
        },
        "id": "a6v7B4hvC_2q",
        "outputId": "68c57746-e037-457d-9670-86d036758590"
      },
      "outputs": [
        {
          "output_type": "execute_result",
          "data": {
            "text/plain": [
              "1.4303687479263856"
            ]
          },
          "metadata": {},
          "execution_count": 6
        }
      ],
      "source": [
        "EXP(3.5,2/7)"
      ]
    },
    {
      "cell_type": "code",
      "execution_count": null,
      "metadata": {
        "colab": {
          "base_uri": "https://localhost:8080/"
        },
        "id": "7PB1aFDWC_2q",
        "outputId": "efc423cd-51bb-4cbe-9c5f-a55fd1564be5"
      },
      "outputs": [
        {
          "output_type": "execute_result",
          "data": {
            "text/plain": [
              "1.2911360152089475"
            ]
          },
          "metadata": {},
          "execution_count": 7
        }
      ],
      "source": [
        "EXP(0.45,-0.32)"
      ]
    },
    {
      "cell_type": "markdown",
      "metadata": {
        "id": "WpPAnk98C_2r"
      },
      "source": [
        "* We will use the __np.round(,4)__ function to make our answers easier understand.\n",
        "\n",
        "\n",
        "* The next case returns the following value to 4 d.p.\n"
      ]
    },
    {
      "cell_type": "code",
      "execution_count": null,
      "metadata": {
        "colab": {
          "base_uri": "https://localhost:8080/"
        },
        "id": "1yxNE3lKC_2s",
        "outputId": "21cd31d9-dd27-4a39-95e4-22aa8e4b6428"
      },
      "outputs": [
        {
          "output_type": "execute_result",
          "data": {
            "text/plain": [
              "1.4142j"
            ]
          },
          "metadata": {},
          "execution_count": 8
        }
      ],
      "source": [
        "np.round(EXP(-2,1/2),4)"
      ]
    },
    {
      "cell_type": "markdown",
      "metadata": {
        "id": "IxoCtMlyC_2s"
      },
      "source": [
        "* We find the answer $1.4142j$ where $j=\\sqrt{-1}$ and $\\sqrt{2}=1.4142$.\n",
        "\n",
        "\n",
        "* This makes sense because\n",
        "$$\n",
        "(-2)^{\\frac{1}{2}} = \\sqrt{-2}=\\sqrt{(2)(-1)}=\\sqrt{2}{\\sqrt{-1}} = 1.4142j.\n",
        "$$\n",
        "\n",
        "\n",
        "* This is why we must be careful when defining exponential functions, because  __fractions as exponents means taking roots__ and roots of __negative numbers__ often reqire __imaginary numbers__ using  $j=\\sqrt{-1}$."
      ]
    },
    {
      "cell_type": "markdown",
      "metadata": {
        "id": "iHnLDNaVC_2s"
      },
      "source": [
        "* We also find $(-2)^{\\frac{1}{3}}$ is"
      ]
    },
    {
      "cell_type": "code",
      "execution_count": null,
      "metadata": {
        "colab": {
          "base_uri": "https://localhost:8080/"
        },
        "id": "6Wty7fXaC_2t",
        "outputId": "4365ab7e-a01e-4848-80d8-1db809b2be3d"
      },
      "outputs": [
        {
          "output_type": "execute_result",
          "data": {
            "text/plain": [
              "(0.63+1.0911j)"
            ]
          },
          "metadata": {},
          "execution_count": 9
        }
      ],
      "source": [
        "np.round(EXP(-2,1/3),4)"
      ]
    },
    {
      "cell_type": "markdown",
      "metadata": {
        "id": "Ls8sGh2PC_2t"
      },
      "source": [
        "* Again, this is a __complex number__ because we are taking the __cube root__ of a negative number, which can have __real or complex__ values."
      ]
    },
    {
      "cell_type": "markdown",
      "metadata": {
        "id": "TeZFNJH6C_2t"
      },
      "source": [
        "## Exercise 1.1\n",
        "\n",
        "* Use the __EXP()__ function to calculate the following:\n",
        "\n",
        "  1. $5.68^{-1.32}$\n",
        "    \n",
        "  2. $0.56^{3.48}$\n",
        "    \n",
        "  3. $8.5^{-3/19}$"
      ]
    },
    {
      "cell_type": "code",
      "execution_count": null,
      "metadata": {
        "id": "Bs1Qtog3C_2t",
        "colab": {
          "base_uri": "https://localhost:8080/"
        },
        "outputId": "be98d85b-23af-4085-c1e7-8a7c0053c453"
      },
      "outputs": [
        {
          "output_type": "execute_result",
          "data": {
            "text/plain": [
              "0.10098577363027986"
            ]
          },
          "metadata": {},
          "execution_count": 10
        }
      ],
      "source": [
        "EXP(5.68,-1.32)"
      ]
    },
    {
      "cell_type": "code",
      "execution_count": null,
      "metadata": {
        "id": "MiKhajQZC_2t",
        "colab": {
          "base_uri": "https://localhost:8080/"
        },
        "outputId": "bdbdac7a-1ac1-4b2f-e9ab-c0a4559c8787"
      },
      "outputs": [
        {
          "output_type": "execute_result",
          "data": {
            "text/plain": [
              "0.1329518344318766"
            ]
          },
          "metadata": {},
          "execution_count": 11
        }
      ],
      "source": [
        "EXP(0.56,3.48)"
      ]
    },
    {
      "cell_type": "code",
      "execution_count": null,
      "metadata": {
        "id": "JrtcuoxGC_2u",
        "colab": {
          "base_uri": "https://localhost:8080/"
        },
        "outputId": "9ef4d091-636d-4077-df44-2c62e7efa376"
      },
      "outputs": [
        {
          "output_type": "execute_result",
          "data": {
            "text/plain": [
              "0.713262913635531"
            ]
          },
          "metadata": {},
          "execution_count": 12
        }
      ],
      "source": [
        "EXP(8.5,-3/19)"
      ]
    },
    {
      "cell_type": "markdown",
      "metadata": {
        "id": "xDBCoUswC_2u"
      },
      "source": [
        "* Use __EXP()__ and __np.round( ,3)__ to show that $(-1.3)^{1.5}$ and $(-8.7)^{0.44}$ are both __complex numbers__ (i.e. numbers involving $j$)."
      ]
    },
    {
      "cell_type": "code",
      "execution_count": null,
      "metadata": {
        "id": "VuVmVZdOC_2u",
        "colab": {
          "base_uri": "https://localhost:8080/"
        },
        "outputId": "9877d20c-6290-4ada-cfb8-f0183ba77c72"
      },
      "outputs": [
        {
          "output_type": "execute_result",
          "data": {
            "text/plain": [
              "(-0-1.482j)"
            ]
          },
          "metadata": {},
          "execution_count": 13
        }
      ],
      "source": [
        "np.round(EXP(-1.3,1.5),3)"
      ]
    },
    {
      "cell_type": "code",
      "execution_count": null,
      "metadata": {
        "id": "W9lSoZ32C_2u",
        "colab": {
          "base_uri": "https://localhost:8080/"
        },
        "outputId": "6476bcce-2bf4-4947-d35b-8494c02ae795"
      },
      "outputs": [
        {
          "output_type": "execute_result",
          "data": {
            "text/plain": [
              "(0.485+2.545j)"
            ]
          },
          "metadata": {},
          "execution_count": 14
        }
      ],
      "source": [
        "np.round(EXP(-8.7,0.44),3)"
      ]
    },
    {
      "cell_type": "code",
      "execution_count": null,
      "metadata": {
        "id": "b4i5x4lDC_2u"
      },
      "outputs": [],
      "source": []
    },
    {
      "cell_type": "markdown",
      "metadata": {
        "id": "cWxtKzsmC_2u"
      },
      "source": [
        "# Section 1.2 - Graphs of exponential functions\n",
        "\n",
        "* When the base $b$ appearing in $b^{x}$ is a __positve number__, then we can use __any number__ $x\\in(-\\infty,\\infty)$ for the __exponent__, and still get a __real output__.\n",
        "\n",
        "\n",
        "* This means we can always plot the graph of $b^x$ if $b>0$."
      ]
    },
    {
      "cell_type": "markdown",
      "metadata": {
        "id": "wGgV0rUGC_2v"
      },
      "source": [
        "## _Example 1.2_\n",
        "\n",
        "1. Use __np.linspace()__ to create the interval __X = [-4 , 3]__ with __N=161__ points.\n",
        "\n",
        "\n",
        "2. Now use __EXP()__ to calculate $2.25^{x}$ for each value in the interval __X.__\n",
        "\n",
        "\n",
        "3. Plot the graph of $2.25^{x}$ along the interval __X__. Include the $x$ and $y$ axes in this plot (see __Python Workbook 1__ if you forget!!)."
      ]
    },
    {
      "cell_type": "markdown",
      "metadata": {
        "id": "mXA1ywFfC_2v"
      },
      "source": [
        "### Solution\n",
        "\n",
        "1. The interval is given by"
      ]
    },
    {
      "cell_type": "code",
      "execution_count": null,
      "metadata": {
        "colab": {
          "base_uri": "https://localhost:8080/"
        },
        "id": "YwC1nIWlC_2v",
        "outputId": "218faa61-a745-4850-9d11-a6a14f09e5da"
      },
      "outputs": [
        {
          "output_type": "execute_result",
          "data": {
            "text/plain": [
              "array([-4.     , -3.95625, -3.9125 , -3.86875, -3.825  , -3.78125,\n",
              "       -3.7375 , -3.69375, -3.65   , -3.60625, -3.5625 , -3.51875,\n",
              "       -3.475  , -3.43125, -3.3875 , -3.34375, -3.3    , -3.25625,\n",
              "       -3.2125 , -3.16875, -3.125  , -3.08125, -3.0375 , -2.99375,\n",
              "       -2.95   , -2.90625, -2.8625 , -2.81875, -2.775  , -2.73125,\n",
              "       -2.6875 , -2.64375, -2.6    , -2.55625, -2.5125 , -2.46875,\n",
              "       -2.425  , -2.38125, -2.3375 , -2.29375, -2.25   , -2.20625,\n",
              "       -2.1625 , -2.11875, -2.075  , -2.03125, -1.9875 , -1.94375,\n",
              "       -1.9    , -1.85625, -1.8125 , -1.76875, -1.725  , -1.68125,\n",
              "       -1.6375 , -1.59375, -1.55   , -1.50625, -1.4625 , -1.41875,\n",
              "       -1.375  , -1.33125, -1.2875 , -1.24375, -1.2    , -1.15625,\n",
              "       -1.1125 , -1.06875, -1.025  , -0.98125, -0.9375 , -0.89375,\n",
              "       -0.85   , -0.80625, -0.7625 , -0.71875, -0.675  , -0.63125,\n",
              "       -0.5875 , -0.54375, -0.5    , -0.45625, -0.4125 , -0.36875,\n",
              "       -0.325  , -0.28125, -0.2375 , -0.19375, -0.15   , -0.10625,\n",
              "       -0.0625 , -0.01875,  0.025  ,  0.06875,  0.1125 ,  0.15625,\n",
              "        0.2    ,  0.24375,  0.2875 ,  0.33125,  0.375  ,  0.41875,\n",
              "        0.4625 ,  0.50625,  0.55   ,  0.59375,  0.6375 ,  0.68125,\n",
              "        0.725  ,  0.76875,  0.8125 ,  0.85625,  0.9    ,  0.94375,\n",
              "        0.9875 ,  1.03125,  1.075  ,  1.11875,  1.1625 ,  1.20625,\n",
              "        1.25   ,  1.29375,  1.3375 ,  1.38125,  1.425  ,  1.46875,\n",
              "        1.5125 ,  1.55625,  1.6    ,  1.64375,  1.6875 ,  1.73125,\n",
              "        1.775  ,  1.81875,  1.8625 ,  1.90625,  1.95   ,  1.99375,\n",
              "        2.0375 ,  2.08125,  2.125  ,  2.16875,  2.2125 ,  2.25625,\n",
              "        2.3    ,  2.34375,  2.3875 ,  2.43125,  2.475  ,  2.51875,\n",
              "        2.5625 ,  2.60625,  2.65   ,  2.69375,  2.7375 ,  2.78125,\n",
              "        2.825  ,  2.86875,  2.9125 ,  2.95625,  3.     ])"
            ]
          },
          "metadata": {},
          "execution_count": 15
        }
      ],
      "source": [
        "X=np.linspace(-4,3,161)\n",
        "X"
      ]
    },
    {
      "cell_type": "markdown",
      "metadata": {
        "id": "oE4HKLyHC_2v"
      },
      "source": [
        "2. The function $2.25^{x}$ for all $x$-values in the interval __X__ gives"
      ]
    },
    {
      "cell_type": "code",
      "execution_count": null,
      "metadata": {
        "colab": {
          "base_uri": "https://localhost:8080/"
        },
        "id": "SUIYnTgDC_2w",
        "outputId": "e29d7a44-91f0-4c86-b997-3d004117e638"
      },
      "outputs": [
        {
          "output_type": "execute_result",
          "data": {
            "text/plain": [
              "array([ 0.03901844,  0.0404276 ,  0.04188764,  0.04340042,  0.04496782,\n",
              "        0.04659184,  0.04827451,  0.05001794,  0.05182434,  0.05369598,\n",
              "        0.05563522,  0.05764449,  0.05972632,  0.06188334,  0.06411826,\n",
              "        0.06643389,  0.06883316,  0.07131907,  0.07389476,  0.07656348,\n",
              "        0.07932857,  0.08219353,  0.08516195,  0.08823758,  0.09142428,\n",
              "        0.09472608,  0.09814712,  0.1016917 ,  0.10536431,  0.10916954,\n",
              "        0.11311221,  0.11719726,  0.12142985,  0.12581529,  0.13035912,\n",
              "        0.13506705,  0.139945  ,  0.14499912,  0.15023578,  0.15566155,\n",
              "        0.16128328,  0.16710803,  0.17314315,  0.17939622,  0.18587513,\n",
              "        0.19258802,  0.19954334,  0.20674986,  0.21421665,  0.22195309,\n",
              "        0.22996894,  0.23827428,  0.24687957,  0.25579564,  0.26503372,\n",
              "        0.27460542,  0.28452282,  0.29479837,  0.30544503,  0.3164762 ,\n",
              "        0.32790575,  0.33974809,  0.35201811,  0.36473127,  0.37790356,\n",
              "        0.39155156,  0.40569247,  0.42034408,  0.43552483,  0.45125383,\n",
              "        0.46755089,  0.48443652,  0.50193197,  0.52005927,  0.53884124,\n",
              "        0.55830153,  0.57846462,  0.5993559 ,  0.62100167,  0.64342918,\n",
              "        0.66666667,  0.69074337,  0.71568961,  0.74153678,  0.76831742,\n",
              "        0.79606525,  0.82481519,  0.85460344,  0.88546749,  0.9174462 ,\n",
              "        0.95057982,  0.98491007,  1.02048015,  1.05733485,  1.09552056,\n",
              "        1.13508535,  1.17607902,  1.21855318,  1.2625613 ,  1.30815878,\n",
              "        1.35540301,  1.40435346,  1.45507177,  1.50762177,  1.56206962,\n",
              "        1.61848385,  1.67693549,  1.73749811,  1.80024795,  1.86526401,\n",
              "        1.93262813,  2.0024251 ,  2.0747428 ,  2.14967226,  2.22730779,\n",
              "        2.30774714,  2.39109156,  2.47744597,  2.56691908,  2.65962351,\n",
              "        2.75567596,  2.85519736,  2.95831297,  3.06515262,  3.17585078,\n",
              "        3.29054681,  3.4093851 ,  3.53251524,  3.66009223,  3.79227667,\n",
              "        3.92923496,  4.0711395 ,  4.21816894,  4.37050836,  4.52834952,\n",
              "        4.69189112,  4.86133904,  5.03690657,  5.21881474,  5.40729254,\n",
              "        5.60257722,  5.80491462,  6.01455944,  6.2317756 ,  6.45683653,\n",
              "        6.69002556,  6.93163621,  7.18197265,  7.44135001,  7.71009479,\n",
              "        7.98854531,  8.27705208,  8.57597829,  8.88570024,  9.20660781,\n",
              "        9.53910498,  9.88361031, 10.24055746, 10.61039578, 10.99359084,\n",
              "       11.390625  ])"
            ]
          },
          "metadata": {},
          "execution_count": 16
        }
      ],
      "source": [
        "EXP(2.25,X)"
      ]
    },
    {
      "cell_type": "markdown",
      "metadata": {
        "id": "WHy-8NMLC_2w"
      },
      "source": [
        "* As you can see, all these __outputs are real and positive!__\n",
        "\n",
        "\n",
        "* This is because the base $b=2.25$ is  __positive__."
      ]
    },
    {
      "cell_type": "markdown",
      "metadata": {
        "id": "Bln7l5h5C_2w"
      },
      "source": [
        "3. The graph of the function $2.25^{x}$ for each value $x\\in $ __X__ is given by:"
      ]
    },
    {
      "cell_type": "code",
      "execution_count": null,
      "metadata": {
        "colab": {
          "base_uri": "https://localhost:8080/",
          "height": 453
        },
        "id": "Jy0BUFmWC_2w",
        "outputId": "9715e14c-9255-4740-a0cc-3f3a0175a781"
      },
      "outputs": [
        {
          "output_type": "display_data",
          "data": {
            "text/plain": [
              "<Figure size 640x480 with 1 Axes>"
            ],
            "image/png": "[encoded data removed]"
          },
          "metadata": {}
        }
      ],
      "source": [
        "plt.plot(X,EXP(2.25,X),lw=2,c='dodgerblue') # Plot the graph of 2.25**a for a in A\n",
        "\n",
        "plt.axhline(y=0,lw=0.75,c='black') # Plot the x-axis\n",
        "plt.axvline(x=0,lw=0.75,c='black') # Plot the y-axis\n",
        "\n",
        "plt.xlabel('$x$')\n",
        "plt.ylabel('$2.25^{x}$')\n",
        "\n",
        "plt.show();"
      ]
    },
    {
      "cell_type": "markdown",
      "metadata": {
        "id": "f3tkRYppC_2x"
      },
      "source": [
        "* Notice that the graph of $2.25^x$ __increases__ as the exponent increases, i.e as $\\mathbf{x\\to+\\infty}$.\n",
        "\n",
        "\n",
        "* Conversely, the graph of $2.25^x$ __decreases__ as the exponent decreases, i.e. as $\\mathbf{x\\to-\\infty}$.\n",
        "\n",
        "\n",
        "* Also, the graph __never crosses the x-axis__ since the output is __always positive.__"
      ]
    },
    {
      "cell_type": "markdown",
      "metadata": {
        "id": "a84MxdIuC_2x"
      },
      "source": [
        "## Exercise 1.2\n",
        "\n",
        "1. Use __np.linspace()__ to define the interval __T = [-2 , 5]__ with __N = 201__ points."
      ]
    },
    {
      "cell_type": "code",
      "execution_count": null,
      "metadata": {
        "id": "FzdV2I0SC_2x"
      },
      "outputs": [],
      "source": [
        "T=np.linspace(-2,5,201)"
      ]
    },
    {
      "cell_type": "code",
      "execution_count": null,
      "metadata": {
        "id": "y0CDcn0NC_2x",
        "colab": {
          "base_uri": "https://localhost:8080/"
        },
        "outputId": "b4e8e262-fbdb-4328-e2c8-d9adeca260c1"
      },
      "outputs": [
        {
          "output_type": "execute_result",
          "data": {
            "text/plain": [
              "array([-2.000e+00, -1.965e+00, -1.930e+00, -1.895e+00, -1.860e+00,\n",
              "       -1.825e+00, -1.790e+00, -1.755e+00, -1.720e+00, -1.685e+00,\n",
              "       -1.650e+00, -1.615e+00, -1.580e+00, -1.545e+00, -1.510e+00,\n",
              "       -1.475e+00, -1.440e+00, -1.405e+00, -1.370e+00, -1.335e+00,\n",
              "       -1.300e+00, -1.265e+00, -1.230e+00, -1.195e+00, -1.160e+00,\n",
              "       -1.125e+00, -1.090e+00, -1.055e+00, -1.020e+00, -9.850e-01,\n",
              "       -9.500e-01, -9.150e-01, -8.800e-01, -8.450e-01, -8.100e-01,\n",
              "       -7.750e-01, -7.400e-01, -7.050e-01, -6.700e-01, -6.350e-01,\n",
              "       -6.000e-01, -5.650e-01, -5.300e-01, -4.950e-01, -4.600e-01,\n",
              "       -4.250e-01, -3.900e-01, -3.550e-01, -3.200e-01, -2.850e-01,\n",
              "       -2.500e-01, -2.150e-01, -1.800e-01, -1.450e-01, -1.100e-01,\n",
              "       -7.500e-02, -4.000e-02, -5.000e-03,  3.000e-02,  6.500e-02,\n",
              "        1.000e-01,  1.350e-01,  1.700e-01,  2.050e-01,  2.400e-01,\n",
              "        2.750e-01,  3.100e-01,  3.450e-01,  3.800e-01,  4.150e-01,\n",
              "        4.500e-01,  4.850e-01,  5.200e-01,  5.550e-01,  5.900e-01,\n",
              "        6.250e-01,  6.600e-01,  6.950e-01,  7.300e-01,  7.650e-01,\n",
              "        8.000e-01,  8.350e-01,  8.700e-01,  9.050e-01,  9.400e-01,\n",
              "        9.750e-01,  1.010e+00,  1.045e+00,  1.080e+00,  1.115e+00,\n",
              "        1.150e+00,  1.185e+00,  1.220e+00,  1.255e+00,  1.290e+00,\n",
              "        1.325e+00,  1.360e+00,  1.395e+00,  1.430e+00,  1.465e+00,\n",
              "        1.500e+00,  1.535e+00,  1.570e+00,  1.605e+00,  1.640e+00,\n",
              "        1.675e+00,  1.710e+00,  1.745e+00,  1.780e+00,  1.815e+00,\n",
              "        1.850e+00,  1.885e+00,  1.920e+00,  1.955e+00,  1.990e+00,\n",
              "        2.025e+00,  2.060e+00,  2.095e+00,  2.130e+00,  2.165e+00,\n",
              "        2.200e+00,  2.235e+00,  2.270e+00,  2.305e+00,  2.340e+00,\n",
              "        2.375e+00,  2.410e+00,  2.445e+00,  2.480e+00,  2.515e+00,\n",
              "        2.550e+00,  2.585e+00,  2.620e+00,  2.655e+00,  2.690e+00,\n",
              "        2.725e+00,  2.760e+00,  2.795e+00,  2.830e+00,  2.865e+00,\n",
              "        2.900e+00,  2.935e+00,  2.970e+00,  3.005e+00,  3.040e+00,\n",
              "        3.075e+00,  3.110e+00,  3.145e+00,  3.180e+00,  3.215e+00,\n",
              "        3.250e+00,  3.285e+00,  3.320e+00,  3.355e+00,  3.390e+00,\n",
              "        3.425e+00,  3.460e+00,  3.495e+00,  3.530e+00,  3.565e+00,\n",
              "        3.600e+00,  3.635e+00,  3.670e+00,  3.705e+00,  3.740e+00,\n",
              "        3.775e+00,  3.810e+00,  3.845e+00,  3.880e+00,  3.915e+00,\n",
              "        3.950e+00,  3.985e+00,  4.020e+00,  4.055e+00,  4.090e+00,\n",
              "        4.125e+00,  4.160e+00,  4.195e+00,  4.230e+00,  4.265e+00,\n",
              "        4.300e+00,  4.335e+00,  4.370e+00,  4.405e+00,  4.440e+00,\n",
              "        4.475e+00,  4.510e+00,  4.545e+00,  4.580e+00,  4.615e+00,\n",
              "        4.650e+00,  4.685e+00,  4.720e+00,  4.755e+00,  4.790e+00,\n",
              "        4.825e+00,  4.860e+00,  4.895e+00,  4.930e+00,  4.965e+00,\n",
              "        5.000e+00])"
            ]
          },
          "metadata": {},
          "execution_count": 19
        }
      ],
      "source": [
        "T"
      ]
    },
    {
      "cell_type": "markdown",
      "metadata": {
        "id": "6u2uG0daC_2y"
      },
      "source": [
        "2. Use __EXP()__ to calculate $3.2^{-t}$ for $t\\in$ __T__ and display these output values."
      ]
    },
    {
      "cell_type": "code",
      "execution_count": null,
      "metadata": {
        "id": "TEo6q-cLC_2y",
        "colab": {
          "base_uri": "https://localhost:8080/"
        },
        "outputId": "7b9d00c8-ea83-4902-8365-705f95f42bcb"
      },
      "outputs": [
        {
          "output_type": "execute_result",
          "data": {
            "text/plain": [
              "array([1.02400000e+01, 9.83149828e+00, 9.43929281e+00, 9.06273349e+00,\n",
              "       8.70119616e+00, 8.35408155e+00, 8.02081429e+00, 7.70084198e+00,\n",
              "       7.39363425e+00, 7.09868187e+00, 6.81549595e+00, 6.54360710e+00,\n",
              "       6.28256464e+00, 6.03193588e+00, 5.79130539e+00, 5.56027432e+00,\n",
              "       5.33845970e+00, 5.12549388e+00, 4.92102385e+00, 4.72471070e+00,\n",
              "       4.53622901e+00, 4.35526638e+00, 4.18152284e+00, 4.01471041e+00,\n",
              "       3.85455259e+00, 3.70078390e+00, 3.55314946e+00, 3.41140457e+00,\n",
              "       3.27531427e+00, 3.14465299e+00, 3.01920415e+00, 2.89875980e+00,\n",
              "       2.78312031e+00, 2.67209400e+00, 2.56549683e+00, 2.46315212e+00,\n",
              "       2.36489021e+00, 2.27054825e+00, 2.17996984e+00, 2.09300486e+00,\n",
              "       2.00950915e+00, 1.92934431e+00, 1.85237746e+00, 1.77848104e+00,\n",
              "       1.70753255e+00, 1.63941438e+00, 1.57401364e+00, 1.51122191e+00,\n",
              "       1.45093512e+00, 1.39305333e+00, 1.33748061e+00, 1.28412484e+00,\n",
              "       1.23289757e+00, 1.18371390e+00, 1.13649230e+00, 1.09115450e+00,\n",
              "       1.04762535e+00, 1.00583270e+00, 9.65707270e-01, 9.27182554e-01,\n",
              "       8.90194696e-01, 8.54682384e-01, 8.20586757e-01, 7.87851297e-01,\n",
              "       7.56421745e-01, 7.26246004e-01, 6.97274057e-01, 6.69457879e-01,\n",
              "       6.42751366e-01, 6.17110249e-01, 5.92492026e-01, 5.68855892e-01,\n",
              "       5.46162668e-01, 5.24374739e-01, 5.03455991e-01, 4.83371748e-01,\n",
              "       4.64088722e-01, 4.45574948e-01, 4.27799740e-01, 4.10733633e-01,\n",
              "       3.94348340e-01, 3.78616702e-01, 3.63512642e-01, 3.49011124e-01,\n",
              "       3.35088112e-01, 3.21720527e-01, 3.08886211e-01, 2.96563892e-01,\n",
              "       2.84733144e-01, 2.73374357e-01, 2.62468703e-01, 2.51998105e-01,\n",
              "       2.41945209e-01, 2.32293350e-01, 2.23026530e-01, 2.14129389e-01,\n",
              "       2.05587180e-01, 1.97385743e-01, 1.89511483e-01, 1.81951350e-01,\n",
              "       1.74692811e-01, 1.67723835e-01, 1.61032870e-01, 1.54608827e-01,\n",
              "       1.48441056e-01, 1.42519335e-01, 1.36833847e-01, 1.31375169e-01,\n",
              "       1.26134253e-01, 1.21102411e-01, 1.16271303e-01, 1.11632922e-01,\n",
              "       1.07179578e-01, 1.02903890e-01, 9.87987712e-02, 9.48574169e-02,\n",
              "       9.10732940e-02, 8.74401302e-02, 8.39519032e-02, 8.06028312e-02,\n",
              "       7.73873629e-02, 7.43001685e-02, 7.13361307e-02, 6.84903365e-02,\n",
              "       6.57580689e-02, 6.31347989e-02, 6.06161784e-02, 5.81980325e-02,\n",
              "       5.58763532e-02, 5.36472920e-02, 5.15071542e-02, 4.94523923e-02,\n",
              "       4.74796006e-02, 4.55855089e-02, 4.37669778e-02, 4.20209928e-02,\n",
              "       4.03446600e-02, 3.87352007e-02, 3.71899472e-02, 3.57063380e-02,\n",
              "       3.42819141e-02, 3.29143144e-02, 3.16012720e-02, 3.03406105e-02,\n",
              "       2.91302402e-02, 2.79681549e-02, 2.68524284e-02, 2.57812113e-02,\n",
              "       2.47527280e-02, 2.37652737e-02, 2.28172116e-02, 2.19069704e-02,\n",
              "       2.10330412e-02, 2.01939754e-02, 1.93883823e-02, 1.86149264e-02,\n",
              "       1.78723259e-02, 1.71593497e-02, 1.64748161e-02, 1.58175905e-02,\n",
              "       1.51865833e-02, 1.45807488e-02, 1.39990827e-02, 1.34406209e-02,\n",
              "       1.29044376e-02, 1.23896441e-02, 1.18953872e-02, 1.14208475e-02,\n",
              "       1.09652385e-02, 1.05278051e-02, 1.01078220e-02, 9.70459323e-03,\n",
              "       9.31745035e-03, 8.94575166e-03, 8.58888106e-03, 8.24624701e-03,\n",
              "       7.91728157e-03, 7.60143946e-03, 7.29819716e-03, 7.00705203e-03,\n",
              "       6.72752148e-03, 6.45914217e-03, 6.20146925e-03, 5.95407561e-03,\n",
              "       5.71655118e-03, 5.48850226e-03, 5.26955083e-03, 5.05933397e-03,\n",
              "       4.85750324e-03, 4.66372410e-03, 4.47767534e-03, 4.29904857e-03,\n",
              "       4.12754771e-03, 3.96288850e-03, 3.80479799e-03, 3.65301415e-03,\n",
              "       3.50728538e-03, 3.36737014e-03, 3.23303649e-03, 3.10406179e-03,\n",
              "       2.98023224e-03])"
            ]
          },
          "metadata": {},
          "execution_count": 20
        }
      ],
      "source": [
        "EXP(3.2,-T)"
      ]
    },
    {
      "cell_type": "code",
      "execution_count": null,
      "metadata": {
        "id": "puZTmgFNC_2y"
      },
      "outputs": [],
      "source": []
    },
    {
      "cell_type": "markdown",
      "metadata": {
        "id": "Df_-b-iTC_2y"
      },
      "source": [
        "3. Plot the graph of $3.2^{-t}$ along the interval __T__.\n",
        "\n",
        "\n",
        "* According to this graph, does the function $3.2^{-t}$ increase or decrease as $\\mathbf{ t \\to + \\infty ?}$"
      ]
    },
    {
      "cell_type": "code",
      "execution_count": null,
      "metadata": {
        "id": "dVO5bC56C_2y",
        "colab": {
          "base_uri": "https://localhost:8080/",
          "height": 453
        },
        "outputId": "50f33616-95b4-4f65-8301-e8efa9b8cc2f"
      },
      "outputs": [
        {
          "output_type": "display_data",
          "data": {
            "text/plain": [
              "<Figure size 640x480 with 1 Axes>"
            ],
            "image/png": "[encoded data removed]"
          },
          "metadata": {}
        }
      ],
      "source": [
        "plt.plot(T,EXP(3.2,-T),lw=2,c=\"dodgerblue\")\n",
        "\n",
        "plt.axhline(y=0,lw=0.75,c='black')\n",
        "plt.axvline(x=0,lw=0.75,c='black')\n",
        "\n",
        "plt.xlabel('$x$')\n",
        "plt.ylabel('$3.2^{-t}$')\n",
        "\n",
        "plt.show();"
      ]
    },
    {
      "cell_type": "code",
      "execution_count": null,
      "metadata": {
        "id": "RcskuOkQcdl-"
      },
      "outputs": [],
      "source": [
        "#The graph show that the function 3.2^-t is decreasing."
      ]
    },
    {
      "cell_type": "code",
      "execution_count": null,
      "metadata": {
        "id": "oFmGZwm1cd21"
      },
      "outputs": [],
      "source": []
    },
    {
      "cell_type": "markdown",
      "metadata": {
        "id": "WL-8uDlCZrXl"
      },
      "source": [
        "---\n",
        "\n",
        "# Section 2: Logarithmic Functions\n",
        "* The __inverse__ of exponential functions are called __logarithmic__  functions of the form\n",
        "$$\n",
        "g(a) = \\log_{b} (a)\n",
        "$$\n",
        "where the __base__ $b$ is again a __positive number__, while the input $a$ must also be a __positive real number.__\n",
        "\n",
        "---"
      ]
    },
    {
      "cell_type": "markdown",
      "metadata": {
        "id": "LMVzSRz9H2SU"
      },
      "source": [
        "# Section 2.1 - What are Logarithm Functions\n",
        "\n",
        "* The logarithm function\n",
        "$$\n",
        "\\log_{b}(a),\n",
        "$$\n",
        "tells us the __power__ $x$ we require so that $b^{x}=a$\n",
        "\n",
        "\n",
        "* The __base__ $b$ is required to be __positve__, otherwise we will get complex outputs.\n",
        "\n",
        "\n",
        "* It is also required that the __argument__ $a$ is positive, again so that we avoid complex outputs.\n",
        "\n",
        "\n",
        "## The available __log()__ functions\n",
        "\n",
        "* The __numpy__ library has a built-in __np.log()__ function, however the base __b__ can only accept select values, specifically $e$, $2$ and $10$.\n",
        "\n",
        "\n",
        "## Change of Base Formula\n",
        "\n",
        "* Most scientific calculators only allow us to calculate $\\log_{e}(a)$ (often called $\\ln(a)$ for __Natural Logarithm__) and $\\log_{10}(a)$.\n",
        "\n",
        "\n",
        "* However, we can always use either of these logarithms to calculate $\\log_{b}(a)$ for __any positive__ base $b$ using the formula:\n",
        "$$\n",
        "\\log_{b}(a) = \\frac{\\ln(a)}{\\ln(b)}\n",
        "$$\n",
        "or\n",
        "$$\n",
        "\\log_{b}(a) = \\frac{\\log_{10}(a)}{\\log_{10}(b)}\n",
        "$$\n",
        "\n",
        "* We can use this formula to __define__ our own __general logarithm function__ for any base b:"
      ]
    },
    {
      "cell_type": "code",
      "execution_count": null,
      "metadata": {
        "id": "LDRDLt5lK8ro"
      },
      "outputs": [],
      "source": [
        "def LOG(a,b):\n",
        "    return np.log(a)/np.log(b)"
      ]
    },
    {
      "cell_type": "markdown",
      "metadata": {
        "id": "RFBXEB0iSK6f"
      },
      "source": [
        "* The __numpy__ log function __np.log(a)__ means $\\ln(a)$, i.e. __np.log(a)__ means the __Natural Log__ of the argument __a__\n",
        "\n",
        "* Again, we call our function __LOG()__ since __np.log()__ is already defined in __numpy__"
      ]
    },
    {
      "cell_type": "markdown",
      "metadata": {
        "id": "B8tfWV7fLW4V"
      },
      "source": [
        "## _Example_ 2.1 - Logs as exponents\n",
        "\n",
        "Use the __LOG()__ function defined above to evaluate the following:\n",
        "\n",
        " 1. $\\log_{4}(14)$\n",
        "\n",
        " 2. $\\log_{1.3}(0.8)$\n"
      ]
    },
    {
      "cell_type": "code",
      "execution_count": null,
      "metadata": {
        "colab": {
          "base_uri": "https://localhost:8080/"
        },
        "id": "HHt5qc1iK8uH",
        "outputId": "8240ee82-4f49-4613-a796-fca538d68e33"
      },
      "outputs": [
        {
          "output_type": "execute_result",
          "data": {
            "text/plain": [
              "1.9036774610288019"
            ]
          },
          "metadata": {},
          "execution_count": 24
        }
      ],
      "source": [
        "LOG(14,4)"
      ]
    },
    {
      "cell_type": "markdown",
      "metadata": {
        "id": "q1MjDydhNxdl"
      },
      "source": [
        "* This means $4^{1.9036774610288019}=14$.\n",
        "\n",
        "* We check this in the cell below:"
      ]
    },
    {
      "cell_type": "code",
      "execution_count": null,
      "metadata": {
        "colab": {
          "base_uri": "https://localhost:8080/"
        },
        "id": "cNwHuXYkN-HN",
        "outputId": "f92b8d04-190c-44a8-fd9f-d7247893f5a4"
      },
      "outputs": [
        {
          "output_type": "execute_result",
          "data": {
            "text/plain": [
              "13.999999999999996"
            ]
          },
          "metadata": {},
          "execution_count": 25
        }
      ],
      "source": [
        "4**(1.9036774610288019)"
      ]
    },
    {
      "cell_type": "markdown",
      "metadata": {
        "id": "r4FKrM5iOHEY"
      },
      "source": [
        "* This is basically $14$ up to a rounding error, as it should be!!\n",
        "\n",
        "\n",
        "\n",
        "\n",
        "2. Similarly we find:"
      ]
    },
    {
      "cell_type": "code",
      "execution_count": null,
      "metadata": {
        "colab": {
          "base_uri": "https://localhost:8080/"
        },
        "id": "WHgFLdUAK8wf",
        "outputId": "213edb18-ca4b-455c-e84e-36be23b8256f"
      },
      "outputs": [
        {
          "output_type": "execute_result",
          "data": {
            "text/plain": [
              "-3.492437256018494"
            ]
          },
          "metadata": {},
          "execution_count": 26
        }
      ],
      "source": [
        "LOG(0.4,1.3)"
      ]
    },
    {
      "cell_type": "markdown",
      "metadata": {
        "id": "RPTqMmN3OfTh"
      },
      "source": [
        "* This tells us $1.3^{-3.492437256018494} = 0.4$, which we can also check as follows:"
      ]
    },
    {
      "cell_type": "code",
      "execution_count": null,
      "metadata": {
        "colab": {
          "base_uri": "https://localhost:8080/"
        },
        "id": "qsFVn4vjK8y4",
        "outputId": "1548e9a7-bdf3-4d34-f43a-60e498caec31"
      },
      "outputs": [
        {
          "output_type": "execute_result",
          "data": {
            "text/plain": [
              "0.39999999999999997"
            ]
          },
          "metadata": {},
          "execution_count": 27
        }
      ],
      "source": [
        "1.3**(LOG(0.4,1.3))"
      ]
    },
    {
      "cell_type": "markdown",
      "metadata": {
        "id": "xwylUj7eMUfp"
      },
      "source": [
        "---\n",
        "## IMPORTANT\n",
        "\n",
        "* In general we always have\n",
        "$$\n",
        "\\LARGE{b^{\\log_{b}(a)} = a; \\qquad \\log_{b}(b^{x}) = x}\n",
        "$$\n",
        "\n",
        "----"
      ]
    },
    {
      "cell_type": "markdown",
      "metadata": {
        "id": "Jdy6ub4oPUZa"
      },
      "source": [
        "## _Example 2.2_\n",
        "\n",
        "* Use __np.linspace()__ to define the interval __A = [ 0.45 , 5.15 ]__ with __N = 251__ points.\n",
        "\n",
        "\n",
        "\n",
        "\n"
      ]
    },
    {
      "cell_type": "code",
      "execution_count": null,
      "metadata": {
        "id": "0V0Xigq8QG9y"
      },
      "outputs": [],
      "source": [
        "A = np.linspace(0.45,5.15,251)"
      ]
    },
    {
      "cell_type": "markdown",
      "metadata": {
        "id": "L49wifCmQHZW"
      },
      "source": [
        "\n",
        "* Use __log()__ to evaluate $\\log_{2.5}(a)$ for each $a\\in$ __A__"
      ]
    },
    {
      "cell_type": "code",
      "execution_count": null,
      "metadata": {
        "colab": {
          "base_uri": "https://localhost:8080/"
        },
        "id": "Jr5qtVhJQHjW",
        "outputId": "ca0a1161-8d33-4823-cc10-c255d71c3c43"
      },
      "outputs": [
        {
          "output_type": "execute_result",
          "data": {
            "text/plain": [
              "array([-0.8714567 , -0.82678894, -0.78387771, -0.74259008, -0.70280765,\n",
              "       -0.66442452, -0.62734559, -0.59148514, -0.55676562, -0.52311667,\n",
              "       -0.49047423, -0.45877985, -0.42797999, -0.39802554, -0.36887134,\n",
              "       -0.34047574, -0.31280025, -0.28580926, -0.25946972, -0.23375093,\n",
              "       -0.20862429, -0.18406316, -0.16004263, -0.13653943, -0.11353173,\n",
              "       -0.09099907, -0.06892225, -0.04728316, -0.02606481, -0.00525112,\n",
              "        0.01517303,  0.03522197,  0.05490922,  0.07424762,  0.09324931,\n",
              "        0.11192582,  0.13028808,  0.14834649,  0.16611096,  0.18359089,\n",
              "        0.20079526,  0.21773262,  0.23441113,  0.25083859,  0.26702243,\n",
              "        0.28296979,  0.29868747,  0.314182  ,  0.32945962,  0.34452631,\n",
              "        0.35938784,  0.37404971,  0.3885172 ,  0.40279542,  0.41688925,\n",
              "        0.43080338,  0.44454235,  0.45811051,  0.47151205,  0.48475102,\n",
              "        0.49783132,  0.5107567 ,  0.52353078,  0.53615708,  0.54863897,\n",
              "        0.56097972,  0.57318248,  0.5852503 ,  0.59718614,  0.60899285,\n",
              "        0.6206732 ,  0.63222986,  0.64366543,  0.65498241,  0.66618324,\n",
              "        0.67727029,  0.68824583,  0.69911209,  0.70987123,  0.72052533,\n",
              "        0.73107643,  0.74152649,  0.75187745,  0.76213115,  0.77228941,\n",
              "        0.78235399,  0.7923266 ,  0.8022089 ,  0.81200253,  0.82170905,\n",
              "        0.83133   ,  0.84086687,  0.85032113,  0.85969419,  0.86898744,\n",
              "        0.87820222,  0.88733985,  0.8964016 ,  0.90538873,  0.91430246,\n",
              "        0.92314397,  0.93191443,  0.94061497,  0.9492467 ,  0.95781069,\n",
              "        0.966308  ,  0.97473967,  0.98310669,  0.99141005,  0.99965071,\n",
              "        1.00782962,  1.01594768,  1.02400581,  1.03200487,  1.03994573,\n",
              "        1.04782923,  1.05565619,  1.06342742,  1.0711437 ,  1.0788058 ,\n",
              "        1.08641449,  1.0939705 ,  1.10147456,  1.10892737,  1.11632963,\n",
              "        1.12368202,  1.13098521,  1.13823985,  1.14544659,  1.15260605,\n",
              "        1.15971884,  1.16678559,  1.17380686,  1.18078326,  1.18771534,\n",
              "        1.19460367,  1.20144879,  1.20825125,  1.21501157,  1.22173027,\n",
              "        1.22840786,  1.23504484,  1.24164171,  1.24819894,  1.254717  ,\n",
              "        1.26119637,  1.2676375 ,  1.27404083,  1.28040681,  1.28673588,\n",
              "        1.29302845,  1.29928495,  1.30550578,  1.31169136,  1.31784208,\n",
              "        1.32395832,  1.33004048,  1.33608894,  1.34210405,  1.34808619,\n",
              "        1.35403573,  1.359953  ,  1.36583836,  1.37169216,  1.37751473,\n",
              "        1.38330639,  1.38906748,  1.39479832,  1.40049923,  1.4061705 ,\n",
              "        1.41181246,  1.41742541,  1.42300963,  1.42856542,  1.43409308,\n",
              "        1.43959288,  1.4450651 ,  1.45051002,  1.45592791,  1.46131903,\n",
              "        1.46668366,  1.47202204,  1.47733444,  1.48262111,  1.48788229,\n",
              "        1.49311822,  1.49832916,  1.50351534,  1.50867698,  1.51381433,\n",
              "        1.51892761,  1.52401704,  1.52908285,  1.53412526,  1.53914447,\n",
              "        1.54414071,  1.54911417,  1.55406508,  1.55899363,  1.56390001,\n",
              "        1.56878445,  1.57364711,  1.57848821,  1.58330793,  1.58810645,\n",
              "        1.59288397,  1.59764067,  1.60237673,  1.60709232,  1.61178762,\n",
              "        1.61646281,  1.62111806,  1.62575353,  1.6303694 ,  1.63496583,\n",
              "        1.63954298,  1.64410101,  1.64864009,  1.65316037,  1.657662  ,\n",
              "        1.66214514,  1.66660994,  1.67105654,  1.67548511,  1.67989577,\n",
              "        1.68428868,  1.68866398,  1.69302181,  1.69736231,  1.70168561,\n",
              "        1.70599186,  1.71028118,  1.7145537 ,  1.71880957,  1.72304891,\n",
              "        1.72727184,  1.73147849,  1.73566899,  1.73984346,  1.74400203,\n",
              "        1.74814481,  1.75227192,  1.75638349,  1.76047962,  1.76456043,\n",
              "        1.76862605,  1.77267657,  1.77671212,  1.7807328 ,  1.78473872,\n",
              "        1.78872999])"
            ]
          },
          "metadata": {},
          "execution_count": 29
        }
      ],
      "source": [
        "LOG(A,2.5)"
      ]
    },
    {
      "cell_type": "markdown",
      "metadata": {
        "id": "El4XWs3LQHyX"
      },
      "source": [
        "\n",
        "* Now calculate $2.5^{\\log_{2.5}(a)}$ for each $a\\in$ __A__ to show. Is this equal to the original interval __A?__"
      ]
    },
    {
      "cell_type": "code",
      "execution_count": null,
      "metadata": {
        "colab": {
          "base_uri": "https://localhost:8080/"
        },
        "id": "qPLCQDjtSvZm",
        "outputId": "36034a97-e97c-44a6-dcb1-141d3bef3c2f"
      },
      "outputs": [
        {
          "output_type": "execute_result",
          "data": {
            "text/plain": [
              "array([0.45  , 0.4688, 0.4876, 0.5064, 0.5252, 0.544 , 0.5628, 0.5816,\n",
              "       0.6004, 0.6192, 0.638 , 0.6568, 0.6756, 0.6944, 0.7132, 0.732 ,\n",
              "       0.7508, 0.7696, 0.7884, 0.8072, 0.826 , 0.8448, 0.8636, 0.8824,\n",
              "       0.9012, 0.92  , 0.9388, 0.9576, 0.9764, 0.9952, 1.014 , 1.0328,\n",
              "       1.0516, 1.0704, 1.0892, 1.108 , 1.1268, 1.1456, 1.1644, 1.1832,\n",
              "       1.202 , 1.2208, 1.2396, 1.2584, 1.2772, 1.296 , 1.3148, 1.3336,\n",
              "       1.3524, 1.3712, 1.39  , 1.4088, 1.4276, 1.4464, 1.4652, 1.484 ,\n",
              "       1.5028, 1.5216, 1.5404, 1.5592, 1.578 , 1.5968, 1.6156, 1.6344,\n",
              "       1.6532, 1.672 , 1.6908, 1.7096, 1.7284, 1.7472, 1.766 , 1.7848,\n",
              "       1.8036, 1.8224, 1.8412, 1.86  , 1.8788, 1.8976, 1.9164, 1.9352,\n",
              "       1.954 , 1.9728, 1.9916, 2.0104, 2.0292, 2.048 , 2.0668, 2.0856,\n",
              "       2.1044, 2.1232, 2.142 , 2.1608, 2.1796, 2.1984, 2.2172, 2.236 ,\n",
              "       2.2548, 2.2736, 2.2924, 2.3112, 2.33  , 2.3488, 2.3676, 2.3864,\n",
              "       2.4052, 2.424 , 2.4428, 2.4616, 2.4804, 2.4992, 2.518 , 2.5368,\n",
              "       2.5556, 2.5744, 2.5932, 2.612 , 2.6308, 2.6496, 2.6684, 2.6872,\n",
              "       2.706 , 2.7248, 2.7436, 2.7624, 2.7812, 2.8   , 2.8188, 2.8376,\n",
              "       2.8564, 2.8752, 2.894 , 2.9128, 2.9316, 2.9504, 2.9692, 2.988 ,\n",
              "       3.0068, 3.0256, 3.0444, 3.0632, 3.082 , 3.1008, 3.1196, 3.1384,\n",
              "       3.1572, 3.176 , 3.1948, 3.2136, 3.2324, 3.2512, 3.27  , 3.2888,\n",
              "       3.3076, 3.3264, 3.3452, 3.364 , 3.3828, 3.4016, 3.4204, 3.4392,\n",
              "       3.458 , 3.4768, 3.4956, 3.5144, 3.5332, 3.552 , 3.5708, 3.5896,\n",
              "       3.6084, 3.6272, 3.646 , 3.6648, 3.6836, 3.7024, 3.7212, 3.74  ,\n",
              "       3.7588, 3.7776, 3.7964, 3.8152, 3.834 , 3.8528, 3.8716, 3.8904,\n",
              "       3.9092, 3.928 , 3.9468, 3.9656, 3.9844, 4.0032, 4.022 , 4.0408,\n",
              "       4.0596, 4.0784, 4.0972, 4.116 , 4.1348, 4.1536, 4.1724, 4.1912,\n",
              "       4.21  , 4.2288, 4.2476, 4.2664, 4.2852, 4.304 , 4.3228, 4.3416,\n",
              "       4.3604, 4.3792, 4.398 , 4.4168, 4.4356, 4.4544, 4.4732, 4.492 ,\n",
              "       4.5108, 4.5296, 4.5484, 4.5672, 4.586 , 4.6048, 4.6236, 4.6424,\n",
              "       4.6612, 4.68  , 4.6988, 4.7176, 4.7364, 4.7552, 4.774 , 4.7928,\n",
              "       4.8116, 4.8304, 4.8492, 4.868 , 4.8868, 4.9056, 4.9244, 4.9432,\n",
              "       4.962 , 4.9808, 4.9996, 5.0184, 5.0372, 5.056 , 5.0748, 5.0936,\n",
              "       5.1124, 5.1312, 5.15  ])"
            ]
          },
          "metadata": {},
          "execution_count": 30
        }
      ],
      "source": [
        "2.5**LOG(A,2.5)"
      ]
    },
    {
      "cell_type": "markdown",
      "metadata": {
        "id": "S_FtByVXS2hD"
      },
      "source": [
        "* Hence, we see that $2.5^{\\log_{2.5}(a)} = a$ for each $a\\in$ __A__, as we expect!!!"
      ]
    },
    {
      "cell_type": "markdown",
      "metadata": {
        "id": "JJr8q6k1TINI"
      },
      "source": [
        "4. Plot $\\log_{2.5}(a)$ along the interval __A__"
      ]
    },
    {
      "cell_type": "code",
      "execution_count": null,
      "metadata": {
        "colab": {
          "base_uri": "https://localhost:8080/",
          "height": 453
        },
        "id": "wG6x8GATTVkL",
        "outputId": "2dc497bf-c4e1-493d-8f5b-141c203137c7"
      },
      "outputs": [
        {
          "output_type": "display_data",
          "data": {
            "text/plain": [
              "<Figure size 640x480 with 1 Axes>"
            ],
            "image/png": "[encoded data removed]"
          },
          "metadata": {}
        }
      ],
      "source": [
        "plt.plot(A,LOG(A,2.5),lw=2,c='dodgerblue') # Plot the graph of 2.25**a for a in A\n",
        "\n",
        "plt.axhline(y=0,lw=0.75,c='black') # Plot the x-axis\n",
        "plt.axvline(x=0,lw=0.75,c='black') # Plot the y-axis\n",
        "\n",
        "plt.xlabel('$a$')\n",
        "plt.ylabel('$\\log_{2.5}(a)$')\n",
        "\n",
        "plt.show();"
      ]
    },
    {
      "cell_type": "code",
      "execution_count": null,
      "metadata": {
        "id": "PtqXNFpSUj2_"
      },
      "outputs": [],
      "source": []
    },
    {
      "cell_type": "markdown",
      "metadata": {
        "id": "3msAVIKrUidw"
      },
      "source": [
        "## __Exercise__ 2.2\n",
        "\n",
        "1. Use __np.linspace()__ to define the interval __Q = [0.08 , 5]__ with __N = 161__ points"
      ]
    },
    {
      "cell_type": "code",
      "execution_count": null,
      "metadata": {
        "id": "C2O2ibwnU_0_",
        "colab": {
          "base_uri": "https://localhost:8080/"
        },
        "outputId": "03274be4-7180-4e2a-b560-47edb11baddf"
      },
      "outputs": [
        {
          "output_type": "execute_result",
          "data": {
            "text/plain": [
              "array([0.08   , 0.11075, 0.1415 , 0.17225, 0.203  , 0.23375, 0.2645 ,\n",
              "       0.29525, 0.326  , 0.35675, 0.3875 , 0.41825, 0.449  , 0.47975,\n",
              "       0.5105 , 0.54125, 0.572  , 0.60275, 0.6335 , 0.66425, 0.695  ,\n",
              "       0.72575, 0.7565 , 0.78725, 0.818  , 0.84875, 0.8795 , 0.91025,\n",
              "       0.941  , 0.97175, 1.0025 , 1.03325, 1.064  , 1.09475, 1.1255 ,\n",
              "       1.15625, 1.187  , 1.21775, 1.2485 , 1.27925, 1.31   , 1.34075,\n",
              "       1.3715 , 1.40225, 1.433  , 1.46375, 1.4945 , 1.52525, 1.556  ,\n",
              "       1.58675, 1.6175 , 1.64825, 1.679  , 1.70975, 1.7405 , 1.77125,\n",
              "       1.802  , 1.83275, 1.8635 , 1.89425, 1.925  , 1.95575, 1.9865 ,\n",
              "       2.01725, 2.048  , 2.07875, 2.1095 , 2.14025, 2.171  , 2.20175,\n",
              "       2.2325 , 2.26325, 2.294  , 2.32475, 2.3555 , 2.38625, 2.417  ,\n",
              "       2.44775, 2.4785 , 2.50925, 2.54   , 2.57075, 2.6015 , 2.63225,\n",
              "       2.663  , 2.69375, 2.7245 , 2.75525, 2.786  , 2.81675, 2.8475 ,\n",
              "       2.87825, 2.909  , 2.93975, 2.9705 , 3.00125, 3.032  , 3.06275,\n",
              "       3.0935 , 3.12425, 3.155  , 3.18575, 3.2165 , 3.24725, 3.278  ,\n",
              "       3.30875, 3.3395 , 3.37025, 3.401  , 3.43175, 3.4625 , 3.49325,\n",
              "       3.524  , 3.55475, 3.5855 , 3.61625, 3.647  , 3.67775, 3.7085 ,\n",
              "       3.73925, 3.77   , 3.80075, 3.8315 , 3.86225, 3.893  , 3.92375,\n",
              "       3.9545 , 3.98525, 4.016  , 4.04675, 4.0775 , 4.10825, 4.139  ,\n",
              "       4.16975, 4.2005 , 4.23125, 4.262  , 4.29275, 4.3235 , 4.35425,\n",
              "       4.385  , 4.41575, 4.4465 , 4.47725, 4.508  , 4.53875, 4.5695 ,\n",
              "       4.60025, 4.631  , 4.66175, 4.6925 , 4.72325, 4.754  , 4.78475,\n",
              "       4.8155 , 4.84625, 4.877  , 4.90775, 4.9385 , 4.96925, 5.     ])"
            ]
          },
          "metadata": {},
          "execution_count": 32
        }
      ],
      "source": [
        "Q=np.linspace(0.08,5,161)\n",
        "Q"
      ]
    },
    {
      "cell_type": "markdown",
      "metadata": {
        "id": "Vu4169P-Uitn"
      },
      "source": [
        "2. Now use the function __LOG()__ to calculate $\\log_{0.45}(q)$ for each $q\\in$ __Q__"
      ]
    },
    {
      "cell_type": "code",
      "execution_count": null,
      "metadata": {
        "id": "3tsCcoeZVUcD",
        "colab": {
          "base_uri": "https://localhost:8080/"
        },
        "outputId": "76072a71-bb9d-4cde-cb67-329fba3fbaeb"
      },
      "outputs": [
        {
          "output_type": "execute_result",
          "data": {
            "text/plain": [
              "array([ 3.16306112e+00,  2.75574034e+00,  2.44888756e+00,  2.20261918e+00,\n",
              "        1.99691162e+00,  1.82027439e+00,  1.66549932e+00,  1.52776589e+00,\n",
              "        1.40369079e+00,  1.29080788e+00,  1.18726399e+00,  1.09163123e+00,\n",
              "        1.00278607e+00,  9.19828510e-01,  8.42026501e-01,  7.68776560e-01,\n",
              "        6.99575333e-01,  6.33998601e-01,  5.71685510e-01,  5.12326551e-01,\n",
              "        4.55654260e-01,  4.01435926e-01,  3.49467822e-01,  2.99570587e-01,\n",
              "        2.51585480e-01,  2.05371346e-01,  1.60802100e-01,  1.17764666e-01,\n",
              "        7.61572364e-02,  3.58878310e-02, -3.12693317e-03, -4.09628793e-02,\n",
              "       -7.76891584e-02, -1.13369010e-01, -1.48060416e-01, -1.81816669e-01,\n",
              "       -2.14686867e-01, -2.46716337e-01, -2.77947015e-01, -3.08417777e-01,\n",
              "       -3.38164727e-01, -3.67221456e-01, -3.95619269e-01, -4.23387390e-01,\n",
              "       -4.50553139e-01, -4.77142096e-01, -5.03178247e-01, -5.28684110e-01,\n",
              "       -5.53680857e-01, -5.78188415e-01, -6.02225564e-01, -6.25810022e-01,\n",
              "       -6.48958527e-01, -6.71686902e-01, -6.94010128e-01, -7.15942394e-01,\n",
              "       -7.37497161e-01, -7.58687204e-01, -7.79524659e-01, -8.00021070e-01,\n",
              "       -8.20187421e-01, -8.40034172e-01, -8.59571297e-01, -8.78808308e-01,\n",
              "       -8.97754287e-01, -9.16417907e-01, -9.34807462e-01, -9.52930884e-01,\n",
              "       -9.70795766e-01, -9.88409382e-01, -1.00577870e+00, -1.02291041e+00,\n",
              "       -1.03981092e+00, -1.05648638e+00, -1.07294272e+00, -1.08918561e+00,\n",
              "       -1.10522053e+00, -1.12105273e+00, -1.13668728e+00, -1.15212904e+00,\n",
              "       -1.16738271e+00, -1.18245283e+00, -1.19734375e+00, -1.21205969e+00,\n",
              "       -1.22660472e+00, -1.24098275e+00, -1.25519758e+00, -1.26925287e+00,\n",
              "       -1.28315216e+00, -1.29689888e+00, -1.31049634e+00, -1.32394775e+00,\n",
              "       -1.33725622e+00, -1.35042473e+00, -1.36345622e+00, -1.37635351e+00,\n",
              "       -1.38911932e+00, -1.40175631e+00, -1.41426707e+00, -1.42665407e+00,\n",
              "       -1.43891975e+00, -1.45106647e+00, -1.46309650e+00, -1.47501206e+00,\n",
              "       -1.48681533e+00, -1.49850838e+00, -1.51009327e+00, -1.52157197e+00,\n",
              "       -1.53294641e+00, -1.54421847e+00, -1.55538998e+00, -1.56646272e+00,\n",
              "       -1.57743841e+00, -1.58831874e+00, -1.59910536e+00, -1.60979986e+00,\n",
              "       -1.62040381e+00, -1.63091872e+00, -1.64134609e+00, -1.65168734e+00,\n",
              "       -1.66194391e+00, -1.67211715e+00, -1.68220842e+00, -1.69221903e+00,\n",
              "       -1.70215024e+00, -1.71200332e+00, -1.72177949e+00, -1.73147992e+00,\n",
              "       -1.74110580e+00, -1.75065825e+00, -1.76013840e+00, -1.76954731e+00,\n",
              "       -1.77888606e+00, -1.78815569e+00, -1.79735721e+00, -1.80649161e+00,\n",
              "       -1.81555988e+00, -1.82456294e+00, -1.83350175e+00, -1.84237721e+00,\n",
              "       -1.85119020e+00, -1.85994162e+00, -1.86863230e+00, -1.87726308e+00,\n",
              "       -1.88583479e+00, -1.89434823e+00, -1.90280419e+00, -1.91120343e+00,\n",
              "       -1.91954672e+00, -1.92783479e+00, -1.93606836e+00, -1.94424816e+00,\n",
              "       -1.95237488e+00, -1.96044920e+00, -1.96847180e+00, -1.97644333e+00,\n",
              "       -1.98436444e+00, -1.99223576e+00, -2.00005792e+00, -2.00783152e+00,\n",
              "       -2.01555717e+00])"
            ]
          },
          "metadata": {},
          "execution_count": 33
        }
      ],
      "source": [
        "LOG(Q,0.45)"
      ]
    },
    {
      "cell_type": "markdown",
      "metadata": {
        "id": "-UoMpeJeVVKY"
      },
      "source": [
        "3. Plot the graph of $\\log_{0.45}(q)$ along the interval __Q__.\n",
        "\n",
        " * Show the $x$ and $y$ axes on this plot\n",
        "\n",
        " * At what value of $q$ does $\\log_{0.45}(q)$ cross the $x$-axis? Does this match the graph from _Example 2.1_?"
      ]
    },
    {
      "cell_type": "code",
      "execution_count": null,
      "metadata": {
        "id": "sAlNweS4WV3H",
        "colab": {
          "base_uri": "https://localhost:8080/",
          "height": 453
        },
        "outputId": "7a683d54-e7da-4855-e0c0-f26c29997540"
      },
      "outputs": [
        {
          "output_type": "display_data",
          "data": {
            "text/plain": [
              "<Figure size 640x480 with 1 Axes>"
            ],
            "image/png": "[encoded data removed]"
          },
          "metadata": {}
        }
      ],
      "source": [
        "plt.plot(Q,LOG(Q,0.45),lw=2,c='dodgerblue')\n",
        "\n",
        "plt.axhline(y=0,lw=0.75,c='black')\n",
        "plt.axvline(x=0,lw=0.75,c='black')\n",
        "\n",
        "plt.xlabel('$a$')\n",
        "plt.ylabel('$\\log_{0.45}(Q)$')\n",
        "\n",
        "plt.show();"
      ]
    },
    {
      "cell_type": "code",
      "execution_count": null,
      "metadata": {
        "id": "gOuznjsiWV55"
      },
      "outputs": [],
      "source": []
    },
    {
      "cell_type": "markdown",
      "metadata": {
        "id": "w6a94RJrsqCR"
      },
      "source": [
        "---\n",
        "# Section 3: The functions $e^{x}$ and  $\\ln(x)$\n",
        "\n",
        "\n",
        "## Section 3.1 - The exponential funciton\n",
        "\n",
        "### Euler's Number\n",
        "\n",
        "* The number $e=2.718281828459045...$ is called __Euler's Number__ (after the Swiss mathematician Leonhard Euler 1707-1783)\n",
        "\n",
        "* Euler's number $e$ is an example of a __transcendental number,__ which basically means $e$ is not the root of some polynomial whose coefficients are whole numbers.\n",
        "\n",
        "* Euler's number is __defined__ as\n",
        "$$\n",
        "e = \\lim_{N\\to\\infty}\\left(1+ \\frac{1}{N}\\right)^{N}.\n",
        "$$\n",
        "\n",
        "\n",
        "\n",
        "### The Python function __np.exp()__\n",
        "\n",
        "* The __exponential function__ is usually written as\n",
        "$$\n",
        "e^{x}\\quad\\text{or}\\quad\\exp(x),\n",
        "$$\n",
        "and they both mean Eulers number raised to the power of $x$.\n",
        "\n",
        "\n",
        "* Since $e=2.718281828459045...$ is a positive base, this means we can use any value $x\\in(-\\infty,+\\infty)$ for the exponent and get a __real output.__\n",
        "\n",
        "* The exonential is defined in a similar manner as Euler's number according to\n",
        "$$\n",
        "e^{x} = \\lim_{N\\to\\infty}\\left(1+\\frac{x}{N}\\right)^{N},\n",
        "$$\n",
        "however, this is not always to most useful definition.\n",
        "\n",
        "\n",
        "* The __numpy__ library already has this function defined as __np.exp()__ since it is such an important function which appears ubiquitously in Maths, Physics, Engineering, Finance, Biology,...\n",
        "\n",
        "* Euler's number now means\n",
        "$$\n",
        "e = e^{1} = \\exp(1),\n",
        "$$\n",
        "which we can compute using __np.exp(1)__ to give:"
      ]
    },
    {
      "cell_type": "code",
      "execution_count": null,
      "metadata": {
        "colab": {
          "base_uri": "https://localhost:8080/"
        },
        "id": "a7jIrhbJxdcJ",
        "outputId": "c58c5be9-fc82-446d-d9a7-15fdb74f3347"
      },
      "outputs": [
        {
          "output_type": "execute_result",
          "data": {
            "text/plain": [
              "2.718281828459045"
            ]
          },
          "metadata": {},
          "execution_count": 35
        }
      ],
      "source": [
        "np.exp(1)"
      ]
    },
    {
      "cell_type": "markdown",
      "metadata": {
        "id": "QNQYl4fp11SN"
      },
      "source": [
        "* The decimal should have an infinite number of digits, however, python uses __float64__ to represent numbers and so is limited to __16-digits__ as you can see below:"
      ]
    },
    {
      "cell_type": "code",
      "execution_count": null,
      "metadata": {
        "colab": {
          "base_uri": "https://localhost:8080/"
        },
        "id": "sxvl4hT41vu5",
        "outputId": "6a237501-827f-43f9-ac01-9f8ffed808f1"
      },
      "outputs": [
        {
          "output_type": "execute_result",
          "data": {
            "text/plain": [
              "numpy.float64"
            ]
          },
          "metadata": {},
          "execution_count": 36
        }
      ],
      "source": [
        "type(np.exp(1))"
      ]
    },
    {
      "cell_type": "markdown",
      "metadata": {
        "id": "O-zT_Fw3AoWd"
      },
      "source": [
        "---"
      ]
    },
    {
      "cell_type": "markdown",
      "metadata": {
        "id": "cj97gJs8D0AI"
      },
      "source": [
        "## _Example 3.1_ - Radiocarbon Content\n",
        "\n",
        "* $\\mathbf{^{14}C}$ is a radioactive isotope of Carbon, which decays with a half-life of __5730 years__.\n",
        "\n",
        "* This means if we start with sample of __10 grams__  of $\\mathbf{^{14}C}$ say, then it will take apprximately __5730 years__ for this to radioactively decay down to __5 grams__  of $\\mathbf{^{14}C}$.\n",
        "\n",
        "\n",
        "* This is written mathematically as\n",
        "$$\n",
        "M(t) = M_{0} e^{-\\frac{\\ln 2}{5730}t}\n",
        "$$\n",
        "where $M_{0}$ is the __initial mass__ of Carbon-14, while $M(t)$ is the mass of Carbon-14 left after $t$-years.\n",
        "\n",
        "\n",
        "* The number $\\ln2=0.6931471805599453...$ is the __natural log of 2__, which we will cover in more detail in the next section.\n",
        "\n",
        "\n",
        "\n",
        "* A living tree naturally absorbs Carbon-14 from the atmosphere during photosynthesis, so any Carbon-14 which is lost by radioacitive decay is replaced, meaning there is a constant amount of $\\mathbf{^{14}C}$ present in a living tree.\n",
        "\n",
        "* When the tree dies it stops absorbing Carbon-14, and so the $\\mathbf{^{14}C}$ present in the dead tree or timber sample is always decaying radioactively.\n",
        "\n",
        "\n",
        "* If an Oak tree contains $7.5~\\mu$g of Carbon-14 when alive, use this information to answer the following:"
      ]
    },
    {
      "cell_type": "markdown",
      "metadata": {
        "id": "xU04dq9bLKdy"
      },
      "source": [
        "1. Define a function __m(t)__ to represnet the amount of carbon in the tree after it dies.\n",
        "\n",
        "\n",
        "\n",
        "\n",
        "\n"
      ]
    },
    {
      "cell_type": "code",
      "execution_count": null,
      "metadata": {
        "id": "yHIAK4KSMUsG"
      },
      "outputs": [],
      "source": [
        "def m(t):\n",
        "  m0=7.5\n",
        "  return m0*np.exp(-np.log(2)*t/5730)"
      ]
    },
    {
      "cell_type": "markdown",
      "metadata": {
        "id": "LT2M9kXdMNYF"
      },
      "source": [
        "2. Plot the graph of $m(t)$ over the time interval __T = [ 0 , 2E4 ]__ (i.e. zero to 20,000 years after the tree dies).\n",
        "\n",
        "\n",
        "  * The Python syntax  __2E4__ means $2\\times10^{4}=20000$, so it is a useful way of writing powers of 10."
      ]
    },
    {
      "cell_type": "code",
      "execution_count": null,
      "metadata": {
        "id": "pGRJjw5NMVaa"
      },
      "outputs": [],
      "source": [
        "T=np.linspace(0,2E4,501)"
      ]
    },
    {
      "cell_type": "code",
      "execution_count": null,
      "metadata": {
        "colab": {
          "base_uri": "https://localhost:8080/",
          "height": 453
        },
        "id": "z2VKJcuZMsQv",
        "outputId": "150761af-5b63-42d9-811f-dac4f5892ef0"
      },
      "outputs": [
        {
          "output_type": "display_data",
          "data": {
            "text/plain": [
              "<Figure size 640x480 with 1 Axes>"
            ],
            "image/png": "[encoded data removed]"
          },
          "metadata": {}
        }
      ],
      "source": [
        "plt.plot(T,m(T),lw=2,c='dodgerblue') # Plot the graph of m(t) for for t between 0 and 20000 years\n",
        "\n",
        "plt.axhline(y=0,lw=0.75,c='black') # Plot the x-axis (time)\n",
        "plt.axvline(x=0,lw=0.75,c='black') # Plot the y-axis (Carbon-14 content)\n",
        "\n",
        "plt.xlabel('Time(years)') # Label the x-axis\n",
        "plt.ylabel('$^{14}$C content ($\\mu$g)') # Label the y-axis\n",
        "\n",
        "plt.show();"
      ]
    },
    {
      "cell_type": "markdown",
      "metadata": {
        "id": "OSuSctcAMNL2"
      },
      "source": [
        "3. Calcuate the mass of $\\mathbf{^{14}C}$ left in the tree:\n",
        "  \n",
        "  * 10 years after it dies.\n",
        "\n",
        "  * 100 years after it dies.\n",
        "\n",
        "  * 5000 years after it dies.\n",
        "\n",
        "  * 10000 years after it dies."
      ]
    },
    {
      "cell_type": "code",
      "execution_count": null,
      "metadata": {
        "colab": {
          "base_uri": "https://localhost:8080/"
        },
        "id": "cNW2J9cUMWJS",
        "outputId": "738991f3-2463-4fcb-db1c-a695579ff2db"
      },
      "outputs": [
        {
          "output_type": "execute_result",
          "data": {
            "text/plain": [
              "(7.4909328781925195, 7.409820471215901, 4.096211609381763, 0.6673378322069675)"
            ]
          },
          "metadata": {},
          "execution_count": 40
        }
      ],
      "source": [
        "m10=m(10)\n",
        "m100=m(100)\n",
        "m5000=m(5000)\n",
        "m20000=m(20000)\n",
        "m10,m100,m5000,m20000"
      ]
    },
    {
      "cell_type": "markdown",
      "metadata": {
        "id": "UWeK5ne_N_02"
      },
      "source": [
        "* We can see the following trend in the Carbon-14 content over the years:\n",
        "\n",
        "  * After 10 years there are 7.49 micro grams (almost the same).\n",
        "\n",
        "  * After 100 years there are 7.41 micro-grams (a slight reduction).\n",
        "\n",
        "  * After 5000 years there are 4.1 micro-grams (a little over half left).\n",
        "\n",
        "  * After 20000 years there are 0.67 micro-grams (less than 10\\% left).\n",
        "\n",
        "* This is in line with the graph in __Part 2.__ where we see the Carbon-14 content decreasing as time increases."
      ]
    },
    {
      "cell_type": "markdown",
      "metadata": {
        "id": "0tofWJIQO7pu"
      },
      "source": [
        "## Exercise 3.1 - Compound Interest\n",
        "\n",
        "* Another application of function $e^{x}$ is related to compound interest.\n",
        "\n",
        "* If you invest €1000 (the principal) at an annual interest rate of 2\\%, then after 1 year, you will have\n",
        "$$\n",
        "€1000 + €1000\\times\\frac{2}{100} = €1000\\times(1+0.02)\n",
        "$$\n",
        "\n",
        "* However, your financial institution might divide this annual rate into 4 equal parts, and apply the interest at four stages in the year.\n",
        "\n",
        "* So now we find the following return at each stage:\n",
        "   * __Stage 1__ you now have\n",
        "      $$\n",
        "      €1000\\times\\left(1+\\frac{0.02}{4}\\right),\n",
        "      $$\n",
        "   * __Stage 2__ you have\n",
        "      $$\n",
        "      €1000\\times\\left(1+\\frac{0.02}{4}\\right)^2,\n",
        "      $$\n",
        "   * __Stage 2__ you would have\n",
        "     $$\n",
        "     €1000\\times\\left(1+\\frac{0.02}{4}\\right)^3,\n",
        "     $$\n",
        "   * __Stage 4__ (i.e. a fter a full year), you now have\n",
        "     $$\n",
        "     €1000\\times\\left(1+\\frac{0.02}{4}\\right)^4.\n",
        "     $$\n",
        "\n",
        "* Now instead of dividing the interest rate by $4$, the financial inistitution may divide by $N$ and apply compound interest $N$ times, to give a return\n",
        "$$\n",
        "€1000\\times\\left(1+\\frac{0.02}{N}\\right)^{N}.\n",
        "$$\n",
        "\n",
        "\n",
        "* If the interest is applied 'infinitely often' over the year, then the return is\n",
        "$$\n",
        "€1000\\times\\lim_{N\\to\\infty}\\left(1+\\frac{0.02}{N}\\right)^{N} = €1000\\times e^{0.02}.\n",
        "$$\n",
        "\n",
        "\n",
        "* Hence the exponential function is important in finance because  the __total return__ $R$ after __time $t$__ on a __principal $P$__ with __interest rate $i$__\n",
        "is now given by\n",
        "$$\n",
        "R(t) = Pe^{i t}.\n",
        "$$\n",
        "\n",
        "* A sum of $€18754$ is invested at an annual interest rate of $i=0.035$. Using this information, answer the following:"
      ]
    },
    {
      "cell_type": "markdown",
      "metadata": {
        "id": "FypZbn4YopeM"
      },
      "source": [
        "  1. Define a function __R(t)__ to represent the total return after __t__ year."
      ]
    },
    {
      "cell_type": "code",
      "execution_count": null,
      "metadata": {
        "id": "xQC513E4Kcxz"
      },
      "outputs": [],
      "source": [
        "def R(t):\n",
        "  R0=18754\n",
        "  return R0*np.exp(0.035*t)"
      ]
    },
    {
      "cell_type": "code",
      "execution_count": null,
      "metadata": {
        "id": "SanmtaBYOfbb"
      },
      "outputs": [],
      "source": []
    },
    {
      "cell_type": "markdown",
      "metadata": {
        "id": "DwBYvpVIpKdJ"
      },
      "source": [
        "2. Plot the graph of toal return over the interval __T = [0, 4.5]__ years."
      ]
    },
    {
      "cell_type": "markdown",
      "source": [],
      "metadata": {
        "id": "uDanIe42Savg"
      }
    },
    {
      "cell_type": "code",
      "execution_count": null,
      "metadata": {
        "id": "TeNgsJLqpDD2"
      },
      "outputs": [],
      "source": [
        "T=np.linspace(0,4.5,100)"
      ]
    },
    {
      "cell_type": "code",
      "execution_count": null,
      "metadata": {
        "id": "ihWwbKBPpdxH",
        "colab": {
          "base_uri": "https://localhost:8080/",
          "height": 453
        },
        "outputId": "7378c3d5-b862-406e-fba4-2d4a60a1321d"
      },
      "outputs": [
        {
          "output_type": "display_data",
          "data": {
            "text/plain": [
              "<Figure size 640x480 with 1 Axes>"
            ],
            "image/png": "[encoded data removed]"
          },
          "metadata": {}
        }
      ],
      "source": [
        "plt.plot(T,R(T),lw=2,c='dodgerblue')\n",
        "\n",
        "plt.axhline(y=0,lw=0,c='black')\n",
        "plt.axvline(x=0,lw=0.75,c='black')\n",
        "\n",
        "plt.xlabel('Time(years)')\n",
        "plt.ylabel('Money(€)')\n",
        "\n",
        "plt.show();"
      ]
    },
    {
      "cell_type": "markdown",
      "metadata": {
        "id": "vLETCODpsMY-"
      },
      "source": [
        "3. What is the __total return__ after:\n",
        "\n",
        "  * 6 months\n",
        "\n",
        "  * 18 months\n",
        "\n",
        "  * 2 years\n",
        "\n",
        "  * 3 years\n",
        "\n",
        "__IMPORTANT!__ Since __t__ is measured in years, you must write each of these times in terms of years, e.g. __6 months is 0.5 years.__"
      ]
    },
    {
      "cell_type": "code",
      "execution_count": null,
      "metadata": {
        "id": "fwgQ0a2grk4Y"
      },
      "outputs": [],
      "source": [
        "R1 = R (0.5)\n",
        "R2 = R (1.5)\n",
        "R3 = R (2)\n",
        "R4 = R (3)"
      ]
    },
    {
      "cell_type": "code",
      "execution_count": null,
      "metadata": {
        "id": "up_Ko_rks0Pn",
        "colab": {
          "base_uri": "https://localhost:8080/"
        },
        "outputId": "b3a4391e-68a4-4ec0-e1d8-865fa24e9803"
      },
      "outputs": [
        {
          "output_type": "execute_result",
          "data": {
            "text/plain": [
              "(19085.083531415385, 19764.88864922089, 20113.818431241576, 20830.266786610893)"
            ]
          },
          "metadata": {},
          "execution_count": 73
        }
      ],
      "source": [
        "R1, R2, R3, R4"
      ]
    },
    {
      "cell_type": "code",
      "execution_count": null,
      "metadata": {
        "id": "hKtfEezcs1O3"
      },
      "outputs": [],
      "source": []
    },
    {
      "cell_type": "code",
      "execution_count": null,
      "metadata": {
        "id": "j-1zLJNPs2mX"
      },
      "outputs": [],
      "source": []
    },
    {
      "cell_type": "markdown",
      "metadata": {
        "id": "1GvMjH-0s5jF"
      },
      "source": [
        "4. What it the return on the investment (i.e. the interest) after each time interval in __Part 3?__"
      ]
    },
    {
      "cell_type": "code",
      "execution_count": null,
      "metadata": {
        "id": "OUqWkMers4PH"
      },
      "outputs": [],
      "source": [
        "def interest(t):\n",
        "  return R(t) - 18754"
      ]
    },
    {
      "cell_type": "code",
      "execution_count": null,
      "metadata": {
        "id": "0g7y8ZJ9tO63"
      },
      "outputs": [],
      "source": [
        "i1 = interest(0.5)\n",
        "i2 = interest(1.5)\n",
        "i3 = interest(2)\n",
        "i4 = interest(3)"
      ]
    },
    {
      "cell_type": "code",
      "execution_count": null,
      "metadata": {
        "id": "Q8gUetJdtP6X",
        "colab": {
          "base_uri": "https://localhost:8080/"
        },
        "outputId": "6faea717-fc68-40e9-e977-e4403f6f6338"
      },
      "outputs": [
        {
          "output_type": "execute_result",
          "data": {
            "text/plain": [
              "(331.08353141538464, 1010.8886492208912, 1359.818431241576, 2076.266786610893)"
            ]
          },
          "metadata": {},
          "execution_count": 77
        }
      ],
      "source": [
        "i1,i2,i3,i4"
      ]
    },
    {
      "cell_type": "code",
      "execution_count": null,
      "metadata": {
        "id": "Dmuv-l76tRF3"
      },
      "outputs": [],
      "source": []
    },
    {
      "cell_type": "markdown",
      "metadata": {
        "id": "6N0SGXx8y5xo"
      },
      "source": [
        "---\n",
        "\n",
        "# Section 3.2 - The Natural Logarithm\n",
        "\n",
        "* The nautral logarithm $\\ln(a)$ means using the $\\log()$ function with base $e$, i.e.\n",
        "$$\n",
        "\\ln(a) \\stackrel{\\small{\\rm def}}{=} \\log_{e}(a)\n",
        "$$\n",
        "\n",
        "\n",
        "* It tells us the exponent $x$ we need to use in $e^{x}$ to give $a$.\n",
        "\n",
        "\n",
        "\n",
        "* The natural log $\\ln(x)$ is already defined in __numpy__, and is called __np.log()__\n",
        "\n",
        "\n",
        "* The functions __np.exp()__ and __np.log()__ are the __inverse__ of each other, which basically means they __cancel__ each other.\n",
        "\n",
        "\n",
        "* For example, we have\n",
        "$$\n",
        "\\ln(5) = 1.6094379124341003\n",
        "$$\n",
        "and\n",
        "$$\n",
        "e^{1.6094379124341003} =5.\n",
        "$$\n",
        "\n",
        "* This can also be written as\n",
        "$$\n",
        "e^{\\ln(5)} = 5,\n",
        "$$\n",
        "i.e. $e$ and $\\ln$ cancel\n",
        " to give $5$.\n",
        "\n",
        " * We confirm this in the next two cells using the functions __np.log()__ and __np.exp():__"
      ]
    },
    {
      "cell_type": "code",
      "execution_count": null,
      "metadata": {
        "colab": {
          "base_uri": "https://localhost:8080/"
        },
        "id": "9UEXBrZmtSOn",
        "outputId": "669f62fa-740f-4343-9eaf-cbdb41a53ee7"
      },
      "outputs": [
        {
          "output_type": "execute_result",
          "data": {
            "text/plain": [
              "1.6094379124341003"
            ]
          },
          "metadata": {},
          "execution_count": 78
        }
      ],
      "source": [
        "np.log(5)"
      ]
    },
    {
      "cell_type": "code",
      "execution_count": null,
      "metadata": {
        "colab": {
          "base_uri": "https://localhost:8080/"
        },
        "id": "f_vCbd640SlY",
        "outputId": "e51e8461-207f-44d8-b4c1-739fbba4eff2"
      },
      "outputs": [
        {
          "output_type": "execute_result",
          "data": {
            "text/plain": [
              "4.999999999999999"
            ]
          },
          "metadata": {},
          "execution_count": 79
        }
      ],
      "source": [
        "np.exp(1.6094379124341003)"
      ]
    },
    {
      "cell_type": "code",
      "execution_count": null,
      "metadata": {
        "colab": {
          "base_uri": "https://localhost:8080/"
        },
        "id": "Y03-VWef055o",
        "outputId": "5b9a5532-0739-4dda-8cbe-768e1cfcd402"
      },
      "outputs": [
        {
          "output_type": "execute_result",
          "data": {
            "text/plain": [
              "4.999999999999999"
            ]
          },
          "metadata": {},
          "execution_count": 80
        }
      ],
      "source": [
        "np.exp(np.log(5))"
      ]
    },
    {
      "cell_type": "markdown",
      "metadata": {
        "id": "J0cgt9VyAvmu"
      },
      "source": [
        "---"
      ]
    },
    {
      "cell_type": "markdown",
      "metadata": {
        "id": "-asYccMO1DvQ"
      },
      "source": [
        "## Exercise 3.3:\n",
        "\n",
        "* This also works in the other direction, i.e. $\\ln(e^{x})=x$, so again the functions $\\ln$ and $\\exp$ also cancel to just leave $x$!!\n",
        "\n",
        "\n",
        "* Use the functions __np.log()__ and __np.exp()__ to show that\n",
        "$$\n",
        "\\ln\\left(e^{3.145}\\right) = 3.145\n",
        "$$"
      ]
    },
    {
      "cell_type": "code",
      "execution_count": null,
      "metadata": {
        "id": "OBwSVNQN1tqI",
        "colab": {
          "base_uri": "https://localhost:8080/"
        },
        "outputId": "92a569f9-822c-4463-ae18-cc27f15e0660"
      },
      "outputs": [
        {
          "output_type": "execute_result",
          "data": {
            "text/plain": [
              "3.145"
            ]
          },
          "metadata": {},
          "execution_count": 81
        }
      ],
      "source": [
        "np.log(np.exp(3.145))"
      ]
    },
    {
      "cell_type": "code",
      "execution_count": null,
      "metadata": {
        "id": "agRV5k2h14_A"
      },
      "outputs": [],
      "source": [
        "\n"
      ]
    },
    {
      "cell_type": "code",
      "execution_count": null,
      "metadata": {
        "id": "7inEKmR3141F"
      },
      "outputs": [],
      "source": []
    },
    {
      "cell_type": "code",
      "execution_count": null,
      "metadata": {
        "id": "hHXlHqig15d9"
      },
      "outputs": [],
      "source": []
    },
    {
      "cell_type": "markdown",
      "metadata": {
        "id": "GqkcBW7d16gY"
      },
      "source": [
        "## Exercise 3.4\n",
        "\n",
        "* The fact $\\ln(x)$ and $e^{x}$ are __inverse functions__ can also be seen from the graphs of the functions.\n",
        "\n",
        "* We are going to plot the function $e^{x}$ over the interval __U = [-1 , 1]__ and then plot __np.log()__ on the __output np.exp(U)__\n",
        "\n",
        "\n",
        "* We should find the the graph of one function is a __reflection__ of the other through the line $y=x$\n"
      ]
    },
    {
      "cell_type": "markdown",
      "metadata": {
        "id": "nnCfJMum2-ys"
      },
      "source": [
        "1. Use __np.linspace()__ to define the interval __U = [-1 , 1]__ with __501__ points."
      ]
    },
    {
      "cell_type": "code",
      "execution_count": null,
      "metadata": {
        "id": "mQW1c1bl2yrI"
      },
      "outputs": [],
      "source": [
        "U = np.linspace(-1,1,501)"
      ]
    },
    {
      "cell_type": "code",
      "execution_count": null,
      "metadata": {
        "id": "x-02YyDi7205"
      },
      "outputs": [],
      "source": []
    },
    {
      "cell_type": "code",
      "execution_count": null,
      "metadata": {
        "id": "fY3EXWBV72yJ"
      },
      "outputs": [],
      "source": []
    },
    {
      "cell_type": "markdown",
      "metadata": {
        "id": "KETwQ8X33M6m"
      },
      "source": [
        "2. Evaluate $e^{x}$ for each $x\\in$ __U,__ i.e. compute __np.exp(U)__"
      ]
    },
    {
      "cell_type": "code",
      "execution_count": null,
      "metadata": {
        "id": "kwUItIkD3LYX"
      },
      "outputs": [],
      "source": [
        "U1 = np.exp(U)"
      ]
    },
    {
      "cell_type": "code",
      "execution_count": null,
      "metadata": {
        "id": "4HI16ga07zcF",
        "colab": {
          "base_uri": "https://localhost:8080/"
        },
        "outputId": "86d66091-f3e4-44f1-e1bf-129e4d6b71b2"
      },
      "outputs": [
        {
          "output_type": "execute_result",
          "data": {
            "text/plain": [
              "(array([0.36787944, 0.36935391, 0.37083428, 0.37232059, 0.37381285,\n",
              "        0.3753111 , 0.37681535, 0.37832563, 0.37984196, 0.38136437]),\n",
              " array([2.62216418, 2.63267384, 2.64322563, 2.6538197 , 2.66445624,\n",
              "        2.67513541, 2.68585738, 2.69662233, 2.70743042, 2.71828183]))"
            ]
          },
          "metadata": {},
          "execution_count": 106
        }
      ],
      "source": [
        "U1[:10], U1[-10:]"
      ]
    },
    {
      "cell_type": "code",
      "source": [],
      "metadata": {
        "id": "BvmP5YGoZVQG"
      },
      "execution_count": null,
      "outputs": []
    },
    {
      "cell_type": "code",
      "execution_count": null,
      "metadata": {
        "id": "fVHY9sms7zQc"
      },
      "outputs": [],
      "source": []
    },
    {
      "cell_type": "markdown",
      "metadata": {
        "id": "DiuyDB3n31fY"
      },
      "source": [
        "3. In the cell below, plot the following using __np.plot():__\n",
        "  \n",
        "  * __U , np.exp(U) , lw = 2 , c = 'navy'__\n",
        "\n",
        "  * __np.exp(U) , np.log(np.exp(U)) , lw = 2 , c = 'green'__\n",
        "\n",
        "  * __[-1 , 2.5] , [-1 , 2.5] , lw = 2 , c = 'gray'__\n",
        "  \n",
        "  * Include the $x$ and $y$ axes in your plot also.\n",
        "\n",
        "\n",
        "### Comment:\n",
        "\n",
        "* The command __plt.plot( [ -1 , 2.5 ] , [ -1 , 2.5 ] )__ plots a line between the points $(-1,-1)$ and $(2.5,2.5)$.\n",
        "\n",
        "* The first set of square brackets i.e. __[ -1 , 2.5 ]__ is the list of $x$-coordinates, while the second set of square brackets, also __[ -1 , 2.5 ]__ is the list of $y$-coordinates.\n",
        "\n",
        "* This is the graph of $y=x$."
      ]
    },
    {
      "cell_type": "code",
      "execution_count": null,
      "metadata": {
        "colab": {
          "base_uri": "https://localhost:8080/",
          "height": 700
        },
        "id": "FBgFgcLZ7wQB",
        "outputId": "80a9f290-4ccd-4032-fffc-5c7f519569c1"
      },
      "outputs": [
        {
          "output_type": "display_data",
          "data": {
            "text/plain": [
              "<Figure size 800x800 with 1 Axes>"
            ],
            "image/png": "[encoded data removed]"
          },
          "metadata": {}
        }
      ],
      "source": [
        "plt.figure(figsize=(8,8)) # This command sets the figure size to 8 inches in the horizontal and vertical, now fill in the rest!!\n",
        "\n",
        "plt.plot(U, np.exp(U),lw=2,c=\"navy\")\n",
        "plt.plot(np.exp(U), np.log(np.exp(U)),lw=2,c=\"green\")\n",
        "plt.plot(U,U,lw=2,color=\"gray\")\n",
        "\n",
        "plt.axhline(y=-1,lw=0.75,c='black')\n",
        "plt.axvline(x=-1,lw=0.75,c='black')\n",
        "\n",
        "plt.xlabel('X')\n",
        "plt.ylabel('Y')\n",
        "\n",
        "plt.show();\n",
        "\n",
        "\n",
        "\n"
      ]
    },
    {
      "cell_type": "code",
      "execution_count": null,
      "metadata": {
        "id": "V0Ub-IU-7wFR"
      },
      "outputs": [],
      "source": []
    },
    {
      "cell_type": "code",
      "execution_count": null,
      "metadata": {
        "id": "4e7sy-iA5gE5"
      },
      "outputs": [],
      "source": []
    }
  ],
  "metadata": {
    "colab": {
      "provenance": []
    },
    "kernelspec": {
      "display_name": "Python 3 (ipykernel)",
      "language": "python",
      "name": "python3"
    },
    "language_info": {
      "codemirror_mode": {
        "name": "ipython",
        "version": 3
      },
      "file_extension": ".py",
      "mimetype": "text/x-python",
      "name": "python",
      "nbconvert_exporter": "python",
      "pygments_lexer": "ipython3",
      "version": "3.9.13"
    }
  },
  "nbformat": 4,
  "nbformat_minor": 0
}