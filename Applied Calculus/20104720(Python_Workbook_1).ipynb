{
  "cells": [
    {
      "cell_type": "markdown",
      "metadata": {
        "id": "W_maipvHaGhh"
      },
      "source": [
        "### Name: Yi Jie Lim\n",
        "\n",
        "\n",
        "### Student Number: 20104720"
      ]
    },
    {
      "cell_type": "markdown",
      "metadata": {
        "id": "2IPGFaeWaGhk"
      },
      "source": [
        "# Python Workbook 1 - Polynomial Functions\n",
        "\n",
        "In this workbook we will cover the following topics:\n",
        "\n",
        "1. __Defining__ custom polynomial functions in Python.\n",
        "\n",
        "\n",
        "2. __Evaluating__ functions along intervals.\n",
        "\n",
        "\n",
        "3. __Plotting__ functions along intervals.\n",
        "\n",
        "\n",
        "4. __Roots__ of polynomials."
      ]
    },
    {
      "cell_type": "markdown",
      "metadata": {
        "id": "ZMt3DDTnaGhl"
      },
      "source": [
        "## A. The Notebook Environment\n",
        "\n",
        "* For these practicals we will use the __Colab__ environment to write and run all our Python scripts.\n",
        "\n",
        "\n",
        "* The _cells_ in these __.ipynb__ notebooks will always be either\n",
        "\n",
        "    * __Markdown__ (how this cell is written)\n",
        "    \n",
        "    * __Code__ (see the cell below)"
      ]
    },
    {
      "cell_type": "code",
      "execution_count": 1,
      "metadata": {
        "id": "cSV2tn8oaGhm"
      },
      "outputs": [],
      "source": [
        "# A Python code cell"
      ]
    },
    {
      "cell_type": "markdown",
      "metadata": {
        "id": "oyGJRY57aGho"
      },
      "source": [
        "* Changing a cell from __Markdown__ to __Code__ or vice-versa can be done through the drop down menu appearing in the tool bar at the top of the Jupyter notebook.\n",
        "\n",
        "\n",
        "* To run a cell of either type, press the keys __Shift+Enter__ together.\n",
        "\n",
        "\n",
        "* To create a __comment__ in a code cell, place a \\# before the text you wish to comment.\n",
        "\n",
        "\n",
        "* To edit a markdown cell, __double-click__ the cell you wish to edit until the source for that cell appears. To return the cell to standard output press __Shift+Enter__.\n",
        "\n",
        "\n",
        "* To create an additional cell in the workbook, go to the __Insert__ tab at the top of the workbook or press the __+__ button.\n",
        "\n",
        "\n",
        "* To remove a cell press the scissors icon in the menu bar."
      ]
    },
    {
      "cell_type": "markdown",
      "metadata": {
        "id": "7KVv8idVaGhq"
      },
      "source": [
        "## B. Importing Libraries\n",
        "\n",
        "* In most of the Colab notebooks we will work on, the following __function libraries__ will be used throughout:\n",
        "\n",
        "    * __matplotlib.pylot__ - Used for plotting.\n",
        "\n",
        "    * __numpy__ - Numerical Python for numerical computations and plotting.\n",
        "\n",
        "\n",
        "* We import these libraries using the command __import__ as in the following code cell.\n",
        "\n",
        "\n",
        "* Hilglight the code cell below, then press __Shift+Enter__ to run these import commands:"
      ]
    },
    {
      "cell_type": "code",
      "execution_count": 2,
      "metadata": {
        "id": "jL5mCC_FaGhq"
      },
      "outputs": [],
      "source": [
        "import matplotlib.pyplot as plt\n",
        "import numpy as np"
      ]
    },
    {
      "cell_type": "markdown",
      "metadata": {
        "id": "FzKqozrRaGhr"
      },
      "source": [
        "* When we import these libraries we include the additinal command __as__ to apply a shortened name of our choice to each library.\n",
        "\n",
        "\n",
        "* We do this to avoid having to re-write the full library name each time we want to call a Python function from that library.\n"
      ]
    },
    {
      "cell_type": "markdown",
      "metadata": {
        "id": "2g_oknnn4fhU"
      },
      "source": [
        "# Section 1 - Defining Custom Functions\n",
        "---\n",
        "\n",
        "* The __numpy__ library contains many standard functions we are familiar with from maths.\n",
        "\n",
        "* However, often we want to __define__ custom functions which are not available in any standrd library.\n",
        "\n",
        "* This ie easily done using the key-word __def()__, which is short for __definition__"
      ]
    },
    {
      "cell_type": "markdown",
      "metadata": {
        "id": "RCjv4UdKaGhu"
      },
      "source": [
        "# Section 1.1 - Polynomials\n",
        "\n",
        "* A __polynomial__ is a function of the form\n",
        "$$\n",
        "p(x) = a_{n}x^n + a_{n-1}x^{n-1} + a_{n-2}x^{n-2}+\\ldots+a_{1}x +a_{0}.\n",
        "$$\n",
        "\n",
        "\n",
        "* The __variable__ __x__ is the __input__ and can usually be any number we choose.\n",
        "\n",
        "\n",
        "* The __contstants__ $a_{n}$, $a_{n-1}$, $a_{n-2}$,...,$a_{1}$, $a_{1}$, $a_{0}$, are called the __coefficients__ of the polynomial.\n",
        "\n",
        "\n",
        "* The number $n$ is the highest power of $x$ appearing in the polynomial and is called the __order__ of the polynomial."
      ]
    },
    {
      "cell_type": "markdown",
      "metadata": {
        "id": "yUS_QjiW4fhW"
      },
      "source": [
        "## _Example 1_ - A __Quadratic__ Polynomial\n",
        "\n",
        "* The polynomial given by\n",
        "$$\n",
        " p(x) = x^2-4x-5\\tag{Eq. 1}\n",
        "$$\n",
        "is called a __quadratic__ polynomial.\n",
        "\n",
        "\n",
        "* A polynomial is quadratic if its __order__ is $n=2$.\n",
        "\n",
        "\n",
        "* The __coefficients__ of this polynomial are\n",
        "$$\n",
        "a_{2}=1\\quad a_{1}=-4\\quad a_{0}=-5.\n",
        "$$"
      ]
    },
    {
      "cell_type": "markdown",
      "metadata": {
        "id": "g1-yA1rT4fhX"
      },
      "source": [
        "### Python SYNTAX\n",
        "\n",
        "* To define this polynomial in Python, we must use the following __syntax:__\n",
        "    * __Powers__ are  written using   __**__ for  example $4^{5}$ is written as __4**5__ in Python\n",
        "    \n",
        "    * __Multiplication__ is written using __*__ for example $4x$ is written as __4*x__\n",
        "\n",
        "\n",
        "* The quadatic polynomial $p(x)$ in equation $\\text{(Eq. 1)}$ is __defined__ in Python as follows:"
      ]
    },
    {
      "cell_type": "code",
      "execution_count": 3,
      "metadata": {
        "id": "GU90AKrXaGhw"
      },
      "outputs": [],
      "source": [
        "def p(x):\n",
        "    return x**2-4*x-5"
      ]
    },
    {
      "cell_type": "markdown",
      "metadata": {
        "id": "5ZJV9hAV4fhY"
      },
      "source": [
        "* The __variable x__ is a place-holder to represent the __input__ of the function.\n",
        "\n",
        "\n",
        "* We can change this to any symbol we like, for example, the following defines the exact same function:"
      ]
    },
    {
      "cell_type": "code",
      "execution_count": 4,
      "metadata": {
        "id": "JG-zaJqm4fhY"
      },
      "outputs": [],
      "source": [
        "def p(w):\n",
        "    return w**2-4*w-5"
      ]
    },
    {
      "cell_type": "markdown",
      "metadata": {
        "id": "cbnT8lHjaGhx"
      },
      "source": [
        "* We can now use this function to evaluate its numerical value at various input values of __x__.\n",
        "\n",
        "\n",
        "* For example, the __output__ values\n",
        "$$\n",
        " p(0), p(2), p(-9), p(-4), p(200), p(1000)  \n",
        "$$\n",
        "are given by"
      ]
    },
    {
      "cell_type": "code",
      "execution_count": 5,
      "metadata": {
        "id": "aW2DAutkaGhy",
        "outputId": "a0e8ec2a-19fc-46c5-a9fa-5abfda318020",
        "colab": {
          "base_uri": "https://localhost:8080/"
        }
      },
      "outputs": [
        {
          "output_type": "execute_result",
          "data": {
            "text/plain": [
              "(-5, -9, 112, 27, 39195, 995995)"
            ]
          },
          "metadata": {},
          "execution_count": 5
        }
      ],
      "source": [
        "p(0), p(2), p(-9), p(-4), p(200), p(1000)"
      ]
    },
    {
      "cell_type": "markdown",
      "metadata": {
        "id": "1XAR-ON_aGh0"
      },
      "source": [
        "## Exercise 1: A __Cubic__ Polynomial\n",
        "\n",
        "* A polynomial is called __cubic__ if its __order__ is __$n=3$__\n",
        "\n",
        "\n",
        "\n",
        "* Create a Python function for the __cubic__ polynomial\n",
        "$$\n",
        " q(x) = x^3-4x^2+5x-25\\tag{Eq. 2}\n",
        "$$\n",
        "\n",
        "\n",
        "\n",
        "\n",
        "\n",
        "* Use this Python defintion to evaluate the __outputs:__\n",
        "$$\n",
        "    q(-20), q(-15),  q(256), q(512), q(22512)\n",
        "$$"
      ]
    },
    {
      "cell_type": "code",
      "execution_count": 6,
      "metadata": {
        "id": "KIUakv874fha"
      },
      "outputs": [],
      "source": [
        "def q(x):\n",
        "  return x**3-4*x**2+5*x-25"
      ]
    },
    {
      "cell_type": "code",
      "execution_count": 7,
      "metadata": {
        "id": "1w82M-Kp4fha",
        "colab": {
          "base_uri": "https://localhost:8080/"
        },
        "outputId": "cd7eea29-98d8-48ea-af13-fe87ac549a67"
      },
      "outputs": [
        {
          "output_type": "execute_result",
          "data": {
            "text/plain": [
              "(-9725, -4375, 16516327, 133171687, 11406832673687)"
            ]
          },
          "metadata": {},
          "execution_count": 7
        }
      ],
      "source": [
        "q(-20),q(-15),q(256),q(512),q(22512)"
      ]
    },
    {
      "cell_type": "code",
      "execution_count": 7,
      "metadata": {
        "id": "LxYvl9n24fha"
      },
      "outputs": [],
      "source": []
    },
    {
      "cell_type": "code",
      "execution_count": 7,
      "metadata": {
        "id": "6ad53wMP4fha"
      },
      "outputs": [],
      "source": []
    },
    {
      "cell_type": "markdown",
      "metadata": {
        "id": "HZDFO9vCaGh4"
      },
      "source": [
        "# Section 2 -  Function on Intervals\n",
        "---\n",
        "\n",
        "* Plot intervals are created very efficiently using the command __np.linspace(a,b,N)__\n",
        "\n",
        "    * __a__ is the start point of the interval.\n",
        "    \n",
        "    * __b__ is the end point of the interval.\n",
        "    \n",
        "    * __N__ is the number of points the interval should contain overall.\n",
        "\n",
        "\n",
        "* As an example, we  create the plot interval __X = [ -2 , 6 ]__, meaning the input values __X__ start at $-4$ and end at $6$.\n",
        "\n",
        "\n",
        "* We create this interval with __N = 101__ point using the following:"
      ]
    },
    {
      "cell_type": "code",
      "execution_count": 8,
      "metadata": {
        "id": "IBHhUq8baGh5"
      },
      "outputs": [],
      "source": [
        "X=np.linspace(-2,6,101)"
      ]
    },
    {
      "cell_type": "markdown",
      "metadata": {
        "id": "aF61Ap_1aGh6"
      },
      "source": [
        "* In python terminology this list of numbers for __X__ is called an __array__ or sometimes a __vector.__\n",
        "\n",
        "\n",
        "* The full list of numbers can be displayed by simply calling __X__ in a Python cell:"
      ]
    },
    {
      "cell_type": "code",
      "execution_count": 9,
      "metadata": {
        "id": "pXt5WSM8aGh7",
        "outputId": "b7ba13cf-5233-4a0b-a1c3-8d546796d772",
        "colab": {
          "base_uri": "https://localhost:8080/"
        }
      },
      "outputs": [
        {
          "output_type": "execute_result",
          "data": {
            "text/plain": [
              "array([-2.  , -1.92, -1.84, -1.76, -1.68, -1.6 , -1.52, -1.44, -1.36,\n",
              "       -1.28, -1.2 , -1.12, -1.04, -0.96, -0.88, -0.8 , -0.72, -0.64,\n",
              "       -0.56, -0.48, -0.4 , -0.32, -0.24, -0.16, -0.08,  0.  ,  0.08,\n",
              "        0.16,  0.24,  0.32,  0.4 ,  0.48,  0.56,  0.64,  0.72,  0.8 ,\n",
              "        0.88,  0.96,  1.04,  1.12,  1.2 ,  1.28,  1.36,  1.44,  1.52,\n",
              "        1.6 ,  1.68,  1.76,  1.84,  1.92,  2.  ,  2.08,  2.16,  2.24,\n",
              "        2.32,  2.4 ,  2.48,  2.56,  2.64,  2.72,  2.8 ,  2.88,  2.96,\n",
              "        3.04,  3.12,  3.2 ,  3.28,  3.36,  3.44,  3.52,  3.6 ,  3.68,\n",
              "        3.76,  3.84,  3.92,  4.  ,  4.08,  4.16,  4.24,  4.32,  4.4 ,\n",
              "        4.48,  4.56,  4.64,  4.72,  4.8 ,  4.88,  4.96,  5.04,  5.12,\n",
              "        5.2 ,  5.28,  5.36,  5.44,  5.52,  5.6 ,  5.68,  5.76,  5.84,\n",
              "        5.92,  6.  ])"
            ]
          },
          "metadata": {},
          "execution_count": 9
        }
      ],
      "source": [
        "X"
      ]
    },
    {
      "cell_type": "markdown",
      "metadata": {
        "id": "PTjosGi64fhd"
      },
      "source": [
        "## _Example 2_ - Evaluate __p(x)__ on __X__:\n",
        "\n",
        "* Now that we have defined the function __p(x)__ and the interval __X__, we can used each value in __X__ as an __input__ to find 101 corresponding outputs __p(X)__:"
      ]
    },
    {
      "cell_type": "code",
      "execution_count": 10,
      "metadata": {
        "id": "3p644JtB4fhd",
        "outputId": "5c0f0225-d81a-4b3e-8105-e4236e80dcde",
        "colab": {
          "base_uri": "https://localhost:8080/"
        }
      },
      "outputs": [
        {
          "output_type": "execute_result",
          "data": {
            "text/plain": [
              "array([ 7.    ,  6.3664,  5.7456,  5.1376,  4.5424,  3.96  ,  3.3904,\n",
              "        2.8336,  2.2896,  1.7584,  1.24  ,  0.7344,  0.2416, -0.2384,\n",
              "       -0.7056, -1.16  , -1.6016, -2.0304, -2.4464, -2.8496, -3.24  ,\n",
              "       -3.6176, -3.9824, -4.3344, -4.6736, -5.    , -5.3136, -5.6144,\n",
              "       -5.9024, -6.1776, -6.44  , -6.6896, -6.9264, -7.1504, -7.3616,\n",
              "       -7.56  , -7.7456, -7.9184, -8.0784, -8.2256, -8.36  , -8.4816,\n",
              "       -8.5904, -8.6864, -8.7696, -8.84  , -8.8976, -8.9424, -8.9744,\n",
              "       -8.9936, -9.    , -8.9936, -8.9744, -8.9424, -8.8976, -8.84  ,\n",
              "       -8.7696, -8.6864, -8.5904, -8.4816, -8.36  , -8.2256, -8.0784,\n",
              "       -7.9184, -7.7456, -7.56  , -7.3616, -7.1504, -6.9264, -6.6896,\n",
              "       -6.44  , -6.1776, -5.9024, -5.6144, -5.3136, -5.    , -4.6736,\n",
              "       -4.3344, -3.9824, -3.6176, -3.24  , -2.8496, -2.4464, -2.0304,\n",
              "       -1.6016, -1.16  , -0.7056, -0.2384,  0.2416,  0.7344,  1.24  ,\n",
              "        1.7584,  2.2896,  2.8336,  3.3904,  3.96  ,  4.5424,  5.1376,\n",
              "        5.7456,  6.3664,  7.    ])"
            ]
          },
          "metadata": {},
          "execution_count": 10
        }
      ],
      "source": [
        "p(X)"
      ]
    },
    {
      "cell_type": "markdown",
      "metadata": {
        "id": "5xJw5ctp4fhe"
      },
      "source": [
        "## Exercise 2\n",
        "\n",
        "* Use __np.linspace()__ to create the interval __T = [ -1 , 3 ]__ with __N = 251__ points, and display this list of values\n",
        "\n",
        "\n",
        "* Now evaluate the cubic polynomial __q(x)__ you defined in __Exercise 1.1__ on this interval."
      ]
    },
    {
      "cell_type": "code",
      "execution_count": 11,
      "metadata": {
        "id": "st8IAR9B4fhe"
      },
      "outputs": [],
      "source": [
        "T=np.linspace(-1,3,251)"
      ]
    },
    {
      "cell_type": "code",
      "execution_count": 12,
      "metadata": {
        "id": "7MLd-0Qg4fhe",
        "colab": {
          "base_uri": "https://localhost:8080/"
        },
        "outputId": "1d474d56-e295-4ac9-c218-70d4ca63ff37"
      },
      "outputs": [
        {
          "output_type": "execute_result",
          "data": {
            "text/plain": [
              "array([-1.   , -0.984, -0.968, -0.952, -0.936, -0.92 , -0.904, -0.888,\n",
              "       -0.872, -0.856, -0.84 , -0.824, -0.808, -0.792, -0.776, -0.76 ,\n",
              "       -0.744, -0.728, -0.712, -0.696, -0.68 , -0.664, -0.648, -0.632,\n",
              "       -0.616, -0.6  , -0.584, -0.568, -0.552, -0.536, -0.52 , -0.504,\n",
              "       -0.488, -0.472, -0.456, -0.44 , -0.424, -0.408, -0.392, -0.376,\n",
              "       -0.36 , -0.344, -0.328, -0.312, -0.296, -0.28 , -0.264, -0.248,\n",
              "       -0.232, -0.216, -0.2  , -0.184, -0.168, -0.152, -0.136, -0.12 ,\n",
              "       -0.104, -0.088, -0.072, -0.056, -0.04 , -0.024, -0.008,  0.008,\n",
              "        0.024,  0.04 ,  0.056,  0.072,  0.088,  0.104,  0.12 ,  0.136,\n",
              "        0.152,  0.168,  0.184,  0.2  ,  0.216,  0.232,  0.248,  0.264,\n",
              "        0.28 ,  0.296,  0.312,  0.328,  0.344,  0.36 ,  0.376,  0.392,\n",
              "        0.408,  0.424,  0.44 ,  0.456,  0.472,  0.488,  0.504,  0.52 ,\n",
              "        0.536,  0.552,  0.568,  0.584,  0.6  ,  0.616,  0.632,  0.648,\n",
              "        0.664,  0.68 ,  0.696,  0.712,  0.728,  0.744,  0.76 ,  0.776,\n",
              "        0.792,  0.808,  0.824,  0.84 ,  0.856,  0.872,  0.888,  0.904,\n",
              "        0.92 ,  0.936,  0.952,  0.968,  0.984,  1.   ,  1.016,  1.032,\n",
              "        1.048,  1.064,  1.08 ,  1.096,  1.112,  1.128,  1.144,  1.16 ,\n",
              "        1.176,  1.192,  1.208,  1.224,  1.24 ,  1.256,  1.272,  1.288,\n",
              "        1.304,  1.32 ,  1.336,  1.352,  1.368,  1.384,  1.4  ,  1.416,\n",
              "        1.432,  1.448,  1.464,  1.48 ,  1.496,  1.512,  1.528,  1.544,\n",
              "        1.56 ,  1.576,  1.592,  1.608,  1.624,  1.64 ,  1.656,  1.672,\n",
              "        1.688,  1.704,  1.72 ,  1.736,  1.752,  1.768,  1.784,  1.8  ,\n",
              "        1.816,  1.832,  1.848,  1.864,  1.88 ,  1.896,  1.912,  1.928,\n",
              "        1.944,  1.96 ,  1.976,  1.992,  2.008,  2.024,  2.04 ,  2.056,\n",
              "        2.072,  2.088,  2.104,  2.12 ,  2.136,  2.152,  2.168,  2.184,\n",
              "        2.2  ,  2.216,  2.232,  2.248,  2.264,  2.28 ,  2.296,  2.312,\n",
              "        2.328,  2.344,  2.36 ,  2.376,  2.392,  2.408,  2.424,  2.44 ,\n",
              "        2.456,  2.472,  2.488,  2.504,  2.52 ,  2.536,  2.552,  2.568,\n",
              "        2.584,  2.6  ,  2.616,  2.632,  2.648,  2.664,  2.68 ,  2.696,\n",
              "        2.712,  2.728,  2.744,  2.76 ,  2.776,  2.792,  2.808,  2.824,\n",
              "        2.84 ,  2.856,  2.872,  2.888,  2.904,  2.92 ,  2.936,  2.952,\n",
              "        2.968,  2.984,  3.   ])"
            ]
          },
          "metadata": {},
          "execution_count": 12
        }
      ],
      "source": [
        "T"
      ]
    },
    {
      "cell_type": "code",
      "execution_count": 13,
      "metadata": {
        "id": "rWG0iwQD4fhe",
        "colab": {
          "base_uri": "https://localhost:8080/"
        },
        "outputId": "fdb21db3-1f85-43d8-b66b-c0c75f801d91"
      },
      "outputs": [
        {
          "output_type": "execute_result",
          "data": {
            "text/plain": [
              "array([-35.        , -34.7457879 , -34.49513523, -34.24801741,\n",
              "       -34.00440986, -33.764288  , -33.52762726, -33.29440307,\n",
              "       -33.06459085, -32.83816602, -32.615104  , -32.39538022,\n",
              "       -32.17897011, -31.96584909, -31.75599258, -31.549376  ,\n",
              "       -31.34597478, -31.14576435, -30.94872013, -30.75481754,\n",
              "       -30.564032  , -30.37633894, -30.19171379, -30.01013197,\n",
              "       -29.8315689 , -29.656     , -29.4834007 , -29.31374643,\n",
              "       -29.14701261, -28.98317466, -28.822208  , -28.66408806,\n",
              "       -28.50879027, -28.35629005, -28.20656282, -28.059584  ,\n",
              "       -27.91532902, -27.77377331, -27.63489229, -27.49866138,\n",
              "       -27.365056  , -27.23405158, -27.10562355, -26.97974733,\n",
              "       -26.85639834, -26.735552  , -26.61718374, -26.50126899,\n",
              "       -26.38778317, -26.2767017 , -26.168     , -26.0616535 ,\n",
              "       -25.95763763, -25.85592781, -25.75649946, -25.659328  ,\n",
              "       -25.56438886, -25.47165747, -25.38110925, -25.29271962,\n",
              "       -25.206464  , -25.12231782, -25.04025651, -24.96025549,\n",
              "       -24.88229018, -24.806336  , -24.73236838, -24.66036275,\n",
              "       -24.59029453, -24.52213914, -24.455872  , -24.39146854,\n",
              "       -24.32890419, -24.26815437, -24.2091945 , -24.152     ,\n",
              "       -24.0965463 , -24.04280883, -23.99076301, -23.94038426,\n",
              "       -23.891648  , -23.84452966, -23.79900467, -23.75504845,\n",
              "       -23.71263642, -23.671744  , -23.63234662, -23.59441971,\n",
              "       -23.55793869, -23.52287898, -23.489216  , -23.45692518,\n",
              "       -23.42598195, -23.39636173, -23.36803994, -23.340992  ,\n",
              "       -23.31519334, -23.29061939, -23.26724557, -23.2450473 ,\n",
              "       -23.224     , -23.2040791 , -23.18526003, -23.16751821,\n",
              "       -23.15082906, -23.135168  , -23.12051046, -23.10683187,\n",
              "       -23.09410765, -23.08231322, -23.071424  , -23.06141542,\n",
              "       -23.05226291, -23.04394189, -23.03642778, -23.029696  ,\n",
              "       -23.02372198, -23.01848115, -23.01394893, -23.01010074,\n",
              "       -23.006912  , -23.00435814, -23.00241459, -23.00105677,\n",
              "       -23.0002601 , -23.        , -23.0002519 , -23.00099123,\n",
              "       -23.00219341, -23.00383386, -23.005888  , -23.00833126,\n",
              "       -23.01113907, -23.01428685, -23.01775002, -23.021504  ,\n",
              "       -23.02552422, -23.02978611, -23.03426509, -23.03893658,\n",
              "       -23.043776  , -23.04875878, -23.05386035, -23.05905613,\n",
              "       -23.06432154, -23.069632  , -23.07496294, -23.08028979,\n",
              "       -23.08558797, -23.0908329 , -23.096     , -23.1010647 ,\n",
              "       -23.10600243, -23.11078861, -23.11539866, -23.119808  ,\n",
              "       -23.12399206, -23.12792627, -23.13158605, -23.13494682,\n",
              "       -23.137984  , -23.14067302, -23.14298931, -23.14490829,\n",
              "       -23.14640538, -23.147456  , -23.14803558, -23.14811955,\n",
              "       -23.14768333, -23.14670234, -23.145152  , -23.14300774,\n",
              "       -23.14024499, -23.13683917, -23.1327657 , -23.128     ,\n",
              "       -23.1225175 , -23.11629363, -23.10930381, -23.10152346,\n",
              "       -23.092928  , -23.08349286, -23.07319347, -23.06200525,\n",
              "       -23.04990362, -23.036864  , -23.02286182, -23.00787251,\n",
              "       -22.99187149, -22.97483418, -22.956736  , -22.93755238,\n",
              "       -22.91725875, -22.89583053, -22.87324314, -22.849472  ,\n",
              "       -22.82449254, -22.79828019, -22.77081037, -22.7420585 ,\n",
              "       -22.712     , -22.6806103 , -22.64786483, -22.61373901,\n",
              "       -22.57820826, -22.541248  , -22.50283366, -22.46294067,\n",
              "       -22.42154445, -22.37862042, -22.334144  , -22.28809062,\n",
              "       -22.24043571, -22.19115469, -22.14022298, -22.087616  ,\n",
              "       -22.03330918, -21.97727795, -21.91949773, -21.85994394,\n",
              "       -21.798592  , -21.73541734, -21.67039539, -21.60350157,\n",
              "       -21.5347113 , -21.464     , -21.3913431 , -21.31671603,\n",
              "       -21.24009421, -21.16145306, -21.080768  , -20.99801446,\n",
              "       -20.91316787, -20.82620365, -20.73709722, -20.645824  ,\n",
              "       -20.55235942, -20.45667891, -20.35875789, -20.25857178,\n",
              "       -20.156096  , -20.05130598, -19.94417715, -19.83468493,\n",
              "       -19.72280474, -19.608512  , -19.49178214, -19.37259059,\n",
              "       -19.25091277, -19.1267241 , -19.        ])"
            ]
          },
          "metadata": {},
          "execution_count": 13
        }
      ],
      "source": [
        "q(T)"
      ]
    },
    {
      "cell_type": "code",
      "execution_count": 13,
      "metadata": {
        "id": "_U264vRz4fhf"
      },
      "outputs": [],
      "source": []
    },
    {
      "cell_type": "markdown",
      "metadata": {
        "id": "OmMbaKRYaGh8"
      },
      "source": [
        "# Section 3 -  Plotting a Function\n",
        "\n",
        "---\n",
        "\n",
        "\n",
        "* Now that we can define basic polynomial functions, we would like to use Python to __plot__ the graphs of these functions.\n",
        "\n",
        "\n",
        "* This means we choose a list of input values __$x$__ and evaluate the function at each input value.\n",
        "\n",
        "\n",
        "* This list of __$x$-inputs__ is called the __plot-interval__."
      ]
    },
    {
      "cell_type": "markdown",
      "metadata": {
        "id": "ZnogIpBWaGh9"
      },
      "source": [
        "## _Example 3_ - Plotting a quadratic polynomial\n",
        "\n",
        "* We will now use the function __plt.plot()__ from the __matplotlib.pyyplot__ library to plot the polynomial __p(x)__ from equation $\\text{(Eq. 1)}$ along the interval __X__.\n",
        "\n",
        "\n",
        "* The plot of __p(x)__ is shown in the cell below:"
      ]
    },
    {
      "cell_type": "code",
      "execution_count": 14,
      "metadata": {
        "id": "WNV8pee1aGh9",
        "outputId": "3761a1fc-410c-4b8b-85b2-0929f1fe054c",
        "colab": {
          "base_uri": "https://localhost:8080/",
          "height": 430
        }
      },
      "outputs": [
        {
          "output_type": "display_data",
          "data": {
            "text/plain": [
              "<Figure size 640x480 with 1 Axes>"
            ],
            "image/png": "[encoded data removed]"
          },
          "metadata": {}
        }
      ],
      "source": [
        "plt.plot(X,p(X))\n",
        "plt.show()"
      ]
    },
    {
      "cell_type": "code",
      "execution_count": 14,
      "metadata": {
        "id": "uCUCW_k44fhg"
      },
      "outputs": [],
      "source": []
    },
    {
      "cell_type": "markdown",
      "metadata": {
        "id": "gUzZ35KCaGh9"
      },
      "source": [
        "## Extra plot details\n",
        "\n",
        "\n",
        "### Plotting the $x$ & $y$ axes\n",
        "\n",
        "* Notice that __plt.plot()__ places the $x$ and $y$ axes at the edges of the plot, whereas we usually put them at the centre of the plot.\n",
        "\n",
        "\n",
        "* We can add in vertical and horizontal lines to represent these axes using the commands:\n",
        "    \n",
        "    * __plt.axvline(x=0)__ - plot a vertical line at $x=0$ - the $y$-axis.\n",
        "    \n",
        "    * __plt.axhline(y=0)__ - plot a horizontal line at $y=0$ - the $x$-axis.\n",
        "\n",
        "\n",
        "### Changing the graph color & width\n",
        "\n",
        "* We can also change the color and width of the graph using the following __arguments__ inside __plt.plot()__:\n",
        "   \n",
        "   *  __c = 'navy'__\n",
        "   \n",
        "   * __lw = 2__\n",
        "  \n",
        "  \n",
        "* __c__ is short for __color__; __lw__ is short for __linewidth__\n",
        "\n",
        "\n",
        "* A list of Python colors can be found at\n",
        "\n",
        "    __https://matplotlib.org/examples/color/named_colors.html__\n",
        "    \n",
        "    \n",
        "### Adding axis labels:\n",
        "\n",
        "* We can add lables to the $x$ & $y$ axes using the following commands:\n",
        "    \n",
        "    * __plt.xlabel('x-axis')__\n",
        "    \n",
        "    * __plt.ylabel('y-axis')__\n",
        "    \n",
        "    \n",
        "* The text inside the inverted commas __' '__ is called a __string__ and can be changed to whatever you want to call each axis."
      ]
    },
    {
      "cell_type": "code",
      "execution_count": 15,
      "metadata": {
        "id": "ahZshca6aGh-",
        "outputId": "1bd3b0cd-b50f-4f03-d928-7c7ad014fcd0",
        "colab": {
          "base_uri": "https://localhost:8080/",
          "height": 449
        }
      },
      "outputs": [
        {
          "output_type": "display_data",
          "data": {
            "text/plain": [
              "<Figure size 640x480 with 1 Axes>"
            ],
            "image/png": "[encoded data removed]"
          },
          "metadata": {}
        }
      ],
      "source": [
        "plt.plot(X,p(X),c='navy', lw=2) # Plot the graph (X,P(X)) colored navy with linewidth 2\n",
        "\n",
        "plt.axhline(y=0,c='black',lw=0.75) # Plot the x-axis y=0\n",
        "plt.axvline(x=0,c='black',lw=0.75) # Plot the y-axis x=0\n",
        "\n",
        "plt.xlabel('x-axis') # Label the horizontal axis\n",
        "plt.ylabel('y-axis') # Label the vertical axis\n",
        "\n",
        "plt.show()"
      ]
    },
    {
      "cell_type": "markdown",
      "metadata": {
        "id": "aj6FmG3UaGh_"
      },
      "source": [
        "## _Exercise_ 3 - Plotting the cubic polynomial q(x)\n",
        "\n",
        "   a) Plot the graph of the cubic polynomial given in equation (Eq. 2), over the inteval __T__ defined in __Exercise 2__\n",
        "\n",
        "   b) Include horizontal and vertical lines to represent the $x$-axis (i.e. $y=0$) and the $y$-axis (i.e. $x=0$).\n",
        "\n",
        "   c) Set the colur of the graph as __dodgerblue__ and the linewidth as __1.45__"
      ]
    },
    {
      "cell_type": "code",
      "execution_count": 16,
      "metadata": {
        "id": "4D8Yquvn4fhi",
        "colab": {
          "base_uri": "https://localhost:8080/",
          "height": 449
        },
        "outputId": "56c3376f-ea12-41e1-cfeb-909d754d4cac"
      },
      "outputs": [
        {
          "output_type": "display_data",
          "data": {
            "text/plain": [
              "<Figure size 640x480 with 1 Axes>"
            ],
            "image/png": "[encoded data removed]"
          },
          "metadata": {}
        }
      ],
      "source": [
        "plt.plot(T,q(T),c='dodgerblue',lw=2)\n",
        "\n",
        "plt.axhline(y=0,c='black',lw=0.75)\n",
        "plt.axvline(x=0,c='black',lw=0.75)\n",
        "\n",
        "plt.xlabel('x-axis')\n",
        "plt.ylabel('y-axis')\n",
        "\n",
        "plt.show()"
      ]
    },
    {
      "cell_type": "code",
      "execution_count": 16,
      "metadata": {
        "id": "7x-vyTay4fhi"
      },
      "outputs": [],
      "source": []
    },
    {
      "cell_type": "code",
      "execution_count": 16,
      "metadata": {
        "id": "xDU-zKNe4fhi"
      },
      "outputs": [],
      "source": []
    },
    {
      "cell_type": "code",
      "execution_count": 16,
      "metadata": {
        "id": "vT2D83KZ4fhj"
      },
      "outputs": [],
      "source": []
    },
    {
      "cell_type": "code",
      "execution_count": 16,
      "metadata": {
        "id": "dbZXW66-4fhj"
      },
      "outputs": [],
      "source": []
    },
    {
      "cell_type": "markdown",
      "metadata": {
        "collapsed": true,
        "id": "fganjidNaGiE"
      },
      "source": [
        "# Section 4: Roots of Polynomials\n",
        "\n",
        "---\n",
        "\n",
        "* The roots of a polynomial are the values of $x$ where the output becomes __zero__\n",
        "\n",
        "\n",
        "* For example, the polynomial in $\\text{(Eq. 1)}$\n",
        "$$\n",
        "p(x) = x^2 - 4x - 5\n",
        "$$\n",
        "has __roots__ at\n",
        "$$\n",
        "x=-1, \\quad x = 5.\n",
        "$$\n",
        "\n",
        "\n",
        "\n",
        "* We see that if we use the __roots as inputs__, then the __outputs are zero__ in each case:\n",
        "\n",
        "\\begin{align}\n",
        "p(-1) &= (-1)^2 - 4(-1) - 4 = 1 + 5 - 5 = 0 \\\\\n",
        "p(5)  &= (5)^2 -4(5) - 5 = 25 - 20 - 5 = 0.\n",
        "\\end{align}\n",
        "\n",
        "\n",
        "\n",
        "* In fact, these are the only values of $x$ that will make the output zero, which can be seen from the graph __(X , p(X)):__"
      ]
    },
    {
      "cell_type": "code",
      "execution_count": 17,
      "metadata": {
        "id": "G-fxPj4U4fhj",
        "outputId": "46c28062-238e-476a-f74a-4dc579e89525",
        "colab": {
          "base_uri": "https://localhost:8080/",
          "height": 449
        }
      },
      "outputs": [
        {
          "output_type": "display_data",
          "data": {
            "text/plain": [
              "<Figure size 640x480 with 1 Axes>"
            ],
            "image/png": "[encoded data removed]"
          },
          "metadata": {}
        }
      ],
      "source": [
        "plt.plot(X,p(X),c='navy', lw=2) # Plot the graph (X,P(X)) colored navy with linewidth 2\n",
        "\n",
        "plt.plot(-1,p(-1),'s',c='red') # Plot the root at x=-1 using a red square\n",
        "plt.plot(5,p(5),'s',c='red') # Plot the root at x=-5 using a red square\n",
        "\n",
        "plt.axhline(y=0,c='black',lw=0.75) # Plot the x-axis y=0\n",
        "plt.axvline(x=0,c='black',lw=0.75) # Plot the y-axis x=0\n",
        "\n",
        "plt.xlabel('x-axis') # Label the horizontal axis\n",
        "plt.ylabel('y-axis') # Label the vertical axis\n",
        "\n",
        "plt.show()"
      ]
    },
    {
      "cell_type": "markdown",
      "metadata": {
        "id": "NVGQrhGq4fhk"
      },
      "source": [
        "* As you can see from the graph, the y-value of the graph is zero (i.e. on the horizontal axis __y = 0__) when the inputs are __x = -1__ or __x = 5__\n",
        "\n",
        "\n",
        "* It is clear that for any other input __x__, the graph is either above the $y$-axis __(i.e. p(x) > 0)__ or below the $y$-axis __(i.e. p(x) < 0)__"
      ]
    },
    {
      "cell_type": "markdown",
      "metadata": {
        "id": "ZyYZ42n04fhl"
      },
      "source": [
        "## The quadratic formula\n",
        "\n",
        "* The roots of the quadratic polynomial\n",
        "$$\n",
        "ax^2 + bx + c\n",
        "$$\n",
        "are found using the __quadratic formula__\n",
        "$$\n",
        "x=\\frac{-b \\pm \\sqrt{b^2-4ac}}{2a}.\n",
        "$$\n",
        "\n",
        "\n",
        "* For the polynomial $p(x)=x^2-4x-5$ we have\n",
        "$$\n",
        "a=1\\quad b=-4\\quad c=-5.\n",
        "$$\n",
        "\n",
        "\n",
        "* The quadratic formula tells us the roots are\n",
        "\\begin{align}\n",
        "x&=\\frac{-(-4)-\\sqrt{(-4)^2-4(1)(-5)}}{2(1)} = \\frac{4-\\sqrt{36}}{2} = \\frac{-2}{2}=-1\\\\\n",
        "x&=\\frac{-(-4)+\\sqrt{(-4)^2-4(1)(-5)}}{2(1)} = \\frac{4+\\sqrt{36}}{2} = \\frac{10}{2}=5.\n",
        "\\end{align}"
      ]
    },
    {
      "cell_type": "markdown",
      "metadata": {
        "id": "QXSmbCGF4fhl"
      },
      "source": [
        "## Factorising a polynomial\n",
        "\n",
        "* This now means we can also write the polynomial\n",
        "$$\n",
        "p(x) = x^2-4x-5\n",
        "$$\n",
        "in terms of its roots as\n",
        "$$\n",
        "p(x) = (x-(-1))(x-5)) = (x+1)(x-5).\n",
        "$$\n",
        "\n",
        "\n",
        "* This is called the __FACTORISATION__ of the polynomial $p(x)$.\n",
        "\n",
        "\n",
        "* If we expand the brackets we find\n",
        "$$\n",
        "(x+1)(x-5) = x^2+x-5x-5=x^2-4x-5\n",
        "$$\n",
        "which is exactly $p(x)$.\n",
        "\n",
        "\n",
        "\n",
        "* Now it is very easy to see why the polynomial vanishes at $x=-1$ and $x=5$, because\n",
        "\\begin{align}\n",
        "p(-1) &= (-1+1)(-1-5)=(0)(-6)=0 \\\\\n",
        "p(5)  & = (5+1)(5-5) = (6)(0)=0.\n",
        "\\end{align}"
      ]
    },
    {
      "cell_type": "markdown",
      "metadata": {
        "id": "7Wtf6PeE4fhm"
      },
      "source": [
        "## Section 4.1: Finding roots numerically\n",
        "\n",
        "* It is __always possible__ to __factorise__ a polynomial in terms of its roots, it is just that finding the roots becomes more and more difficult as the order $n$ __increases__\n",
        "\n",
        "\n",
        "* However, in python there are functions which find these roots __numerically__, for example __np.roots()__ will find the roots of a polynomial of __any order n__.\n",
        "\n",
        "\n",
        "* The __inputs__ for this function are the __coefficients__ of the polynomial\n",
        "$$\n",
        "a_{n}, a_{n-1},\\ldots,a_{0}.\n",
        "$$\n",
        "\n",
        "* For example using the coefficients of $p(x)$ in $\\text{(Eq. 1)}$ we find"
      ]
    },
    {
      "cell_type": "code",
      "execution_count": 18,
      "metadata": {
        "id": "BEDmcMje4fhm",
        "outputId": "9b5e7cf2-be44-4e0f-c139-ac9b18f30683",
        "colab": {
          "base_uri": "https://localhost:8080/"
        }
      },
      "outputs": [
        {
          "output_type": "execute_result",
          "data": {
            "text/plain": [
              "array([ 5., -1.])"
            ]
          },
          "metadata": {},
          "execution_count": 18
        }
      ],
      "source": [
        "np.roots([1,-4,-5])"
      ]
    },
    {
      "cell_type": "markdown",
      "metadata": {
        "id": "xLdvZ-fp4fhm"
      },
      "source": [
        "## _Example_ 4\n",
        "\n",
        "* Given the $\\mathbf{5^{th}-order}$ polynomial\n",
        "$$\n",
        "R(x)=x^5-7x^4+17x^3-21x^2-6x+40\n",
        "$$\n",
        "answer the following:"
      ]
    },
    {
      "cell_type": "markdown",
      "metadata": {
        "id": "puqk8PtJ4fhm"
      },
      "source": [
        "1. Define a function __R(x)__ to represent this polynomial."
      ]
    },
    {
      "cell_type": "code",
      "execution_count": 19,
      "metadata": {
        "id": "MR0Unf8J4fhn"
      },
      "outputs": [],
      "source": [
        "def R(x):\n",
        "    return x**5 - 7*x**4 + 17*x**3 - 21*x**2 - 6*x + 40"
      ]
    },
    {
      "cell_type": "markdown",
      "metadata": {
        "id": "NUMND69I4fhn"
      },
      "source": [
        "2. Plot this function along the interval __X = [ -1.5 , 4.5 ]__ with __N = 201__ points. Include the $x$ and $y$ axes in this plot."
      ]
    },
    {
      "cell_type": "code",
      "execution_count": 20,
      "metadata": {
        "id": "meP0SV_w4fhn"
      },
      "outputs": [],
      "source": [
        "X=np.linspace(-1.5,4.5,201)"
      ]
    },
    {
      "cell_type": "code",
      "execution_count": 21,
      "metadata": {
        "id": "gi5xsNW74fho",
        "outputId": "c206a05e-f001-4254-8bae-9ba39edf80cd",
        "colab": {
          "base_uri": "https://localhost:8080/",
          "height": 449
        }
      },
      "outputs": [
        {
          "output_type": "display_data",
          "data": {
            "text/plain": [
              "<Figure size 640x480 with 1 Axes>"
            ],
            "image/png": "[encoded data removed]"
          },
          "metadata": {}
        }
      ],
      "source": [
        "plt.plot(X,R(X),c='darkgreen', lw=1.5) # Plot the graph (X,R(X)) colored darkgreen with linewidth 1.5\n",
        "\n",
        "plt.axhline(y=0,c='black',lw=0.75) # Plot the x-axis y=0\n",
        "plt.axvline(x=0,c='black',lw=0.75) # Plot the y-axis x=0\n",
        "\n",
        "plt.xlabel('x-axis') # Label the horizontal axis\n",
        "plt.ylabel('y-axis') # Label the vertical axis\n",
        "\n",
        "plt.show()"
      ]
    },
    {
      "cell_type": "markdown",
      "metadata": {
        "id": "6pJDVXWd4fho"
      },
      "source": [
        "3. Count how may times the graph of __R(x)__ crosses the $x$-axis, this tells us how many __REAL ROOTS__ this polynomial has."
      ]
    },
    {
      "cell_type": "markdown",
      "metadata": {
        "id": "KCPd1g984fho"
      },
      "source": [
        "* From the figure, it appears the graph crosses the $x$-axis (horizontal axis) __3 TIMES__.\n",
        "\n",
        "\n",
        "\n",
        "* This means there are __THREE x-values__ where $R(x) = 0$, i.e. $R$ has three real roots"
      ]
    },
    {
      "cell_type": "markdown",
      "metadata": {
        "id": "Wralzytk4fhp"
      },
      "source": [
        "4. Use the function __np.roots()__ to find the roots of this polynomial. How many of these roots are real valued?"
      ]
    },
    {
      "cell_type": "markdown",
      "metadata": {
        "id": "UVnqSkIx4fhp"
      },
      "source": [
        "* The __coefficients__ of the polynomial are"
      ]
    },
    {
      "cell_type": "code",
      "execution_count": 22,
      "metadata": {
        "id": "pI9-g_Na4fhp"
      },
      "outputs": [],
      "source": [
        "a5=1\n",
        "a4=-7\n",
        "a3=17\n",
        "a2=-21\n",
        "a1=-6\n",
        "a0=40"
      ]
    },
    {
      "cell_type": "markdown",
      "metadata": {
        "id": "Too2DxWG4fhp"
      },
      "source": [
        "* The __roots__ of the polynomial are"
      ]
    },
    {
      "cell_type": "code",
      "execution_count": 23,
      "metadata": {
        "id": "zLJDdn9i4fhp",
        "outputId": "516ea41e-d09f-44c7-c13e-030923120085",
        "colab": {
          "base_uri": "https://localhost:8080/"
        }
      },
      "outputs": [
        {
          "output_type": "execute_result",
          "data": {
            "text/plain": [
              "array([ 4.+0.j,  1.+2.j,  1.-2.j,  2.+0.j, -1.+0.j])"
            ]
          },
          "metadata": {},
          "execution_count": 23
        }
      ],
      "source": [
        "np.roots([a5,a4,a3,a2,a1,a0])"
      ]
    },
    {
      "cell_type": "markdown",
      "metadata": {
        "id": "etBmfKgi4fhq"
      },
      "source": [
        "* As we can see there are __5 roots__, but two of these are complex since __$j=\\sqrt{-1}$__ is the imaginary unit (also called $i$), so only __THREE__ are real valued.\n",
        "\n",
        "\n",
        "* We can extract the roots individually using the following trick:"
      ]
    },
    {
      "cell_type": "code",
      "execution_count": 24,
      "metadata": {
        "id": "wfPPvfMb4fhq"
      },
      "outputs": [],
      "source": [
        "x1,x2,x3,x4,x5=np.round(np.roots([a5,a4,a3,a2,a1,a0]),2)"
      ]
    },
    {
      "cell_type": "markdown",
      "metadata": {
        "id": "YJpiH-v-4fhq"
      },
      "source": [
        "* We introduced __5 new__ numbers __x1, x2, x3, x4, x5__ and set them equal to the roots of the polynomial:\n",
        "\n",
        "\n",
        "* We also __wrap__ the __np.roots()__ function with the command __np.round( ,2),__ which rounds-off all numbers to __2 decimal places__."
      ]
    },
    {
      "cell_type": "code",
      "execution_count": 25,
      "metadata": {
        "id": "1R916v0F4fhr",
        "outputId": "0aa1185d-bf91-43b5-dc34-22c0e2e6e582",
        "colab": {
          "base_uri": "https://localhost:8080/"
        }
      },
      "outputs": [
        {
          "output_type": "execute_result",
          "data": {
            "text/plain": [
              "(4+0j)"
            ]
          },
          "metadata": {},
          "execution_count": 25
        }
      ],
      "source": [
        "x1"
      ]
    },
    {
      "cell_type": "code",
      "execution_count": 26,
      "metadata": {
        "id": "d2zlJVTK4fhr",
        "outputId": "2f958d21-7e70-4e85-879e-12c2c5f474b9",
        "colab": {
          "base_uri": "https://localhost:8080/"
        }
      },
      "outputs": [
        {
          "output_type": "execute_result",
          "data": {
            "text/plain": [
              "(1+2j)"
            ]
          },
          "metadata": {},
          "execution_count": 26
        }
      ],
      "source": [
        "x2"
      ]
    },
    {
      "cell_type": "code",
      "execution_count": 27,
      "metadata": {
        "id": "V3-tLvq94fhr",
        "outputId": "24e942a0-8740-4380-ee54-69cbd3f73393",
        "colab": {
          "base_uri": "https://localhost:8080/"
        }
      },
      "outputs": [
        {
          "output_type": "execute_result",
          "data": {
            "text/plain": [
              "(1-2j)"
            ]
          },
          "metadata": {},
          "execution_count": 27
        }
      ],
      "source": [
        "x3"
      ]
    },
    {
      "cell_type": "code",
      "execution_count": 28,
      "metadata": {
        "id": "WF68bxw_4fhr",
        "outputId": "58c8edbf-314b-4564-8882-0141fde3e03b",
        "colab": {
          "base_uri": "https://localhost:8080/"
        }
      },
      "outputs": [
        {
          "output_type": "execute_result",
          "data": {
            "text/plain": [
              "(2+0j)"
            ]
          },
          "metadata": {},
          "execution_count": 28
        }
      ],
      "source": [
        "x4"
      ]
    },
    {
      "cell_type": "code",
      "execution_count": 29,
      "metadata": {
        "id": "Y4JKwlOv4fhs",
        "outputId": "eba7151c-8643-4dee-e0d5-b9836278aaa9",
        "colab": {
          "base_uri": "https://localhost:8080/"
        }
      },
      "outputs": [
        {
          "output_type": "execute_result",
          "data": {
            "text/plain": [
              "(-1+0j)"
            ]
          },
          "metadata": {},
          "execution_count": 29
        }
      ],
      "source": [
        "x5"
      ]
    },
    {
      "cell_type": "markdown",
      "metadata": {
        "id": "xYNNkuVV4fhs"
      },
      "source": [
        "* Clearly __x1 = 4, x4 = 2, x5 = -1__ are the __real roots__ of $R(x)$.\n",
        "\n",
        "\n",
        "* Looking at the graph of __R(x)__, these are the __x-values__ where the graph of __R(x)__ crosses the $x$-axis, as expected.\n",
        "\n",
        "\n",
        "\n",
        "* Another way of saying this is __R(4) = 0, R(2) = 0, R(-1) = 0__, so if we use __root as inputs__ the __outputs are zero__\n"
      ]
    },
    {
      "cell_type": "code",
      "execution_count": 30,
      "metadata": {
        "id": "bAkImxw_4fht",
        "outputId": "2b7dbead-bded-4237-f6a9-5273cddd4b03",
        "colab": {
          "base_uri": "https://localhost:8080/"
        }
      },
      "outputs": [
        {
          "output_type": "execute_result",
          "data": {
            "text/plain": [
              "(0, 0, 0)"
            ]
          },
          "metadata": {},
          "execution_count": 30
        }
      ],
      "source": [
        "R(4), R(2), R(-1)"
      ]
    },
    {
      "cell_type": "markdown",
      "metadata": {
        "id": "GhGqvInw4fht"
      },
      "source": [
        "* We also find the __complex roots__ have __output zero__"
      ]
    },
    {
      "cell_type": "code",
      "execution_count": 31,
      "metadata": {
        "id": "d6iG-hZd4fht",
        "outputId": "2c914dd3-4782-44ac-af69-3c32367c24e5",
        "colab": {
          "base_uri": "https://localhost:8080/"
        }
      },
      "outputs": [
        {
          "output_type": "execute_result",
          "data": {
            "text/plain": [
              "(0j, 0j)"
            ]
          },
          "metadata": {},
          "execution_count": 31
        }
      ],
      "source": [
        "R(1+2j), R(1-2j)"
      ]
    },
    {
      "cell_type": "markdown",
      "metadata": {
        "id": "80eyBO7p4fhv"
      },
      "source": [
        "---\n",
        "# IMPORTANT\n",
        "\n",
        "* The polynomial $R(x)$ is of __order n = 5.__\n",
        "\n",
        "\n",
        "\n",
        "* The __number of roots__ of $R(x)$ is also $5$, however not all roots are equal.\n",
        "\n",
        "\n",
        "\n",
        "* __In general__, a polynomial of __order n__ will have __n roots__, however some roots may be complex while other roots may be repeated.\n",
        "---"
      ]
    },
    {
      "cell_type": "markdown",
      "metadata": {
        "id": "fXk2oPYR4fhv"
      },
      "source": [
        "## Exercise 4\n",
        "\n",
        "* Given the $\\mathbf{6^{th}-order}$ polynomial\n",
        "$$\n",
        "K(x) = x^6  - 4x^5 - 2x^4 + 20x^3 - 11x^2 - 16x + 12\n",
        "$$\n",
        "answer the following:"
      ]
    },
    {
      "cell_type": "markdown",
      "metadata": {
        "id": "SV2E_ZwN4fhw"
      },
      "source": [
        "1. Define a function __K(x)__ to represent this polynomial"
      ]
    },
    {
      "cell_type": "code",
      "execution_count": 32,
      "metadata": {
        "id": "Mj9U7w1r4fhw"
      },
      "outputs": [],
      "source": [
        "def K(x):\n",
        "  return x**6-4*x**5-2*x**4+20*x**3-11*x**2-16*x+12"
      ]
    },
    {
      "cell_type": "code",
      "execution_count": 32,
      "metadata": {
        "id": "XXli1g0t4fhw"
      },
      "outputs": [],
      "source": []
    },
    {
      "cell_type": "markdown",
      "metadata": {
        "id": "wCRFYG_b4fhw"
      },
      "source": [
        "2. Plot the graph of __K(x)__ over the interval __X = [ -2.1 , 3.1 ]__ with __N = 201__ points and include the $x$ and $y$ axes on this graph."
      ]
    },
    {
      "cell_type": "code",
      "execution_count": 33,
      "metadata": {
        "id": "akmYHNpl4fhw"
      },
      "outputs": [],
      "source": [
        "X=np.linspace(-2.1,3.1,201)"
      ]
    },
    {
      "cell_type": "code",
      "execution_count": 34,
      "metadata": {
        "id": "47ei-yQQ4fhw",
        "colab": {
          "base_uri": "https://localhost:8080/",
          "height": 467
        },
        "outputId": "111b2781-8fbe-4a0f-9263-fcd2bea04d6d"
      },
      "outputs": [
        {
          "output_type": "execute_result",
          "data": {
            "text/plain": [
              "<function matplotlib.pyplot.show(close=None, block=None)>"
            ]
          },
          "metadata": {},
          "execution_count": 34
        },
        {
          "output_type": "display_data",
          "data": {
            "text/plain": [
              "<Figure size 640x480 with 1 Axes>"
            ],
            "image/png": "[encoded data removed]"
          },
          "metadata": {}
        }
      ],
      "source": [
        "plt.plot(X,K(X),c='blue',lw=1.5)\n",
        "\n",
        "plt.axhline(y=0,c='black',lw=0.75)\n",
        "plt.axvline(x=0,c='black',lw=0.75)\n",
        "\n",
        "plt.xlabel('x-axis')\n",
        "plt.ylabel('y-axis')\n",
        "\n",
        "plt.show"
      ]
    },
    {
      "cell_type": "code",
      "execution_count": 34,
      "metadata": {
        "id": "egOIPYOt4fhw"
      },
      "outputs": [],
      "source": []
    },
    {
      "cell_type": "markdown",
      "metadata": {
        "id": "mD9TF8L24fhw"
      },
      "source": [
        "3. How namy times does the graph cross the $x$-axis? How many __REAL ROOTS__ do you expect the graph to have?"
      ]
    },
    {
      "cell_type": "code",
      "execution_count": 63,
      "metadata": {
        "id": "nnny1MOy4fhw"
      },
      "outputs": [],
      "source": [
        "a6=1\n",
        "a5=-4\n",
        "a4=-2\n",
        "a3=20\n",
        "a2=-11\n",
        "a1=-16\n",
        "a0=12"
      ]
    },
    {
      "cell_type": "code",
      "execution_count": 64,
      "metadata": {
        "id": "Dccvn69d4fhw",
        "colab": {
          "base_uri": "https://localhost:8080/"
        },
        "outputId": "1bd85d88-35ee-403d-e59f-93aa88f359df"
      },
      "outputs": [
        {
          "output_type": "execute_result",
          "data": {
            "text/plain": [
              "array([ 3.+0.00000000e+00j, -2.+0.00000000e+00j, -1.+0.00000000e+00j,\n",
              "        2.+0.00000000e+00j,  1.+1.19205689e-08j,  1.-1.19205689e-08j])"
            ]
          },
          "metadata": {},
          "execution_count": 64
        }
      ],
      "source": [
        "np.roots([a6,a5,a4,a3,a2,a1,a0])"
      ]
    },
    {
      "cell_type": "markdown",
      "metadata": {
        "id": "7a1OM61Q4fhx"
      },
      "source": [
        "4. Use the function __np.roots()__ to calculate the roots of __K(x)__ and use __np.round()__ to round the roots to 2 d.p."
      ]
    },
    {
      "cell_type": "code",
      "execution_count": 65,
      "metadata": {
        "id": "0DCST9VK4fhy"
      },
      "outputs": [],
      "source": [
        "y1,y2,y3,y4,y5,y6=np.round(np.roots([a6,a5,a4,a3,a2,a1,a0]),2)"
      ]
    },
    {
      "cell_type": "code",
      "execution_count": 67,
      "metadata": {
        "id": "8rRcdZGv4fhy",
        "colab": {
          "base_uri": "https://localhost:8080/"
        },
        "outputId": "d837f922-8927-40bc-b244-bd0c2b478195"
      },
      "outputs": [
        {
          "output_type": "execute_result",
          "data": {
            "text/plain": [
              "(1+0j)"
            ]
          },
          "metadata": {},
          "execution_count": 67
        }
      ],
      "source": [
        "y5"
      ]
    },
    {
      "cell_type": "markdown",
      "metadata": {
        "id": "yZcUNsPi4fhz"
      },
      "source": [
        "5. How many of these are __real valued__? Check that __K(x) = 0__ for each of the roots found in __part 4.__"
      ]
    },
    {
      "cell_type": "code",
      "execution_count": 62,
      "metadata": {
        "id": "6djDusYP4fhz",
        "colab": {
          "base_uri": "https://localhost:8080/"
        },
        "outputId": "47f42a9a-6d81-4612-ba95-33aa591f84ae"
      },
      "outputs": [
        {
          "output_type": "execute_result",
          "data": {
            "text/plain": [
              "(0, 0, 0)"
            ]
          },
          "metadata": {},
          "execution_count": 62
        }
      ],
      "source": [
        "K(3),K(-2),K(-1)"
      ]
    },
    {
      "cell_type": "code",
      "execution_count": 69,
      "metadata": {
        "id": "hzdNsepW4fhz",
        "colab": {
          "base_uri": "https://localhost:8080/"
        },
        "outputId": "909888cc-be35-4457-dd5b-611d1e9e0a9e"
      },
      "outputs": [
        {
          "output_type": "execute_result",
          "data": {
            "text/plain": [
              "(0j, 0j)"
            ]
          },
          "metadata": {},
          "execution_count": 69
        }
      ],
      "source": [
        "K(1-0j), K(1+0j)"
      ]
    },
    {
      "cell_type": "markdown",
      "metadata": {
        "id": "IK8ssg-v4fhz"
      },
      "source": [
        "## Comment:\n",
        "\n",
        "* In __Exercise 4 - Part 5__ you should find __6 real roots__.\n",
        "\n",
        "\n",
        "* However, the roots $1-0j=1+0j=1$ are the same root.\n",
        "\n",
        "\n",
        "* The root $x=1$ is called a __double root__ in this case, since it appears as a root twice.\n",
        "\n",
        "\n",
        "* It corresponds to the point where the graph __touches__ the $x$-axis."
      ]
    },
    {
      "cell_type": "code",
      "execution_count": 70,
      "metadata": {
        "id": "9mJ-X3KM4fh0"
      },
      "outputs": [],
      "source": [
        "# Thanks for this lecture"
      ]
    },
    {
      "cell_type": "code",
      "source": [],
      "metadata": {
        "id": "1tuk5n0VzQ0w"
      },
      "execution_count": null,
      "outputs": []
    }
  ],
  "metadata": {
    "colab": {
      "provenance": []
    },
    "kernelspec": {
      "display_name": "Python 3 (ipykernel)",
      "language": "python",
      "name": "python3"
    },
    "language_info": {
      "codemirror_mode": {
        "name": "ipython",
        "version": 3
      },
      "file_extension": ".py",
      "mimetype": "text/x-python",
      "name": "python",
      "nbconvert_exporter": "python",
      "pygments_lexer": "ipython3",
      "version": "3.9.12"
    }
  },
  "nbformat": 4,
  "nbformat_minor": 0
}