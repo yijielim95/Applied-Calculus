{
  "nbformat": 4,
  "nbformat_minor": 0,
  "metadata": {
    "kernelspec": {
      "display_name": "Python 2",
      "language": "python",
      "name": "python2"
    },
    "language_info": {
      "codemirror_mode": {
        "name": "ipython",
        "version": 2
      },
      "file_extension": ".py",
      "mimetype": "text/x-python",
      "name": "python",
      "nbconvert_exporter": "python",
      "pygments_lexer": "ipython2",
      "version": "2.7.17"
    },
    "colab": {
      "provenance": []
    }
  },
  "cells": [
    {
      "cell_type": "markdown",
      "metadata": {
        "id": "5DkAxPp7Qd0e"
      },
      "source": [
        "### Name: Yi Jie Lim\n",
        "### Student Number: 20104720"
      ]
    },
    {
      "cell_type": "markdown",
      "metadata": {
        "id": "isUr01YjQd0l"
      },
      "source": [
        "# Python Workbook 7 - Integration\n",
        "\n",
        "## Introduction\n",
        "\n",
        "In this practical we will use Python to study integration and some of its applications (average value, area, etc).\n",
        "\n",
        "## Mathematical Concepts\n",
        "\n",
        " * The __indefinite integral__ (or __anti-derivative__) of a function, $f(x)$, is the function $F(x)$ defined by\n",
        "$$\n",
        "   \\frac{dF}{dx} = f(x),\n",
        "$$\n",
        "where the function $F(x)$ is found by integrating $f(x)$\n",
        "$$\n",
        " F(x) = \\int f(x) dx + C      \\implies\n",
        "$$\n",
        "where $C$ is an arbitrary constant called an __integration constant__.\n",
        "\n",
        "\n",
        " * The __definite integral__ of a function, $f(x)$, is the *number*, $A$, defined by\n",
        "$$\n",
        "    A = \\int_a^b f(x) dx\n",
        "$$\n",
        "and **if** $f(x)\\ge 0$ then the definite integral is equal to the area between the function and the x-axis over the interval $x=a$ to $x=b$.\n",
        "\n",
        "\n",
        "### Python Functions\n",
        "\n",
        " * In this workbook we will use the following functions from the  symbolic python module __sympy__:\n",
        "    * __symbols__ or (better) __Symbol__ used to define a symbol.\n",
        "    * __Function__ to define a symbolic function.\n",
        "    * __limit(f, t, t0)__ to compute the limit of the expression, __f__, as the variable __t__ tends towards __t0__.\n",
        "    * __diff(f, t)__ to differentiate the function, __f__, with respect to variable __t__.\n",
        "    * __display__ to dispaly an experssion using mathematics notation.\n",
        "    * __integrate(f,t)__ to calculate the indefinite integral of $f(t)$.\n",
        "    * __integrate(f,(t,a,b))__ to calculate the definite integral of $f(t)$ over the interval $a\\leq t\\leq b$.\n",
        "and standard methods.\n",
        "    * __subs(exp_old,exp_new)__ to substitute sub-expresion __exp_old__ with __exp_new__.\n",
        "    * __solve(eqn,x)__ finds all values of $x$ which make $eqn=0$."
      ]
    },
    {
      "cell_type": "code",
      "metadata": {
        "id": "h4TNtMpFQd0m"
      },
      "source": [
        "# for numeric work\n",
        "import numpy as np\n",
        "import matplotlib.pyplot as plt\n",
        "\n",
        "# for symbolic work\n",
        "from sympy import *\n",
        "from sympy.plotting import plot, plot_parametric\n",
        "from sympy import init_printing\n",
        "init_printing()\n"
      ],
      "execution_count": null,
      "outputs": []
    },
    {
      "cell_type": "markdown",
      "metadata": {
        "id": "BYmH1K5SQd0p"
      },
      "source": [
        "## Example 1 - Indefinite Integration (or Anti-derivatives)\n",
        "\n",
        "Given the function\n",
        "$$\n",
        "f(x)=x^3+x^2+1\n",
        "$$\n",
        "answer the following:\n",
        "\n",
        "1. Find the indefinite integral of $f(x)$.\n",
        "\n",
        "2. Check that the derivative of this integral returns $f(x)$."
      ]
    },
    {
      "cell_type": "markdown",
      "metadata": {
        "id": "vjjOIQc7Qd0q"
      },
      "source": [
        "### Part 1:\n",
        "\n",
        "To answer this we must first define the __symbol__ $x$ in the usual way. We are also going to require a second symbol $C$, to denote the arbitrary __integration constant__."
      ]
    },
    {
      "cell_type": "code",
      "metadata": {
        "id": "ILqf5kb3Qd0q"
      },
      "source": [
        "x = symbols('x')\n",
        "C = symbols('C')"
      ],
      "execution_count": null,
      "outputs": []
    },
    {
      "cell_type": "markdown",
      "metadata": {
        "id": "ZoS7qd_tQd0s"
      },
      "source": [
        "Next we define the function $f(x)$:"
      ]
    },
    {
      "cell_type": "code",
      "metadata": {
        "id": "yZpBcpg0Qd0s"
      },
      "source": [
        "f=x**3+x**2+1"
      ],
      "execution_count": null,
      "outputs": []
    },
    {
      "cell_type": "markdown",
      "metadata": {
        "id": "1JlcCUtKQd0s"
      },
      "source": [
        "To find the indefinite integral of $f$ we use the __sympy__ function __integrate(f,x)__.\n",
        "\n",
        "This function requires __two arguments__:\n",
        "\n",
        "* The funciton $f$ we wish to integrate\n",
        "\n",
        "* The varibale $x$ we wish to integrate with respect to"
      ]
    },
    {
      "cell_type": "code",
      "metadata": {
        "scrolled": true,
        "id": "Dss90Fu3Qd0t",
        "outputId": "7bda5694-4bc3-4dda-e84a-5394ae60e31f",
        "colab": {
          "base_uri": "https://localhost:8080/",
          "height": 54
        }
      },
      "source": [
        "integrate(f,x)"
      ],
      "execution_count": null,
      "outputs": [
        {
          "output_type": "execute_result",
          "data": {
            "text/plain": [
              " 4    3    \n",
              "x    x     \n",
              "── + ── + x\n",
              "4    3     "
            ],
            "text/latex": "$\\displaystyle \\frac{x^{4}}{4} + \\frac{x^{3}}{3} + x$"
          },
          "metadata": {},
          "execution_count": 4
        }
      ]
    },
    {
      "cell_type": "markdown",
      "metadata": {
        "id": "suyu8W6kQd0w"
      },
      "source": [
        "Notice that the integral does not contain an arbitrary integration constant. We must add this manually, to give the following __anti-derivative__"
      ]
    },
    {
      "cell_type": "code",
      "metadata": {
        "id": "V9kCL42WQd0x",
        "outputId": "10866b50-ffa5-4a83-931e-0909686a049e",
        "colab": {
          "base_uri": "https://localhost:8080/",
          "height": 54
        }
      },
      "source": [
        "F=integrate(f,x)+C\n",
        "F"
      ],
      "execution_count": null,
      "outputs": [
        {
          "output_type": "execute_result",
          "data": {
            "text/plain": [
              "     4    3    \n",
              "    x    x     \n",
              "C + ── + ── + x\n",
              "    4    3     "
            ],
            "text/latex": "$\\displaystyle C + \\frac{x^{4}}{4} + \\frac{x^{3}}{3} + x$"
          },
          "metadata": {},
          "execution_count": 5
        }
      ]
    },
    {
      "cell_type": "markdown",
      "metadata": {
        "id": "sP2D9KsEQd0x"
      },
      "source": [
        "### Part 2\n",
        "\n",
        "Since  **F** as defined above is an anti-derivative of $f$, this means that if we  __differentiate F__  we should get back __f__.\n",
        "\n",
        "We can check this using the familiar __sympy__ function __diff()__"
      ]
    },
    {
      "cell_type": "code",
      "metadata": {
        "id": "0pfSSFROQd0y",
        "outputId": "0238da39-d899-4d37-9c9d-9ac9a04c28cc",
        "colab": {
          "base_uri": "https://localhost:8080/",
          "height": 39
        }
      },
      "source": [
        "diff(F,x)"
      ],
      "execution_count": null,
      "outputs": [
        {
          "output_type": "execute_result",
          "data": {
            "text/plain": [
              " 3    2    \n",
              "x  + x  + 1"
            ],
            "text/latex": "$\\displaystyle x^{3} + x^{2} + 1$"
          },
          "metadata": {},
          "execution_count": 6
        }
      ]
    },
    {
      "cell_type": "markdown",
      "metadata": {
        "id": "IQHyjMHCQd0z"
      },
      "source": [
        "Hence when we differentate **F** it returns the original function __f__."
      ]
    },
    {
      "cell_type": "markdown",
      "metadata": {
        "id": "09y58YGIQd0z"
      },
      "source": [
        "## Exercise 1\n",
        "\n",
        "Given the functions\n",
        "$$\n",
        "g(t)=e^{2t}\\sin(\\pi t)\\\\\n",
        "h(s)=\\ln(s)\n",
        "$$\n",
        "answer the following:\n",
        "\n",
        "1. Declare symbols $s$ and $t$\n",
        "\n",
        "\n",
        "2. Find the anti-derivative of $g(t)$ and $h(s)$\n",
        "\n",
        "\n",
        "3. Differentiate these anti-derivatives and ensure this returns the original function, in each case.\n",
        "\n",
        "__Note:__ The function $e^{t}$ is written in Python as __exp(t)__. The function $\\ln(s)$ is written in Python as __log(s)__"
      ]
    },
    {
      "cell_type": "code",
      "metadata": {
        "id": "mY1Ld-cGQd0z"
      },
      "source": [
        "t = symbols('t')\n",
        "s = symbols('s')\n",
        "C = symbols('C')"
      ],
      "execution_count": null,
      "outputs": []
    },
    {
      "cell_type": "code",
      "metadata": {
        "id": "rrPY8DLFQd00"
      },
      "source": [
        "g = exp(2*t)*sin(pi*t)\n",
        "h = log(s)"
      ],
      "execution_count": null,
      "outputs": []
    },
    {
      "cell_type": "code",
      "source": [
        "integrate(g,t)"
      ],
      "metadata": {
        "id": "BHGlZbGMwWOm",
        "colab": {
          "base_uri": "https://localhost:8080/",
          "height": 55
        },
        "outputId": "b454dd7b-80a1-49c3-c822-882bd7cc3dc5"
      },
      "execution_count": null,
      "outputs": [
        {
          "output_type": "execute_result",
          "data": {
            "text/plain": [
              "   2⋅t               2⋅t         \n",
              "2⋅ℯ   ⋅sin(π⋅t)   π⋅ℯ   ⋅cos(π⋅t)\n",
              "─────────────── - ───────────────\n",
              "          2                 2    \n",
              "     4 + π             4 + π     "
            ],
            "text/latex": "$\\displaystyle \\frac{2 e^{2 t} \\sin{\\left(\\pi t \\right)}}{4 + \\pi^{2}} - \\frac{\\pi e^{2 t} \\cos{\\left(\\pi t \\right)}}{4 + \\pi^{2}}$"
          },
          "metadata": {},
          "execution_count": 14
        }
      ]
    },
    {
      "cell_type": "code",
      "metadata": {
        "id": "4RCFtd9mQd00",
        "colab": {
          "base_uri": "https://localhost:8080/",
          "height": 39
        },
        "outputId": "64f0da1c-f82e-45ba-d325-975713aedea5"
      },
      "source": [
        "integrate(h,s)"
      ],
      "execution_count": null,
      "outputs": [
        {
          "output_type": "execute_result",
          "data": {
            "text/plain": [
              "s⋅log(s) - s"
            ],
            "text/latex": "$\\displaystyle s \\log{\\left(s \\right)} - s$"
          },
          "metadata": {},
          "execution_count": 15
        }
      ]
    },
    {
      "cell_type": "code",
      "source": [
        "G=integrate(g,t)+C\n",
        "G"
      ],
      "metadata": {
        "colab": {
          "base_uri": "https://localhost:8080/",
          "height": 55
        },
        "id": "I4bVjwew9uLC",
        "outputId": "26375cb1-d6db-4cac-848c-3e89efb30b52"
      },
      "execution_count": null,
      "outputs": [
        {
          "output_type": "execute_result",
          "data": {
            "text/plain": [
              "       2⋅t               2⋅t         \n",
              "    2⋅ℯ   ⋅sin(π⋅t)   π⋅ℯ   ⋅cos(π⋅t)\n",
              "C + ─────────────── - ───────────────\n",
              "              2                 2    \n",
              "         4 + π             4 + π     "
            ],
            "text/latex": "$\\displaystyle C + \\frac{2 e^{2 t} \\sin{\\left(\\pi t \\right)}}{4 + \\pi^{2}} - \\frac{\\pi e^{2 t} \\cos{\\left(\\pi t \\right)}}{4 + \\pi^{2}}$"
          },
          "metadata": {},
          "execution_count": 18
        }
      ]
    },
    {
      "cell_type": "code",
      "source": [
        "H=integrate(h,s)+C\n",
        "H"
      ],
      "metadata": {
        "colab": {
          "base_uri": "https://localhost:8080/",
          "height": 39
        },
        "id": "RlPJHZo5-I6g",
        "outputId": "dab1c7f8-c887-4782-d24c-53f4f34cfa07"
      },
      "execution_count": null,
      "outputs": [
        {
          "output_type": "execute_result",
          "data": {
            "text/plain": [
              "C + s⋅log(s) - s"
            ],
            "text/latex": "$\\displaystyle C + s \\log{\\left(s \\right)} - s$"
          },
          "metadata": {},
          "execution_count": 19
        }
      ]
    },
    {
      "cell_type": "code",
      "source": [
        "diff(G,t)"
      ],
      "metadata": {
        "colab": {
          "base_uri": "https://localhost:8080/",
          "height": 55
        },
        "id": "4nFTS1PG-Qf5",
        "outputId": "bdf61a0e-e973-4c71-887e-2629d7eecf04"
      },
      "execution_count": null,
      "outputs": [
        {
          "output_type": "execute_result",
          "data": {
            "text/plain": [
              "   2⋅t             2  2⋅t         \n",
              "4⋅ℯ   ⋅sin(π⋅t)   π ⋅ℯ   ⋅sin(π⋅t)\n",
              "─────────────── + ────────────────\n",
              "          2                 2     \n",
              "     4 + π             4 + π      "
            ],
            "text/latex": "$\\displaystyle \\frac{4 e^{2 t} \\sin{\\left(\\pi t \\right)}}{4 + \\pi^{2}} + \\frac{\\pi^{2} e^{2 t} \\sin{\\left(\\pi t \\right)}}{4 + \\pi^{2}}$"
          },
          "metadata": {},
          "execution_count": 20
        }
      ]
    },
    {
      "cell_type": "code",
      "source": [
        "diff(H,s)"
      ],
      "metadata": {
        "colab": {
          "base_uri": "https://localhost:8080/",
          "height": 39
        },
        "id": "qvR42Eo1-QWQ",
        "outputId": "177a0df1-c1e7-4b1b-ad20-11c4745e4968"
      },
      "execution_count": null,
      "outputs": [
        {
          "output_type": "execute_result",
          "data": {
            "text/plain": [
              "log(s)"
            ],
            "text/latex": "$\\displaystyle \\log{\\left(s \\right)}$"
          },
          "metadata": {},
          "execution_count": 21
        }
      ]
    },
    {
      "cell_type": "markdown",
      "metadata": {
        "id": "f_ehVQMEQd01"
      },
      "source": [
        "## Example 2 - Definite Integration\n",
        "\n",
        "Evaluate the following __definite integal__\n",
        "\n",
        "$$\n",
        "\\int_{-2}^{1} (x^2+1) dx.\n",
        "$$"
      ]
    },
    {
      "cell_type": "markdown",
      "metadata": {
        "id": "ZaqfeUoQQd01"
      },
      "source": [
        "This can be achieved directly, by including an extra pair of parameters in the __integrate(f,x)__ function:\n",
        "\n",
        "* First we define a function to represent the __integrand__ (just to make it easier to work with)"
      ]
    },
    {
      "cell_type": "code",
      "metadata": {
        "id": "5rrlRxVTQd02"
      },
      "source": [
        "p=x**2+1"
      ],
      "execution_count": null,
      "outputs": []
    },
    {
      "cell_type": "markdown",
      "metadata": {
        "id": "FH7tm8JQQd02"
      },
      "source": [
        "* Next we integrate this function between the __limits__ -2 and 1 as follows:"
      ]
    },
    {
      "cell_type": "code",
      "metadata": {
        "id": "kdJOgs7mQd02",
        "outputId": "635cf23b-1fe4-491b-a0a8-fc218faa8a12",
        "colab": {
          "base_uri": "https://localhost:8080/",
          "height": 37
        }
      },
      "source": [
        "integrate(p,(x,-2,1))"
      ],
      "execution_count": null,
      "outputs": [
        {
          "output_type": "execute_result",
          "data": {
            "text/plain": [
              "6"
            ],
            "text/latex": "$\\displaystyle 6$"
          },
          "metadata": {},
          "execution_count": 23
        }
      ]
    },
    {
      "cell_type": "markdown",
      "metadata": {
        "id": "cHzsM9csQd02"
      },
      "source": [
        "* We could also do this the __pen and paper__ way, first getting the __anti-derivative__ of $p$, and then finding the __difference in values__ at the upper and lower limits of integration, i.e."
      ]
    },
    {
      "cell_type": "code",
      "metadata": {
        "id": "wgZiTi2OQd03",
        "outputId": "228c19e2-4800-4095-c136-9618aa60670c",
        "colab": {
          "base_uri": "https://localhost:8080/",
          "height": 54
        }
      },
      "source": [
        "P=integrate(p,x)+C\n",
        "P"
      ],
      "execution_count": null,
      "outputs": [
        {
          "output_type": "execute_result",
          "data": {
            "text/plain": [
              "     3    \n",
              "    x     \n",
              "C + ── + x\n",
              "    3     "
            ],
            "text/latex": "$\\displaystyle C + \\frac{x^{3}}{3} + x$"
          },
          "metadata": {},
          "execution_count": 24
        }
      ]
    },
    {
      "cell_type": "code",
      "metadata": {
        "id": "MqR-ypc4Qd04",
        "outputId": "fb83b2d8-dd90-4798-f5c7-2c56e85cb0bf",
        "colab": {
          "base_uri": "https://localhost:8080/",
          "height": 37
        }
      },
      "source": [
        "P.subs(x,1)-P.subs(x,-2)"
      ],
      "execution_count": null,
      "outputs": [
        {
          "output_type": "execute_result",
          "data": {
            "text/plain": [
              "6"
            ],
            "text/latex": "$\\displaystyle 6$"
          },
          "metadata": {},
          "execution_count": 25
        }
      ]
    },
    {
      "cell_type": "markdown",
      "metadata": {
        "id": "ddG8wLjjQd04"
      },
      "source": [
        "## Interpretation of the Integral"
      ]
    },
    {
      "cell_type": "markdown",
      "metadata": {
        "id": "j05FYh-YQd05"
      },
      "source": [
        "* To emphasise the significance of the integral we will create some of our plots using __matplotlib__ in this workbook.\n",
        "\n",
        "\n",
        "* __matplotlib__ is a numerical package, and __cannot__ work with symbols and symbolic functions defined using __sympy__\n",
        "\n",
        "\n",
        "* For this reason, we have to be careful when creating variables and functions for matplotlip, so they do not clash with symbolic symbols and functions.\n",
        "\n",
        "\n",
        "* In this workbook, all numerical variables will be followed by __**n**__ (for numerical), so for example **xn** is the __numerical__ version of **x**."
      ]
    },
    {
      "cell_type": "code",
      "metadata": {
        "id": "RdJEuzlKQd05"
      },
      "source": [
        "xn=np.linspace(-3,2)\n",
        "\n",
        "def pn(xn):\n",
        "    return xn**2+1"
      ],
      "execution_count": null,
      "outputs": []
    },
    {
      "cell_type": "code",
      "metadata": {
        "id": "k_aar0kBQd05",
        "outputId": "ca5acb36-4ec5-486f-8a98-d19fa9413e1f",
        "colab": {
          "base_uri": "https://localhost:8080/",
          "height": 430
        }
      },
      "source": [
        "plt.plot(xn,pn(xn),color='steelblue');"
      ],
      "execution_count": null,
      "outputs": [
        {
          "output_type": "display_data",
          "data": {
            "text/plain": [
              "<Figure size 640x480 with 1 Axes>"
            ],
            "image/png": "[encoded data removed]"
          },
          "metadata": {}
        }
      ]
    },
    {
      "cell_type": "markdown",
      "metadata": {
        "id": "0_NihEuLQd05"
      },
      "source": [
        "* This is a plot of the function $p$, and we see that the $x$-interval of the plot is just slightly larger that than the interval of integration.\n",
        "\n",
        "* To highlight the interpretation of the integral, we add a vertical line from $(-2,0)$ to $(-2,p(-2))$ and another from $(1,0)$ to $(1,p(1))$.\n",
        "\n",
        "* To plot the first vertical line we use __plt.plot([-2,-2],[0,pn(-2)])__. The plot lists all $x$-coordinates first then all $y$-coordinates"
      ]
    },
    {
      "cell_type": "code",
      "metadata": {
        "id": "gjEsOpdgQd05",
        "outputId": "3f347237-fda1-4ec4-bed9-41278b665cd2",
        "colab": {
          "base_uri": "https://localhost:8080/",
          "height": 435
        }
      },
      "source": [
        "plt.plot(xn,pn(xn),color='steelblue')\n",
        "plt.plot([-2,-2],[0,pn(-2)],color='steelblue',linestyle='--')\n",
        "plt.plot([1,1],[0,pn(1)],color='steelblue',linestyle='--')\n",
        "plt.ylim(0,10);"
      ],
      "execution_count": null,
      "outputs": [
        {
          "output_type": "display_data",
          "data": {
            "text/plain": [
              "<Figure size 640x480 with 1 Axes>"
            ],
            "image/png": "[encoded data removed]"
          },
          "metadata": {}
        }
      ]
    },
    {
      "cell_type": "markdown",
      "metadata": {
        "id": "n52Z9bmPQd06"
      },
      "source": [
        "* The intergal $\\int_{-2}^{1}p(x)dx$ is the area between the two vertical lines and between the $x$-axis and the blue curve.\n",
        "\n",
        "* To indicate this we can use the function __plt.text(-0.75,0.5,'Area=6')__, which places the text __Area=6__ at the point __(-0.75,0.5)__ on the plot"
      ]
    },
    {
      "cell_type": "code",
      "metadata": {
        "id": "35dtmx8eQd07",
        "outputId": "2748de9a-c058-4ef1-bc21-afd6e194bb27",
        "colab": {
          "base_uri": "https://localhost:8080/",
          "height": 453
        }
      },
      "source": [
        "plt.plot(xn,pn(xn),color='steelblue')\n",
        "plt.plot([-2,-2],[0,pn(-2)],color='steelblue',linestyle='--')\n",
        "plt.plot([1,1],[0,pn(1)],color='steelblue',linestyle='--')\n",
        "plt.ylim(0,10)\n",
        "plt.text(-0.75,0.5,'Area=6',size=12)"
      ],
      "execution_count": null,
      "outputs": [
        {
          "output_type": "execute_result",
          "data": {
            "text/plain": [
              "Text(-0.75, 0.5, 'Area=6')"
            ]
          },
          "metadata": {},
          "execution_count": 29
        },
        {
          "output_type": "display_data",
          "data": {
            "text/plain": [
              "<Figure size 640x480 with 1 Axes>"
            ],
            "image/png": "[encoded data removed]"
          },
          "metadata": {}
        }
      ]
    },
    {
      "cell_type": "markdown",
      "metadata": {
        "id": "vENFAQbuQd07"
      },
      "source": [
        "## Exercise 2\n",
        "\n",
        "Given the function\n",
        "$$\n",
        "m(x)=x^2+\\frac{1}{x^2}\n",
        "$$\n",
        "answer the following:\n",
        "\n",
        "1. Evaluate the definite integal\n",
        "$$\n",
        "\\int_{1}^{3}m(x)dx\n",
        "$$\n",
        "by the using one of the methods outlined in __Example 2.__\n",
        "\n",
        "\n",
        "\n",
        "2. Create a plot showing the graph of $m(x)$ and indicating the area calculated in the integral above. You will have to select apropriate $y$-limits for the plot and find an apropriate location to place any text."
      ]
    },
    {
      "cell_type": "code",
      "metadata": {
        "id": "Ib9gQs2gQd07"
      },
      "source": [
        "m=x**2+1/x**2"
      ],
      "execution_count": null,
      "outputs": []
    },
    {
      "cell_type": "code",
      "metadata": {
        "id": "B5uS_4-zQd07",
        "colab": {
          "base_uri": "https://localhost:8080/",
          "height": 51
        },
        "outputId": "ff4f114e-2d2f-4623-9016-a920395c9535"
      },
      "source": [
        "integrate(m,(x,1,3))"
      ],
      "execution_count": null,
      "outputs": [
        {
          "output_type": "execute_result",
          "data": {
            "text/plain": [
              "28/3"
            ],
            "text/latex": "$\\displaystyle \\frac{28}{3}$"
          },
          "metadata": {},
          "execution_count": 32
        }
      ]
    },
    {
      "cell_type": "code",
      "metadata": {
        "id": "K26B1LhYQd08",
        "colab": {
          "base_uri": "https://localhost:8080/",
          "height": 54
        },
        "outputId": "2bdcdd82-900f-4f18-b113-a9e11093c545"
      },
      "source": [
        "M=integrate(m,x)+C\n",
        "M"
      ],
      "execution_count": null,
      "outputs": [
        {
          "output_type": "execute_result",
          "data": {
            "text/plain": [
              "     3    \n",
              "    x    1\n",
              "C + ── - ─\n",
              "    3    x"
            ],
            "text/latex": "$\\displaystyle C + \\frac{x^{3}}{3} - \\frac{1}{x}$"
          },
          "metadata": {},
          "execution_count": 33
        }
      ]
    },
    {
      "cell_type": "code",
      "source": [
        "M.subs(x,3)-M.subs(x,1)"
      ],
      "metadata": {
        "colab": {
          "base_uri": "https://localhost:8080/",
          "height": 51
        },
        "id": "-LtZFP0J_Dlb",
        "outputId": "95ac8518-9877-4fe6-c334-14dc5e8944ec"
      },
      "execution_count": null,
      "outputs": [
        {
          "output_type": "execute_result",
          "data": {
            "text/plain": [
              "28/3"
            ],
            "text/latex": "$\\displaystyle \\frac{28}{3}$"
          },
          "metadata": {},
          "execution_count": 34
        }
      ]
    },
    {
      "cell_type": "code",
      "source": [
        "xn=np.linspace(0,4)\n",
        "\n",
        "def mn(xn):\n",
        "  return xn**2+1/xn**2"
      ],
      "metadata": {
        "id": "lID7-9Vd_Df9"
      },
      "execution_count": null,
      "outputs": []
    },
    {
      "cell_type": "code",
      "source": [
        "plt.plot(xn,mn(xn),color='steelblue');"
      ],
      "metadata": {
        "colab": {
          "base_uri": "https://localhost:8080/",
          "height": 466
        },
        "id": "HVXb4KUY_Dc0",
        "outputId": "599e95d9-ca90-4b72-cb3f-05a73cfa9171"
      },
      "execution_count": null,
      "outputs": [
        {
          "output_type": "stream",
          "name": "stderr",
          "text": [
            "<ipython-input-56-dcd67366ba34>:4: RuntimeWarning: divide by zero encountered in divide\n",
            "  return xn**2+1/xn**2\n"
          ]
        },
        {
          "output_type": "display_data",
          "data": {
            "text/plain": [
              "<Figure size 640x480 with 1 Axes>"
            ],
            "image/png": "[encoded data removed]"
          },
          "metadata": {}
        }
      ]
    },
    {
      "cell_type": "code",
      "source": [
        "plt.plot(xn,mn(xn),color='steelblue')\n",
        "plt.plot([1,1],[0,mn(1)],color='steelblue',linestyle='--')\n",
        "plt.plot([3,3],[0,mn(3)],color='steelblue',linestyle='--')\n",
        "plt.ylim(0,140);"
      ],
      "metadata": {
        "colab": {
          "base_uri": "https://localhost:8080/",
          "height": 471
        },
        "id": "UjtW88mL_DZb",
        "outputId": "6a8ba03a-c883-41dd-8bcb-49983f41dcb9"
      },
      "execution_count": null,
      "outputs": [
        {
          "output_type": "stream",
          "name": "stderr",
          "text": [
            "<ipython-input-56-dcd67366ba34>:4: RuntimeWarning: divide by zero encountered in divide\n",
            "  return xn**2+1/xn**2\n"
          ]
        },
        {
          "output_type": "display_data",
          "data": {
            "text/plain": [
              "<Figure size 640x480 with 1 Axes>"
            ],
            "image/png": "[encoded data removed]"
          },
          "metadata": {}
        }
      ]
    },
    {
      "cell_type": "code",
      "source": [
        "plt.plot(xn,mn(xn),color='steelblue')\n",
        "plt.plot([1,1],[0,mn(1)],color='steelblue',linestyle='--')\n",
        "plt.plot([3,3],[0,mn(3)],color='steelblue',linestyle='--')\n",
        "plt.ylim(0,140);\n",
        "plt.text(1.75,2.25,'Area 9',size=12)"
      ],
      "metadata": {
        "colab": {
          "base_uri": "https://localhost:8080/",
          "height": 489
        },
        "id": "kFoET4-X_DKV",
        "outputId": "ebbcf0a3-d698-423e-a3a8-2a4e8d7c8ab2"
      },
      "execution_count": null,
      "outputs": [
        {
          "output_type": "stream",
          "name": "stderr",
          "text": [
            "<ipython-input-56-dcd67366ba34>:4: RuntimeWarning: divide by zero encountered in divide\n",
            "  return xn**2+1/xn**2\n"
          ]
        },
        {
          "output_type": "execute_result",
          "data": {
            "text/plain": [
              "Text(1.75, 2.25, 'Area 9')"
            ]
          },
          "metadata": {},
          "execution_count": 59
        },
        {
          "output_type": "display_data",
          "data": {
            "text/plain": [
              "<Figure size 640x480 with 1 Axes>"
            ],
            "image/png": "[encoded data removed]"
          },
          "metadata": {}
        }
      ]
    },
    {
      "cell_type": "markdown",
      "metadata": {
        "id": "yi3-PmuDQd08"
      },
      "source": [
        "# Applications of Integration"
      ]
    },
    {
      "cell_type": "markdown",
      "metadata": {
        "id": "HG0Fgy0JQd09"
      },
      "source": [
        "## Example 3\n",
        "\n",
        "An object is moving so that its speed after t minutes is\n",
        "$$\n",
        "v(t) = 1+4t+3t^2\n",
        "$$\n",
        "meters per minute.\n",
        "\n",
        "1. Find a general formula for the displacement, if the displacement at $t=1$ is 25 meters.\n",
        "\n",
        "2. Hence, find the distance travelled between $t=1$ and $t=5$\n",
        "\n",
        "__Note:__ Recall that displacement and velocity are related  by\n",
        "$$\n",
        " v(t)=\\frac{ds}{dt}\\quad\n",
        " \\Rightarrow\\quad s(t)=\\int v(t)dt\n",
        "$$\n",
        "\n",
        "\n"
      ]
    },
    {
      "cell_type": "markdown",
      "metadata": {
        "id": "FOMAuteUQd09"
      },
      "source": [
        "### Part 1\n",
        "\n",
        "#### Step 1 - Define a symbol for time\n"
      ]
    },
    {
      "cell_type": "code",
      "metadata": {
        "id": "8KJmk6JEQd09"
      },
      "source": [
        "t=symbols('t')"
      ],
      "execution_count": null,
      "outputs": []
    },
    {
      "cell_type": "markdown",
      "metadata": {
        "id": "pz_H8Sd_Qd09"
      },
      "source": [
        "#### Step 2 - Write an expression for $v(t)$\n"
      ]
    },
    {
      "cell_type": "code",
      "metadata": {
        "id": "Ok0NJES-Qd0-"
      },
      "source": [
        "v=1+4*t*3*t**2"
      ],
      "execution_count": null,
      "outputs": []
    },
    {
      "cell_type": "markdown",
      "metadata": {
        "id": "4phcKvldQd0-"
      },
      "source": [
        "#### Step 3 - Find the _indefinite_ integral of $v(t)$ to find the general formula for s\n"
      ]
    },
    {
      "cell_type": "code",
      "metadata": {
        "id": "cs3VSWY2Qd0-",
        "outputId": "679ee174-3c26-4a60-d82a-32dde3948e7a",
        "colab": {
          "base_uri": "https://localhost:8080/",
          "height": 39
        }
      },
      "source": [
        "s=integrate(v,t)+C\n",
        "s"
      ],
      "execution_count": null,
      "outputs": [
        {
          "output_type": "execute_result",
          "data": {
            "text/plain": [
              "       4    \n",
              "C + 3⋅t  + t"
            ],
            "text/latex": "$\\displaystyle C + 3 t^{4} + t$"
          },
          "metadata": {},
          "execution_count": 62
        }
      ]
    },
    {
      "cell_type": "markdown",
      "metadata": {
        "id": "D3P4Sga2Qd0_"
      },
      "source": [
        "#### Step 4 - Solve for $c$\n",
        "\n",
        "* We know that at $t=1$ then $s=25$.\n",
        "\n",
        "\n",
        "* Finding an expression for $s$ at $t=1$ we use __subs()__ as follows:"
      ]
    },
    {
      "cell_type": "code",
      "metadata": {
        "id": "_aSEv1AGQd0_",
        "outputId": "5118eea8-df6f-419e-90fc-4cdc3a35843f",
        "colab": {
          "base_uri": "https://localhost:8080/",
          "height": 39
        }
      },
      "source": [
        "s1=s.subs(t,1)\n",
        "s1"
      ],
      "execution_count": null,
      "outputs": [
        {
          "output_type": "execute_result",
          "data": {
            "text/plain": [
              "C + 4"
            ],
            "text/latex": "$\\displaystyle C + 4$"
          },
          "metadata": {},
          "execution_count": 63
        }
      ]
    },
    {
      "cell_type": "markdown",
      "metadata": {
        "id": "mUUSu6XNQd1A"
      },
      "source": [
        "* Now we use __sovle(s1-25,c)__ to see which value of $c$ gives an initial displacement of $25$ meters  "
      ]
    },
    {
      "cell_type": "code",
      "metadata": {
        "id": "MEnBIvtbQd1A",
        "outputId": "afa55ca9-ead1-4f57-fd29-992c7d8b297c",
        "colab": {
          "base_uri": "https://localhost:8080/",
          "height": 37
        }
      },
      "source": [
        "solve(s1-25,C)"
      ],
      "execution_count": null,
      "outputs": [
        {
          "output_type": "execute_result",
          "data": {
            "text/plain": [
              "[21]"
            ],
            "text/latex": "$\\displaystyle \\left[ 21\\right]$"
          },
          "metadata": {},
          "execution_count": 64
        }
      ]
    },
    {
      "cell_type": "markdown",
      "metadata": {
        "id": "QHvURYX-Qd1B"
      },
      "source": [
        "Hence, the actual formula for the displacement is given by"
      ]
    },
    {
      "cell_type": "code",
      "metadata": {
        "id": "MF-psyQ1Qd1B",
        "outputId": "3a4b431d-af27-4175-ce8e-8af77dc63101",
        "colab": {
          "base_uri": "https://localhost:8080/",
          "height": 39
        }
      },
      "source": [
        "s=integrate(v,t)+21\n",
        "s"
      ],
      "execution_count": null,
      "outputs": [
        {
          "output_type": "execute_result",
          "data": {
            "text/plain": [
              "   4         \n",
              "3⋅t  + t + 21"
            ],
            "text/latex": "$\\displaystyle 3 t^{4} + t + 21$"
          },
          "metadata": {},
          "execution_count": 65
        }
      ]
    },
    {
      "cell_type": "markdown",
      "metadata": {
        "id": "ZWKqKiMdQd1C"
      },
      "source": [
        "### Part 2 -Find the _definite_ integral of $v(t)$ when $t$ is between 1 and 5 minutes.\n",
        "This gives the total distance travelled in that time interval"
      ]
    },
    {
      "cell_type": "code",
      "metadata": {
        "id": "pxlgHwPwQd1C",
        "outputId": "e985702a-215b-428c-e151-0a274bf2c36b",
        "colab": {
          "base_uri": "https://localhost:8080/",
          "height": 37
        }
      },
      "source": [
        "D=integrate(v,(t,1,5))\n",
        "D"
      ],
      "execution_count": null,
      "outputs": [
        {
          "output_type": "execute_result",
          "data": {
            "text/plain": [
              "1876"
            ],
            "text/latex": "$\\displaystyle 1876$"
          },
          "metadata": {},
          "execution_count": 66
        }
      ]
    },
    {
      "cell_type": "markdown",
      "metadata": {
        "id": "0AAxSQu_Qd1C"
      },
      "source": [
        "Hence the distance travelled between $t=1$ and $t=5$ is $1876$ meters."
      ]
    },
    {
      "cell_type": "markdown",
      "metadata": {
        "id": "oGDksdtjQd1C"
      },
      "source": [
        "## Exercise 3\n",
        "\n",
        "A body starts from __rest__  with an acceleration\n",
        "$$\n",
        " a(t)=\\frac{dv}{dt}=\\frac{d^{2}p}{dt^2}=-2.5\\cos(30t),\n",
        "$$\n",
        "where $a$ is accleration, $v$ is velocity and $p$ is position."
      ]
    },
    {
      "cell_type": "markdown",
      "metadata": {
        "id": "I7emBqweQd1D"
      },
      "source": [
        "#### Part 1- Write a function for $a(t)$, and integrate once to give $v(t)$."
      ]
    },
    {
      "cell_type": "code",
      "metadata": {
        "id": "zSFwUncQQd1D"
      },
      "source": [
        "t = symbols('t')"
      ],
      "execution_count": null,
      "outputs": []
    },
    {
      "cell_type": "code",
      "source": [
        "a=-2.5*cos(30*t)"
      ],
      "metadata": {
        "id": "hjjPRrcqH-9z"
      },
      "execution_count": null,
      "outputs": []
    },
    {
      "cell_type": "code",
      "source": [
        "v=integrate(a,t)\n",
        "v"
      ],
      "metadata": {
        "colab": {
          "base_uri": "https://localhost:8080/",
          "height": 39
        },
        "id": "IstliKn1JPaZ",
        "outputId": "41f1e6b3-d5dd-4bab-c9af-ea9dfbf5a4c9"
      },
      "execution_count": 185,
      "outputs": [
        {
          "output_type": "execute_result",
          "data": {
            "text/plain": [
              "-0.0833333333333333⋅sin(30⋅t)"
            ],
            "text/latex": "$\\displaystyle - 0.0833333333333333 \\sin{\\left(30 t \\right)}$"
          },
          "metadata": {},
          "execution_count": 185
        }
      ]
    },
    {
      "cell_type": "markdown",
      "metadata": {
        "id": "TYeG2hEHQd1E"
      },
      "source": []
    },
    {
      "cell_type": "markdown",
      "metadata": {
        "id": "tQ7owncuQd1E"
      },
      "source": [
        "#### Part 2 - Use solve to find the time $t_1$ when $v(t_1)=2.3$m/s."
      ]
    },
    {
      "cell_type": "code",
      "metadata": {
        "id": "hYynJkCYQd1E"
      },
      "source": [
        "t1 = solve(v-2.3,t)"
      ],
      "execution_count": 186,
      "outputs": []
    },
    {
      "cell_type": "code",
      "metadata": {
        "id": "9eJVQKn_Qd1E",
        "colab": {
          "base_uri": "https://localhost:8080/",
          "height": 39
        },
        "outputId": "99c27b84-5190-401a-800c-6a2a86a05670"
      },
      "source": [
        "t1"
      ],
      "execution_count": 187,
      "outputs": [
        {
          "output_type": "execute_result",
          "data": {
            "text/plain": [
              "[-0.0523598775598299 + 0.133687820141637⋅ⅈ, 0.15707963267949 - 0.1336878201416\n",
              "37⋅ⅈ]"
            ],
            "text/latex": "$\\displaystyle \\left[ -0.0523598775598299 + 0.133687820141637 i, \\  0.15707963267949 - 0.133687820141637 i\\right]$"
          },
          "metadata": {},
          "execution_count": 187
        }
      ]
    },
    {
      "cell_type": "markdown",
      "metadata": {
        "id": "2dPH222BQd1F"
      },
      "source": [
        "#### Part 3 - Integrate $v(t)$, the answer from Part 1, to find an expression for the position $p(t)$."
      ]
    },
    {
      "cell_type": "code",
      "metadata": {
        "id": "ppUqTTjoQd1F"
      },
      "source": [
        "p=integrate(v,t)"
      ],
      "execution_count": 188,
      "outputs": []
    },
    {
      "cell_type": "code",
      "metadata": {
        "id": "NYXQsRCEQd1F",
        "colab": {
          "base_uri": "https://localhost:8080/",
          "height": 39
        },
        "outputId": "71c528b9-fe20-4d7f-feb8-1229c45fbf99"
      },
      "source": [
        "p"
      ],
      "execution_count": 189,
      "outputs": [
        {
          "output_type": "execute_result",
          "data": {
            "text/plain": [
              "0.00277777777777778⋅cos(30⋅t)"
            ],
            "text/latex": "$\\displaystyle 0.00277777777777778 \\cos{\\left(30 t \\right)}$"
          },
          "metadata": {},
          "execution_count": 189
        }
      ]
    },
    {
      "cell_type": "markdown",
      "metadata": {
        "id": "S6oNAeH4Qd1F"
      },
      "source": [
        "#### Part 4 - Use .subs() to find the position of the particle at time $t_1$ found in Part 2."
      ]
    },
    {
      "cell_type": "code",
      "metadata": {
        "id": "EKoaCN-MQd1F"
      },
      "source": [
        "pt1 = p.subs(t,t1[0])"
      ],
      "execution_count": 194,
      "outputs": []
    },
    {
      "cell_type": "code",
      "metadata": {
        "id": "44T1abKfQd1F",
        "colab": {
          "base_uri": "https://localhost:8080/",
          "height": 39
        },
        "outputId": "b0aa8fce-6866-4150-9b29-17f2939baea3"
      },
      "source": [
        "pt1"
      ],
      "execution_count": 195,
      "outputs": [
        {
          "output_type": "execute_result",
          "data": {
            "text/plain": [
              "-1.23289403141875e-17 + 0.0766163280795619⋅ⅈ"
            ],
            "text/latex": "$\\displaystyle -1.23289403141875 \\cdot 10^{-17} + 0.0766163280795619 i$"
          },
          "metadata": {},
          "execution_count": 195
        }
      ]
    },
    {
      "cell_type": "markdown",
      "metadata": {
        "id": "nGCpAuW_Qd1G"
      },
      "source": [
        "## Example 4\n",
        "\n",
        "Recall that given, two functions, $f$ and $g$, with $f(x)\\ge g(x)$ over an interval $x=a$ to $x=b$ then the area between the two functions is given by\n",
        "$$\n",
        "    \\int_a^b \\big[f(x)-g(x)\\big] dx.\n",
        "$$\n",
        "\n",
        "\n",
        "#### Steps for finding this area\n",
        "\n",
        " 1. Define functions, $f$ and $g$ to represent each curve. (__Note:__ Make sure $f$ is the __upper function__)\n",
        "    \n",
        " 2. Determine the points of intersection of the curves - these are the integration limits $a$ and $b$.\n",
        "\n",
        " 3. Determine the required area using definite integration.\n",
        "\n",
        " 4. Plot the curves and the shaded area using __matplotlib__."
      ]
    },
    {
      "cell_type": "markdown",
      "metadata": {
        "collapsed": true,
        "id": "mFfwI7t5Qd1G"
      },
      "source": [
        "#### Part 1 - Define the functions $f$ and $g$\n"
      ]
    },
    {
      "cell_type": "code",
      "metadata": {
        "id": "drvqA_3xQd1G"
      },
      "source": [
        "f=-x**2+6\n",
        "g=x**2-2*x+2"
      ],
      "execution_count": null,
      "outputs": []
    },
    {
      "cell_type": "markdown",
      "metadata": {
        "collapsed": true,
        "id": "6hah9pwsQd1G"
      },
      "source": [
        "#### Part 2 - Use __solve(f-g,x)__ to find points of intersection of the curves\n"
      ]
    },
    {
      "cell_type": "code",
      "metadata": {
        "id": "FSVyGh5HQd1G",
        "outputId": "354013c3-096a-4dac-a56a-5a789c0b1356",
        "colab": {
          "base_uri": "https://localhost:8080/",
          "height": 37
        }
      },
      "source": [
        "L=solve(f-g,x)\n",
        "L"
      ],
      "execution_count": null,
      "outputs": [
        {
          "output_type": "execute_result",
          "data": {
            "text/plain": [
              "[-1, 2]"
            ],
            "text/latex": "$\\displaystyle \\left[ -1, \\  2\\right]$"
          },
          "metadata": {},
          "execution_count": 90
        }
      ]
    },
    {
      "cell_type": "markdown",
      "metadata": {
        "id": "M-oN_DjJQd1H"
      },
      "source": [
        "These are the limits of integration, and we cal call an individual limit using the index notation __L[0]__ and __L[1]__."
      ]
    },
    {
      "cell_type": "markdown",
      "metadata": {
        "id": "zgte3vOsQd1H"
      },
      "source": [
        "#### Part 3 - Integrate $f-g$ between these two points of interestion."
      ]
    },
    {
      "cell_type": "code",
      "metadata": {
        "id": "5MpPL3EYQd1I",
        "outputId": "92f6d683-3e49-4442-f440-f645884eb7f6",
        "colab": {
          "base_uri": "https://localhost:8080/",
          "height": 37
        }
      },
      "source": [
        "integrate(f-g,(x,L[0],L[1]))"
      ],
      "execution_count": null,
      "outputs": [
        {
          "output_type": "execute_result",
          "data": {
            "text/plain": [
              "9"
            ],
            "text/latex": "$\\displaystyle 9$"
          },
          "metadata": {},
          "execution_count": 91
        }
      ]
    },
    {
      "cell_type": "markdown",
      "metadata": {
        "id": "2_ZW8kR3Qd1J"
      },
      "source": [
        "Hence, the area between the two curves is $9$ square units."
      ]
    },
    {
      "cell_type": "markdown",
      "metadata": {
        "id": "ZO8GOOUZQd1J"
      },
      "source": [
        "#### Part 4 - Plotting the functions and area\n",
        "\n",
        "* Since we are using __matplotlib__ to plot these functions, we define a numerial variable **xn** and numerical functions **fn** and **gn**."
      ]
    },
    {
      "cell_type": "code",
      "metadata": {
        "id": "xSxk03G3Qd1J"
      },
      "source": [
        "xn=np.linspace(-2,3,251)\n",
        "## We make xn big enough to contain the intersction points found in Part 2"
      ],
      "execution_count": null,
      "outputs": []
    },
    {
      "cell_type": "code",
      "metadata": {
        "id": "NI3vyf-tQd1J"
      },
      "source": [
        "fn=-xn**2+6\n",
        "## Define a numerical version of f using the numerical xn"
      ],
      "execution_count": null,
      "outputs": []
    },
    {
      "cell_type": "code",
      "metadata": {
        "id": "gBm5eCXjQd1J"
      },
      "source": [
        "gn = xn**2-2*xn +2\n",
        "## Define a numerical version of g using the numerical xn"
      ],
      "execution_count": null,
      "outputs": []
    },
    {
      "cell_type": "code",
      "metadata": {
        "id": "vc6q7hL7Qd1J",
        "outputId": "5c5c411a-4bd0-4b69-b5e2-f3c209a67c8e",
        "colab": {
          "base_uri": "https://localhost:8080/",
          "height": 448
        }
      },
      "source": [
        "plt.plot(xn,fn,color='red')\n",
        "plt.plot(xn,gn,color='gray')"
      ],
      "execution_count": null,
      "outputs": [
        {
          "output_type": "execute_result",
          "data": {
            "text/plain": [
              "[<matplotlib.lines.Line2D at 0x7be7591d01c0>]"
            ]
          },
          "metadata": {},
          "execution_count": 95
        },
        {
          "output_type": "display_data",
          "data": {
            "text/plain": [
              "<Figure size 640x480 with 1 Axes>"
            ],
            "image/png": "[encoded data removed]"
          },
          "metadata": {}
        }
      ]
    },
    {
      "cell_type": "markdown",
      "metadata": {
        "id": "_cZk2I3qQd1J"
      },
      "source": [
        "* To shade the area, we can use the function __fill_between()__ as follows:"
      ]
    },
    {
      "cell_type": "code",
      "metadata": {
        "id": "vnVZsdQvQd1J",
        "outputId": "3888e629-9aaf-4d5c-b9ea-00f1aaf3a724",
        "colab": {
          "base_uri": "https://localhost:8080/",
          "height": 448
        }
      },
      "source": [
        "plt.plot(xn,fn,color='red')\n",
        "plt.plot(xn,gn,color='gray')\n",
        "plt.fill_between(xn,fn,gn, where= fn>=gn)"
      ],
      "execution_count": null,
      "outputs": [
        {
          "output_type": "execute_result",
          "data": {
            "text/plain": [
              "<matplotlib.collections.PolyCollection at 0x7be75942ef50>"
            ]
          },
          "metadata": {},
          "execution_count": 96
        },
        {
          "output_type": "display_data",
          "data": {
            "text/plain": [
              "<Figure size 640x480 with 1 Axes>"
            ],
            "image/png": "[encoded data removed]"
          },
          "metadata": {}
        }
      ]
    },
    {
      "cell_type": "markdown",
      "metadata": {
        "id": "reSanoK0Qd1K"
      },
      "source": [
        "* We use the option __where= fn(xn)>=gn(xn)__ to indicate we only want to fill the area where $f\\geq g$."
      ]
    },
    {
      "cell_type": "markdown",
      "metadata": {
        "id": "6fnEGxDeQd1K"
      },
      "source": [
        "## Exercise 4\n",
        "\n",
        "Determine the size of the shaded area in the following diagram\n",
        "\n",
        "![](http://bestmaths.net/online/files/8213/8655/6257/Y12_Area_under_Curves_09.gif)\n"
      ]
    },
    {
      "cell_type": "markdown",
      "metadata": {
        "collapsed": true,
        "id": "paTS2-HbQd1K"
      },
      "source": [
        "#### Part 1 - Define the funcitons $y_1$ and $y_2$"
      ]
    },
    {
      "cell_type": "code",
      "metadata": {
        "id": "qnCohKkCQd1K"
      },
      "source": [
        "y1=x**2"
      ],
      "execution_count": null,
      "outputs": []
    },
    {
      "cell_type": "code",
      "metadata": {
        "id": "arBypV_pQd1L"
      },
      "source": [
        "y2=2*x-x**2"
      ],
      "execution_count": null,
      "outputs": []
    },
    {
      "cell_type": "markdown",
      "metadata": {
        "id": "8fYADoSlQd1L"
      },
      "source": []
    },
    {
      "cell_type": "markdown",
      "metadata": {
        "collapsed": true,
        "id": "p7dmGb3tQd1M"
      },
      "source": [
        "#### Part 2 - Use .solve() to find the points of intersection of __$y_1$__ and __$y_2$__"
      ]
    },
    {
      "cell_type": "code",
      "metadata": {
        "id": "O09jRjT7Qd1M"
      },
      "source": [
        "Z = solve(y1-y2,x)"
      ],
      "execution_count": null,
      "outputs": []
    },
    {
      "cell_type": "code",
      "metadata": {
        "id": "4FPnjreqQd1M",
        "colab": {
          "base_uri": "https://localhost:8080/",
          "height": 37
        },
        "outputId": "52dd0523-0be3-41fc-8f0e-2e483fbe7dc3"
      },
      "source": [
        "Z"
      ],
      "execution_count": null,
      "outputs": [
        {
          "output_type": "execute_result",
          "data": {
            "text/plain": [
              "[0, 1]"
            ],
            "text/latex": "$\\displaystyle \\left[ 0, \\  1\\right]$"
          },
          "metadata": {},
          "execution_count": 102
        }
      ]
    },
    {
      "cell_type": "markdown",
      "metadata": {
        "collapsed": true,
        "id": "uA4jzII0Qd1M"
      },
      "source": [
        "#### Part 3 - Determine the area by integrating  $y_1-y_2$ between these two points"
      ]
    },
    {
      "cell_type": "code",
      "metadata": {
        "id": "GFLf-z2IQd1M",
        "colab": {
          "base_uri": "https://localhost:8080/",
          "height": 51
        },
        "outputId": "7d04a467-93ff-4cad-c440-2e8212ca4c58"
      },
      "source": [
        "integrate(y1-y2,(x,Z[0],Z[1]))"
      ],
      "execution_count": null,
      "outputs": [
        {
          "output_type": "execute_result",
          "data": {
            "text/plain": [
              "-1/3"
            ],
            "text/latex": "$\\displaystyle - \\frac{1}{3}$"
          },
          "metadata": {},
          "execution_count": 103
        }
      ]
    },
    {
      "cell_type": "code",
      "metadata": {
        "id": "Xh3SDOb0Qd1M"
      },
      "source": [],
      "execution_count": null,
      "outputs": []
    }
  ]
}