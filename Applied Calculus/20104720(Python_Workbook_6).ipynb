{
  "nbformat": 4,
  "nbformat_minor": 0,
  "metadata": {
    "anaconda-cloud": {},
    "kernelspec": {
      "display_name": "Python 3",
      "language": "python",
      "name": "python3"
    },
    "language_info": {
      "codemirror_mode": {
        "name": "ipython",
        "version": 3
      },
      "file_extension": ".py",
      "mimetype": "text/x-python",
      "name": "python",
      "nbconvert_exporter": "python",
      "pygments_lexer": "ipython3",
      "version": "3.8.3"
    },
    "colab": {
      "provenance": []
    }
  },
  "cells": [
    {
      "cell_type": "markdown",
      "metadata": {
        "id": "oist7AXwFHF1"
      },
      "source": [
        "### Name: Yi Jie Lim\n",
        "### Student Number: 20104720"
      ]
    },
    {
      "cell_type": "code",
      "source": [
        "import matplotlib.pyplot as plt\n",
        "import numpy as np"
      ],
      "metadata": {
        "id": "oIirDxog_4H4"
      },
      "execution_count": 2,
      "outputs": []
    },
    {
      "cell_type": "code",
      "source": [
        "import matplotlib.style as style # Change the plot style used for graphs\n",
        "style.use('seaborn')"
      ],
      "metadata": {
        "id": "IqVO1pR-_3pI",
        "colab": {
          "base_uri": "https://localhost:8080/"
        },
        "outputId": "da448e1b-fa0d-4ebc-8623-83b2d28bfbfb"
      },
      "execution_count": 3,
      "outputs": [
        {
          "output_type": "stream",
          "name": "stderr",
          "text": [
            "<ipython-input-3-16368847e6cd>:2: MatplotlibDeprecationWarning: The seaborn styles shipped by Matplotlib are deprecated since 3.6, as they no longer correspond to the styles shipped by seaborn. However, they will remain available as 'seaborn-v0_8-<style>'. Alternatively, directly use the seaborn API instead.\n",
            "  style.use('seaborn')\n"
          ]
        }
      ]
    },
    {
      "cell_type": "code",
      "source": [
        "from ipywidgets import interact, interactive, fixed, interact_manual\n",
        "import ipywidgets as widgets"
      ],
      "metadata": {
        "id": "lee4Cofi_986"
      },
      "execution_count": 4,
      "outputs": []
    },
    {
      "cell_type": "code",
      "source": [
        "import sympy as sym"
      ],
      "metadata": {
        "id": "sdFgkSL8_vrZ"
      },
      "execution_count": 5,
      "outputs": []
    },
    {
      "cell_type": "markdown",
      "metadata": {
        "id": "SwLMy6hCFHF-"
      },
      "source": [
        "# Python Workbook 6 - Applications of Differentitation\n",
        "\n",
        "\n",
        "In this practical we will cover the following topics:\n",
        "  \n",
        "  1. Turning points of a function.\n",
        "\n",
        "  2. Classification of Turning Points.\n",
        "\n",
        "\n",
        "\n"
      ]
    },
    {
      "cell_type": "markdown",
      "source": [
        "---\n",
        "---\n",
        "\n",
        "# Section 1 - Turning points of a function\n",
        "\n",
        " * A __smooth__ function $f(x)$ has a __turning point__  at a specific value $x=x_0$ if the following holds:   \n",
        "$$\n",
        "\\frac{df}{dx}(x_0)=0.\n",
        "$$\n",
        "\n",
        "\n",
        "\n",
        "\n",
        "* We can implement this symbolically in Python using the __diff()__ and __solve()__ functions from the __SymPy__ library.\n"
      ],
      "metadata": {
        "id": "PCLPIQEz_m9q"
      }
    },
    {
      "cell_type": "markdown",
      "metadata": {
        "id": "DsY9Sx1LFHGA"
      },
      "source": [
        "## Example 1:\n",
        "\n",
        "Given the function\n",
        "$$\n",
        "f(x) = 3 x^{3} + 26 x^{2} - 61 x - 468\n",
        "$$\n",
        "answer the following:\n",
        "\n",
        "1. Define a symbol $x$ and the function $f$ using symbolic variables.\n",
        "\n",
        "\n",
        "2. __Lambdify__ this function and plot it over the interval $x \\in [-9 , 4]$.\n",
        "\n",
        "\n",
        "3. From this plot, estimate how many tunring points the function will have.\n",
        "\n",
        "\n",
        "4. Use the __solve()__ function to determine where $\\frac{df}{dx} = 0$.\n",
        "\n",
        "\n",
        "5. Use the __subs()__ function to determine the correpsonding $y$-values of the turining points."
      ]
    },
    {
      "cell_type": "markdown",
      "metadata": {
        "id": "8G4PXJxgFHGB"
      },
      "source": [
        "### Part 1:\n",
        "\n",
        "* First we must create a symbolic variable for $x$, and then define the function $f(x)$."
      ]
    },
    {
      "cell_type": "code",
      "metadata": {
        "colab": {
          "base_uri": "https://localhost:8080/",
          "height": 39
        },
        "id": "AZwRPW7rFHGC",
        "outputId": "e6a39592-5a66-46e0-b96a-2f68337e1818"
      },
      "source": [
        "x = sym.symbols('x')\n",
        "\n",
        "f=3*x**3+26*x**2-61*x-468\n",
        "\n",
        "f"
      ],
      "execution_count": 6,
      "outputs": [
        {
          "output_type": "execute_result",
          "data": {
            "text/plain": [
              "3*x**3 + 26*x**2 - 61*x - 468"
            ],
            "text/latex": "$\\displaystyle 3 x^{3} + 26 x^{2} - 61 x - 468$"
          },
          "metadata": {},
          "execution_count": 6
        }
      ]
    },
    {
      "cell_type": "markdown",
      "metadata": {
        "id": "i-8AVIBfFHGF"
      },
      "source": [
        "### Part 2:\n",
        "\n",
        "* To plot this function, we __lambdify__ it first:"
      ]
    },
    {
      "cell_type": "code",
      "source": [
        "F=sym.lambdify(x,f,'numpy')"
      ],
      "metadata": {
        "id": "cIg7KwsiBtoY"
      },
      "execution_count": 7,
      "outputs": []
    },
    {
      "cell_type": "markdown",
      "source": [
        "* Now we can plot the lambidfied function __F__."
      ],
      "metadata": {
        "id": "PKISFXZfC0sl"
      }
    },
    {
      "cell_type": "code",
      "metadata": {
        "colab": {
          "base_uri": "https://localhost:8080/",
          "height": 521
        },
        "id": "ZfZnjXbfFHGF",
        "outputId": "1328a478-6c8c-4b31-e18b-e7ab1962ba08"
      },
      "source": [
        "X=np.linspace(-9,4,501)\n",
        "plt.plot(X,F(X))\n",
        "\n",
        "plt.axhline(y=0,lw=0.75,c='black')\n",
        "plt.axvline(x=0,lw=0.75,c='black')\n",
        "\n",
        "plt.xlabel('x')\n",
        "plt.ylabel('y')"
      ],
      "execution_count": 8,
      "outputs": [
        {
          "output_type": "execute_result",
          "data": {
            "text/plain": [
              "Text(0, 0.5, 'y')"
            ]
          },
          "metadata": {},
          "execution_count": 8
        },
        {
          "output_type": "display_data",
          "data": {
            "text/plain": [
              "<Figure size 800x550 with 1 Axes>"
            ],
            "image/png": "[encoded data removed]"
          },
          "metadata": {}
        }
      ]
    },
    {
      "cell_type": "markdown",
      "metadata": {
        "id": "Ba4vfZ8MFHGG"
      },
      "source": [
        "### Part 3:\n",
        "From the graph it appear the function has __2 turning points.__"
      ]
    },
    {
      "cell_type": "markdown",
      "metadata": {
        "id": "cUvJam7wFHGH"
      },
      "source": [
        "### Part 4:\n",
        "\n",
        "* To find the values of $x$ which are turning points, we must find all values of $t$ such that\n",
        "$$\n",
        "\\frac{df}{dx}=0.\n",
        "$$\n",
        "\n",
        "* First we find the derivative of $f(x)$ using __diff()__"
      ]
    },
    {
      "cell_type": "code",
      "metadata": {
        "colab": {
          "base_uri": "https://localhost:8080/",
          "height": 39
        },
        "id": "V7fgT0lsFHGH",
        "outputId": "9d5fad34-adc5-4bcf-9a1a-8efbb5bdc549"
      },
      "source": [
        "df=sym.diff(f,x)\n",
        "df"
      ],
      "execution_count": 9,
      "outputs": [
        {
          "output_type": "execute_result",
          "data": {
            "text/plain": [
              "9*x**2 + 52*x - 61"
            ],
            "text/latex": "$\\displaystyle 9 x^{2} + 52 x - 61$"
          },
          "metadata": {},
          "execution_count": 9
        }
      ]
    },
    {
      "cell_type": "markdown",
      "metadata": {
        "id": "gU61UDpTFHGJ"
      },
      "source": [
        "* Now we use __solve()__ to find all values of $x$ such that $\\frac{df}{dx}=0$."
      ]
    },
    {
      "cell_type": "code",
      "metadata": {
        "colab": {
          "base_uri": "https://localhost:8080/"
        },
        "id": "IABG0JCIFHGJ",
        "outputId": "3ab4fef5-d4e4-4b4b-a16c-c1b71b17cc05"
      },
      "source": [
        "TPf=sym.solve(df,x)\n",
        "TPf"
      ],
      "execution_count": 10,
      "outputs": [
        {
          "output_type": "execute_result",
          "data": {
            "text/plain": [
              "[-61/9, 1]"
            ]
          },
          "metadata": {},
          "execution_count": 10
        }
      ]
    },
    {
      "cell_type": "markdown",
      "metadata": {
        "id": "rucj2EISFHGK"
      },
      "source": [
        "* We see there are two $x$-values where the derivative $\\frac{df}{dx} = 0$. We call these values __TPf__ for __Turning Points of f__."
      ]
    },
    {
      "cell_type": "markdown",
      "metadata": {
        "id": "AYVOFMUlFHGK"
      },
      "source": [
        "### Part 5:\n",
        "\n",
        "* We note that __TPf__ is an __array__ of values.\n",
        "\n",
        "* We can select a specific value from this array using the index identifiers __TPf[0]__ and __TPf[1]__.\n",
        "\n",
        "* ___Note:___ The index starts at __zero!!__"
      ]
    },
    {
      "cell_type": "code",
      "metadata": {
        "colab": {
          "base_uri": "https://localhost:8080/",
          "height": 51
        },
        "id": "uvmiDO5HFHGL",
        "outputId": "592222e1-5ba7-4f8a-d889-d9c3dc3d25ac"
      },
      "source": [
        "x0=TPf[0]\n",
        "x0"
      ],
      "execution_count": 11,
      "outputs": [
        {
          "output_type": "execute_result",
          "data": {
            "text/plain": [
              "-61/9"
            ],
            "text/latex": "$\\displaystyle - \\frac{61}{9}$"
          },
          "metadata": {},
          "execution_count": 11
        }
      ]
    },
    {
      "cell_type": "code",
      "metadata": {
        "colab": {
          "base_uri": "https://localhost:8080/",
          "height": 37
        },
        "id": "wVQYSm26FHGL",
        "outputId": "124cb67f-d6ec-4a81-ec93-69773959b421"
      },
      "source": [
        "x1=TPf[1]\n",
        "x1"
      ],
      "execution_count": 12,
      "outputs": [
        {
          "output_type": "execute_result",
          "data": {
            "text/plain": [
              "1"
            ],
            "text/latex": "$\\displaystyle 1$"
          },
          "metadata": {},
          "execution_count": 12
        }
      ]
    },
    {
      "cell_type": "markdown",
      "metadata": {
        "id": "X5nMEfDzFHGM"
      },
      "source": [
        "* The $y$-coordinates corresponding to these stationary values are easily found using __subs().__\n",
        "\n",
        "* The first turing point has $(x,y)$-cordinates:"
      ]
    },
    {
      "cell_type": "code",
      "metadata": {
        "colab": {
          "base_uri": "https://localhost:8080/"
        },
        "id": "J7V-UflJFHGM",
        "outputId": "e1c3d32b-5f97-4f6e-ece0-636867392a1e"
      },
      "source": [
        "x0 , f.subs(x,x0)"
      ],
      "execution_count": 13,
      "outputs": [
        {
          "output_type": "execute_result",
          "data": {
            "text/plain": [
              "(-61/9, 50000/243)"
            ]
          },
          "metadata": {},
          "execution_count": 13
        }
      ]
    },
    {
      "cell_type": "markdown",
      "metadata": {
        "id": "jfJ2WdONFvlR"
      },
      "source": [
        "* These numbers can also be written in decimal form using the function __sym.N()__"
      ]
    },
    {
      "cell_type": "code",
      "metadata": {
        "colab": {
          "base_uri": "https://localhost:8080/"
        },
        "id": "2WiiXEcDF4Qi",
        "outputId": "553449cb-1f79-491d-efd0-c7f3f72ed687"
      },
      "source": [
        "sym.N(x0) , sym.N(f.subs(x , x0))"
      ],
      "execution_count": 14,
      "outputs": [
        {
          "output_type": "execute_result",
          "data": {
            "text/plain": [
              "(-6.77777777777778, 205.761316872428)"
            ]
          },
          "metadata": {},
          "execution_count": 14
        }
      ]
    },
    {
      "cell_type": "markdown",
      "metadata": {
        "id": "dA7vppsSFHGN"
      },
      "source": [
        "* The second turing point has $(x,y)$-coordinates given by"
      ]
    },
    {
      "cell_type": "code",
      "metadata": {
        "id": "Efhe43jhFHGN",
        "outputId": "e785bbcf-ef72-4e07-af8e-80528025a32b",
        "colab": {
          "base_uri": "https://localhost:8080/"
        }
      },
      "source": [
        "sym.N(x1) , sym.N(f.subs(x , x1))"
      ],
      "execution_count": 15,
      "outputs": [
        {
          "output_type": "execute_result",
          "data": {
            "text/plain": [
              "(1.00000000000000, -500.000000000000)"
            ]
          },
          "metadata": {},
          "execution_count": 15
        }
      ]
    },
    {
      "cell_type": "markdown",
      "metadata": {
        "id": "IUI03ICBFHGN"
      },
      "source": [
        "### The tangents at the turning points.\n",
        "\n",
        "* The tangent at the turning point $\\left(-\\frac{61}{9},\\frac{50000}{243}\\right)$ is simply the __horizontal line__ at height $\\frac{50000}{243}$.\n",
        "\n",
        "\n",
        "\n",
        "* In other words, the equation of the tangent is:\n",
        "\n",
        "$$y=\\frac{50000}{243}.$$\n",
        "\n",
        "\n",
        "* Similary, the equation of the tangent at the turning point $(1,-500)$ is simply the __horizontal line:__\n",
        "\n",
        "$$y=-500.$$\n",
        "\n",
        "\n",
        "* We can easily plot these on the original graph as follows:"
      ]
    },
    {
      "cell_type": "code",
      "metadata": {
        "colab": {
          "base_uri": "https://localhost:8080/",
          "height": 521
        },
        "id": "JsDdmFKMFHGO",
        "outputId": "ec134e12-a105-4766-9327-78da299fed5c"
      },
      "source": [
        "X=np.linspace(-9,4,501)\n",
        "plt.plot(X,F(X))\n",
        "\n",
        "plt.axhline(y=0,lw=0.75,c='black')\n",
        "plt.axvline(x=0,lw=0.75,c='black')\n",
        "\n",
        "plt.axhline(y=F(x0), lw=1.5, color='k')# Horiztontal Tangent 1\n",
        "plt.axhline(y=F(x1), lw=1.5, color='k')# Horiztontal Tangent 2\n",
        "\n",
        "plt.xlabel('x')\n",
        "plt.ylabel('y')\n"
      ],
      "execution_count": 16,
      "outputs": [
        {
          "output_type": "execute_result",
          "data": {
            "text/plain": [
              "Text(0, 0.5, 'y')"
            ]
          },
          "metadata": {},
          "execution_count": 16
        },
        {
          "output_type": "display_data",
          "data": {
            "text/plain": [
              "<Figure size 800x550 with 1 Axes>"
            ],
            "image/png": "[encoded data removed]"
          },
          "metadata": {}
        }
      ]
    },
    {
      "cell_type": "code",
      "metadata": {
        "id": "E-CHKacQFHGO"
      },
      "source": [],
      "execution_count": 16,
      "outputs": []
    },
    {
      "cell_type": "code",
      "metadata": {
        "id": "Ts_sL8iVFHGO"
      },
      "source": [],
      "execution_count": 16,
      "outputs": []
    },
    {
      "cell_type": "markdown",
      "metadata": {
        "id": "YXaAjmaUFHGP"
      },
      "source": [
        "## Exercise 1:\n",
        "\n",
        "Given the function\n",
        "$$\n",
        "g(t)=8t^{3}-66t^{2}-81t+243\n",
        "$$\n",
        "answer the following:\n",
        "\n",
        "1. Define a symbol $t$ and the function $g$ using symbolic variables.\n",
        "\n",
        "\n",
        "2. __Lambdify__ this function and plot it over the interval $t \\in [-4 , 10]$.\n",
        "\n",
        "\n",
        "3. From this plot, estimate how many tunring points the function will have.\n",
        "\n",
        "\n",
        "4. Use the __solve()__ function to determine where $\\frac{dg}{dt} = 0$.\n",
        "\n",
        "\n",
        "5. Use the __subs()__ function to determine the correpsonding $y$-values of the turining points."
      ]
    },
    {
      "cell_type": "code",
      "metadata": {
        "id": "3rmyvx30FHGP",
        "colab": {
          "base_uri": "https://localhost:8080/",
          "height": 39
        },
        "outputId": "d7ecab88-f3d4-4645-91c5-7899ef12676f"
      },
      "source": [
        "t = sym.symbols('t')\n",
        "\n",
        "g=8*t**3-66*t**2-81*t+243\n",
        "\n",
        "g"
      ],
      "execution_count": 17,
      "outputs": [
        {
          "output_type": "execute_result",
          "data": {
            "text/plain": [
              "8*t**3 - 66*t**2 - 81*t + 243"
            ],
            "text/latex": "$\\displaystyle 8 t^{3} - 66 t^{2} - 81 t + 243$"
          },
          "metadata": {},
          "execution_count": 17
        }
      ]
    },
    {
      "cell_type": "code",
      "metadata": {
        "id": "rVbVl-mqFHGQ",
        "colab": {
          "base_uri": "https://localhost:8080/",
          "height": 521
        },
        "outputId": "6e3b943e-e3d4-4614-f1ee-e033d0087cd4"
      },
      "source": [
        "G=sym.lambdify(t,g,'numpy')\n",
        "\n",
        "T=np.linspace(-4,10,501)\n",
        "plt.plot(T,G(T))\n",
        "\n",
        "plt.axhline(y=0,lw=0.75,c='black')\n",
        "plt.axvline(x=0,lw=0.75,c='black')\n",
        "\n",
        "plt.xlabel('x')\n",
        "plt.ylabel('y')"
      ],
      "execution_count": 18,
      "outputs": [
        {
          "output_type": "execute_result",
          "data": {
            "text/plain": [
              "Text(0, 0.5, 'y')"
            ]
          },
          "metadata": {},
          "execution_count": 18
        },
        {
          "output_type": "display_data",
          "data": {
            "text/plain": [
              "<Figure size 800x550 with 1 Axes>"
            ],
            "image/png": "[encoded data removed]"
          },
          "metadata": {}
        }
      ]
    },
    {
      "cell_type": "code",
      "metadata": {
        "id": "cbO3DQTtFHGQ",
        "colab": {
          "base_uri": "https://localhost:8080/",
          "height": 39
        },
        "outputId": "66e8a144-7014-422c-e281-21b81228c143"
      },
      "source": [
        "dg=sym.diff(g,t)\n",
        "dg"
      ],
      "execution_count": 19,
      "outputs": [
        {
          "output_type": "execute_result",
          "data": {
            "text/plain": [
              "24*t**2 - 132*t - 81"
            ],
            "text/latex": "$\\displaystyle 24 t^{2} - 132 t - 81$"
          },
          "metadata": {},
          "execution_count": 19
        }
      ]
    },
    {
      "cell_type": "code",
      "metadata": {
        "id": "z9YeJmQVFHGQ",
        "colab": {
          "base_uri": "https://localhost:8080/"
        },
        "outputId": "cbd1e6a2-b174-47f0-968a-e555771af484"
      },
      "source": [
        "TPg=sym.solve(dg,t)\n",
        "TPg"
      ],
      "execution_count": 20,
      "outputs": [
        {
          "output_type": "execute_result",
          "data": {
            "text/plain": [
              "[11/4 - 5*sqrt(7)/4, 11/4 + 5*sqrt(7)/4]"
            ]
          },
          "metadata": {},
          "execution_count": 20
        }
      ]
    },
    {
      "cell_type": "code",
      "source": [
        "t0=TPg[0]\n",
        "t0"
      ],
      "metadata": {
        "id": "Pb-bUQwQMiQ7",
        "colab": {
          "base_uri": "https://localhost:8080/",
          "height": 55
        },
        "outputId": "aeef3adb-be31-41c6-9429-772d6c9cf71f"
      },
      "execution_count": 21,
      "outputs": [
        {
          "output_type": "execute_result",
          "data": {
            "text/plain": [
              "11/4 - 5*sqrt(7)/4"
            ],
            "text/latex": "$\\displaystyle \\frac{11}{4} - \\frac{5 \\sqrt{7}}{4}$"
          },
          "metadata": {},
          "execution_count": 21
        }
      ]
    },
    {
      "cell_type": "code",
      "source": [
        "t1=TPg[1]\n",
        "t1"
      ],
      "metadata": {
        "colab": {
          "base_uri": "https://localhost:8080/",
          "height": 55
        },
        "id": "riqe-I71FLv1",
        "outputId": "d9965223-d970-4886-dfca-144c63e6e45c"
      },
      "execution_count": 22,
      "outputs": [
        {
          "output_type": "execute_result",
          "data": {
            "text/plain": [
              "11/4 + 5*sqrt(7)/4"
            ],
            "text/latex": "$\\displaystyle \\frac{11}{4} + \\frac{5 \\sqrt{7}}{4}$"
          },
          "metadata": {},
          "execution_count": 22
        }
      ]
    },
    {
      "cell_type": "code",
      "source": [
        "t0 , g.subs(t,t0)"
      ],
      "metadata": {
        "colab": {
          "base_uri": "https://localhost:8080/"
        },
        "id": "HwyErtyeFLpC",
        "outputId": "9bca781f-44e3-464c-c48f-0194f57512c8"
      },
      "execution_count": 23,
      "outputs": [
        {
          "output_type": "execute_result",
          "data": {
            "text/plain": [
              "(11/4 - 5*sqrt(7)/4,\n",
              " -66*(11/4 - 5*sqrt(7)/4)**2 + 8*(11/4 - 5*sqrt(7)/4)**3 + 81/4 + 405*sqrt(7)/4)"
            ]
          },
          "metadata": {},
          "execution_count": 23
        }
      ]
    },
    {
      "cell_type": "code",
      "source": [
        "sym.N(t0),sym.N(g.subs(t,t0))"
      ],
      "metadata": {
        "colab": {
          "base_uri": "https://localhost:8080/"
        },
        "id": "F_QjI02jFLcS",
        "outputId": "4fe050a5-55dc-4f20-ae1d-1ffa94710361"
      },
      "execution_count": 24,
      "outputs": [
        {
          "output_type": "execute_result",
          "data": {
            "text/plain": [
              "(-0.557189138830738, 266.258099295379)"
            ]
          },
          "metadata": {},
          "execution_count": 24
        }
      ]
    },
    {
      "cell_type": "code",
      "source": [
        "sym.N(t1),sym.N(g.subs(t,t1))"
      ],
      "metadata": {
        "colab": {
          "base_uri": "https://localhost:8080/"
        },
        "id": "gkAJ0Xm2FeMF",
        "outputId": "aebecdce-df44-4a11-c11f-b83e57a447b8"
      },
      "execution_count": 25,
      "outputs": [
        {
          "output_type": "execute_result",
          "data": {
            "text/plain": [
              "(6.05718913883074, -891.258099295379)"
            ]
          },
          "metadata": {},
          "execution_count": 25
        }
      ]
    },
    {
      "cell_type": "code",
      "source": [
        "T=np.linspace(-4,10,501)\n",
        "plt.plot(T,G(T))\n",
        "\n",
        "plt.axhline(y=0,lw=0.75,c='black')\n",
        "plt.axvline(x=0,lw=0.75,c='black')\n",
        "\n",
        "plt.axhline(y=G(t0), lw=1.5, color='k')# Horiztontal Tangent 1\n",
        "plt.axhline(y=G(t1), lw=1.5, color='k')# Horiztontal Tangent 2\n",
        "\n",
        "plt.xlabel('x')\n",
        "plt.ylabel('y')"
      ],
      "metadata": {
        "colab": {
          "base_uri": "https://localhost:8080/",
          "height": 521
        },
        "id": "bLISaTwcFvTz",
        "outputId": "a1f1075e-f9cc-47b5-d10f-422c28dd42d7"
      },
      "execution_count": 26,
      "outputs": [
        {
          "output_type": "execute_result",
          "data": {
            "text/plain": [
              "Text(0, 0.5, 'y')"
            ]
          },
          "metadata": {},
          "execution_count": 26
        },
        {
          "output_type": "display_data",
          "data": {
            "text/plain": [
              "<Figure size 800x550 with 1 Axes>"
            ],
            "image/png": "[encoded data removed]"
          },
          "metadata": {}
        }
      ]
    },
    {
      "cell_type": "markdown",
      "source": [
        "---\n",
        "---"
      ],
      "metadata": {
        "id": "d9Yf8n92PBz1"
      }
    },
    {
      "cell_type": "markdown",
      "metadata": {
        "id": "gy7HoOOBFHGQ"
      },
      "source": [
        "## Classifying stationary points\n",
        "\n",
        "* Given a function $f(t)$, with turning point $(t_0,f(t_0))$, then the turninig point is classified as follows:\n",
        "\n",
        "    1. $(t_0,f(t_0))$ is a __max (maximum)__ if\n",
        "    $$\n",
        "        \\frac{d^2f}{dt^2}(t_0)<0\n",
        "    $$\n",
        "    \n",
        "    2. $(t_0,f(t_0))$ is a __min (minimum)__ if\n",
        "    $$\n",
        "        \\frac{d^2f}{dt^2}(t_0)>0\n",
        "    $$\n",
        "    \n",
        "    3. $(t_0,f(t_0))$ is a __point of inflection__ if\n",
        "    $$\n",
        "        \\frac{d^2f}{dt^2}(t_0)=0.\n",
        "    $$\n",
        "  \n",
        "---"
      ]
    },
    {
      "cell_type": "markdown",
      "metadata": {
        "id": "Cr8vIhtaFHGR"
      },
      "source": [
        "## Example 2 - Oil refinery profit\n",
        "\n",
        "The daily profit of an oil refinery is given by the function\n",
        "$$\n",
        "    p(b) = 8b − 0.02b^2,\n",
        "$$\n",
        "\n",
        "where $b$ is the number of barrels (bbl.) of oil refined.\n",
        "\n",
        "1. Plot the profit, and interpret the graph.\n",
        "\n",
        "2. Use __diff()__ and __solve__ to find all possible turning points of $p(b)$.\n",
        "\n",
        "3. Classify these turing points as __max__ or __min__ points.\n",
        "\n",
        "4. Hence find the __maximum daily profit__ of the oil refinery."
      ]
    },
    {
      "cell_type": "markdown",
      "metadata": {
        "id": "tXZ7QVUYFHGR"
      },
      "source": [
        "### Part 1:\n",
        "\n",
        "* We create a symbol for $b$, and then define the function $p(b)$."
      ]
    },
    {
      "cell_type": "code",
      "metadata": {
        "id": "KL-5P_DQFHGR",
        "outputId": "7ea5f144-e189-4995-d787-ab9205e20214",
        "colab": {
          "base_uri": "https://localhost:8080/",
          "height": 39
        }
      },
      "source": [
        "b=sym.Symbol('b')\n",
        "p = 8*b - 0.02*b**2\n",
        "p"
      ],
      "execution_count": 27,
      "outputs": [
        {
          "output_type": "execute_result",
          "data": {
            "text/plain": [
              "-0.02*b**2 + 8*b"
            ],
            "text/latex": "$\\displaystyle - 0.02 b^{2} + 8 b$"
          },
          "metadata": {},
          "execution_count": 27
        }
      ]
    },
    {
      "cell_type": "markdown",
      "source": [
        "* We __lambdify__ this function so it is compatible with __numpy__"
      ],
      "metadata": {
        "id": "fwhLpE-6NVI8"
      }
    },
    {
      "cell_type": "code",
      "source": [
        "P = sym.lambdify(b,p,'numpy')"
      ],
      "metadata": {
        "id": "LD1TnKHNNUeu"
      },
      "execution_count": 28,
      "outputs": []
    },
    {
      "cell_type": "markdown",
      "metadata": {
        "id": "XU1or7MUFHGS"
      },
      "source": [
        "\n",
        "\n",
        "* We can now plot the profit as a function of $b$.\n",
        "\n",
        "\n",
        "* Since $b$ is the number of barrels refined, it does not make much sense to let $b$ be negative, so we plot the function over the interval $0< b< 500$."
      ]
    },
    {
      "cell_type": "code",
      "metadata": {
        "id": "eZ7boItCFHGS",
        "outputId": "221d4567-036b-41db-944a-28cda322420c",
        "colab": {
          "base_uri": "https://localhost:8080/",
          "height": 521
        }
      },
      "source": [
        "B=np.linspace(0,500,1001)\n",
        "plt.plot(B,P(B))\n",
        "\n",
        "plt.axhline(y=0,lw=0.75,c='black')\n",
        "plt.axvline(x=0,lw=0.75,c='black')\n",
        "\n",
        "plt.xlabel('Barrels per day')\n",
        "plt.ylabel('Profit')\n"
      ],
      "execution_count": 29,
      "outputs": [
        {
          "output_type": "execute_result",
          "data": {
            "text/plain": [
              "Text(0, 0.5, 'Profit')"
            ]
          },
          "metadata": {},
          "execution_count": 29
        },
        {
          "output_type": "display_data",
          "data": {
            "text/plain": [
              "<Figure size 800x550 with 1 Axes>"
            ],
            "image/png": "[encoded data removed]"
          },
          "metadata": {}
        }
      ]
    },
    {
      "cell_type": "markdown",
      "metadata": {
        "id": "k3PB_7BrFHGT"
      },
      "source": [
        "* From the graph we see that the __maximim daily profit__ is achieved at about $200$ bbl. per day.\n",
        "\n",
        "\n",
        "* If the refinery refines more than 400 bbl. per day the refinery starts to loose money (i.e. profits become negative)."
      ]
    },
    {
      "cell_type": "markdown",
      "metadata": {
        "id": "3amLdJ-bFHGT"
      },
      "source": [
        "### Part 2:\n",
        "\n",
        "* Differentiating using __diff()__, we have"
      ]
    },
    {
      "cell_type": "code",
      "metadata": {
        "id": "WUcMnh6MFHGT",
        "outputId": "7cea5d68-771a-4d5f-971a-1bbb73ba1b6e",
        "colab": {
          "base_uri": "https://localhost:8080/",
          "height": 39
        }
      },
      "source": [
        "dp=sym.diff(p,b)\n",
        "dp"
      ],
      "execution_count": 30,
      "outputs": [
        {
          "output_type": "execute_result",
          "data": {
            "text/plain": [
              "8 - 0.04*b"
            ],
            "text/latex": "$\\displaystyle 8 - 0.04 b$"
          },
          "metadata": {},
          "execution_count": 30
        }
      ]
    },
    {
      "cell_type": "markdown",
      "metadata": {
        "id": "sZQRs_7cFHGU"
      },
      "source": [
        "* Solving for $\\frac{dp}{db}=0$ we have"
      ]
    },
    {
      "cell_type": "code",
      "metadata": {
        "id": "b3dI6uoMFHGU",
        "outputId": "43ecb2ee-0caf-43ba-ae8e-7dede5705314",
        "colab": {
          "base_uri": "https://localhost:8080/"
        }
      },
      "source": [
        "TPp=sym.solve(dp,b)\n",
        "TPp"
      ],
      "execution_count": 31,
      "outputs": [
        {
          "output_type": "execute_result",
          "data": {
            "text/plain": [
              "[200.000000000000]"
            ]
          },
          "metadata": {},
          "execution_count": 31
        }
      ]
    },
    {
      "cell_type": "markdown",
      "metadata": {
        "id": "tIncKsdZFHGU"
      },
      "source": [
        "* There is only one turning point at $b=200$.\n",
        "\n",
        "* We extract this from the array as follows:"
      ]
    },
    {
      "cell_type": "code",
      "source": [
        "b0 = TPp[0]\n",
        "b0"
      ],
      "metadata": {
        "colab": {
          "base_uri": "https://localhost:8080/",
          "height": 37
        },
        "id": "72iRRW3nOI3q",
        "outputId": "bddfe84f-bd75-4df3-d23a-6bd92ab5f8cd"
      },
      "execution_count": 32,
      "outputs": [
        {
          "output_type": "execute_result",
          "data": {
            "text/plain": [
              "200.000000000000"
            ],
            "text/latex": "$\\displaystyle 200.0$"
          },
          "metadata": {},
          "execution_count": 32
        }
      ]
    },
    {
      "cell_type": "markdown",
      "metadata": {
        "id": "gXk57PNwFHGU"
      },
      "source": [
        "### Part 3\n",
        "\n",
        "* We find the __second derivative__ by differentiating twice:"
      ]
    },
    {
      "cell_type": "code",
      "metadata": {
        "id": "tA1JWYFBFHGV",
        "outputId": "6e938c81-f041-41fd-b56d-f15358f17fe8",
        "colab": {
          "base_uri": "https://localhost:8080/",
          "height": 37
        }
      },
      "source": [
        "d2p=sym.diff(p,(b,2))\n",
        "d2p"
      ],
      "execution_count": 33,
      "outputs": [
        {
          "output_type": "execute_result",
          "data": {
            "text/plain": [
              "-0.0400000000000000"
            ],
            "text/latex": "$\\displaystyle -0.04$"
          },
          "metadata": {},
          "execution_count": 33
        }
      ]
    },
    {
      "cell_type": "markdown",
      "metadata": {
        "id": "9n4F9_dPFHGW"
      },
      "source": [
        "* We evaluate the second derivative __ddp__ at the stationary points __b0__, to see whether it is a max or a min"
      ]
    },
    {
      "cell_type": "code",
      "metadata": {
        "id": "65La051xFHGW",
        "outputId": "649bc422-6dc3-4068-fb44-8f535920199d",
        "colab": {
          "base_uri": "https://localhost:8080/",
          "height": 37
        }
      },
      "source": [
        "d2p.subs(b,b0)"
      ],
      "execution_count": 34,
      "outputs": [
        {
          "output_type": "execute_result",
          "data": {
            "text/plain": [
              "-0.0400000000000000"
            ],
            "text/latex": "$\\displaystyle -0.04$"
          },
          "metadata": {},
          "execution_count": 34
        }
      ]
    },
    {
      "cell_type": "markdown",
      "metadata": {
        "id": "hUtur6LuFHGW"
      },
      "source": [
        "* Mathematically, this means\n",
        "\n",
        "\n",
        "$$\n",
        "\\frac{d^2p}{db^2}(200.00)=-0.04<0.\n",
        "$$\n",
        "\n",
        "\n",
        "* Hence the turning point __b0=200.00__ is a __maximum__."
      ]
    },
    {
      "cell_type": "markdown",
      "metadata": {
        "id": "hSvTmNmMFHGW"
      },
      "source": [
        "### Part 4\n",
        "\n",
        "* The __maximum profits__ are found by substiuting this turing point into the __original function__:"
      ]
    },
    {
      "cell_type": "code",
      "metadata": {
        "id": "yTp5f6AjFHGX",
        "outputId": "0048230c-d12c-4a72-cd3e-1473eb26218f",
        "colab": {
          "base_uri": "https://localhost:8080/",
          "height": 37
        }
      },
      "source": [
        "p_max=p.subs(b,b0)\n",
        "p_max"
      ],
      "execution_count": 35,
      "outputs": [
        {
          "output_type": "execute_result",
          "data": {
            "text/plain": [
              "800.000000000000"
            ],
            "text/latex": "$\\displaystyle 800.0$"
          },
          "metadata": {},
          "execution_count": 35
        }
      ]
    },
    {
      "cell_type": "markdown",
      "source": [
        "---"
      ],
      "metadata": {
        "id": "5BgglJG8PEfn"
      }
    },
    {
      "cell_type": "markdown",
      "metadata": {
        "id": "2S3k7sclFHGX"
      },
      "source": [
        "## Exercise 2\n",
        "\n",
        "Consider the function\n",
        "$$\n",
        "    f(x) = x(4-x)\n",
        "$$\n",
        "\n",
        "1. Plot the function $f(x)$ for $x\\in[-1,5]$ and from the graph estimate how many turning points the function will have.\n",
        "\n",
        "2. Use __diff()__ and __solve__ to find all possible turning points of $f(x)$.\n",
        "\n",
        "3. Classify these turing points as __max__ or __min__ points.\n",
        "\n",
        "4. Hence find the __maximum__ and __minimum__ values of the function."
      ]
    },
    {
      "cell_type": "code",
      "metadata": {
        "id": "uIT3YvpNFHGY",
        "colab": {
          "base_uri": "https://localhost:8080/",
          "height": 39
        },
        "outputId": "9a222584-3288-4d92-bdb3-c43fd9a2270c"
      },
      "source": [
        "x=sym.Symbol('x')\n",
        "f=x*(4-x)\n",
        "f"
      ],
      "execution_count": 36,
      "outputs": [
        {
          "output_type": "execute_result",
          "data": {
            "text/plain": [
              "x*(4 - x)"
            ],
            "text/latex": "$\\displaystyle x \\left(4 - x\\right)$"
          },
          "metadata": {},
          "execution_count": 36
        }
      ]
    },
    {
      "cell_type": "code",
      "metadata": {
        "id": "1-kRS1NtFHGY",
        "colab": {
          "base_uri": "https://localhost:8080/",
          "height": 521
        },
        "outputId": "3f23c1c9-cb59-481c-f741-0d6293fe1241"
      },
      "source": [
        "F = sym.lambdify(x,f,'numpy')\n",
        "\n",
        "X=np.linspace(-1,5,1001)\n",
        "plt.plot(X,F(X))\n",
        "\n",
        "plt.axhline(y=0,lw=0.75,c='black')\n",
        "plt.axvline(x=0,lw=0.75,c='black')\n",
        "\n",
        "plt.xlabel('x')\n",
        "plt.ylabel('y')"
      ],
      "execution_count": 37,
      "outputs": [
        {
          "output_type": "execute_result",
          "data": {
            "text/plain": [
              "Text(0, 0.5, 'y')"
            ]
          },
          "metadata": {},
          "execution_count": 37
        },
        {
          "output_type": "display_data",
          "data": {
            "text/plain": [
              "<Figure size 800x550 with 1 Axes>"
            ],
            "image/png": "[encoded data removed]"
          },
          "metadata": {}
        }
      ]
    },
    {
      "cell_type": "code",
      "metadata": {
        "id": "oOVm73RHFHGY",
        "colab": {
          "base_uri": "https://localhost:8080/",
          "height": 39
        },
        "outputId": "fd0130a6-cee3-47e8-e10c-6f4eedfa9d75"
      },
      "source": [
        "df=sym.diff(f,x)\n",
        "df"
      ],
      "execution_count": 38,
      "outputs": [
        {
          "output_type": "execute_result",
          "data": {
            "text/plain": [
              "4 - 2*x"
            ],
            "text/latex": "$\\displaystyle 4 - 2 x$"
          },
          "metadata": {},
          "execution_count": 38
        }
      ]
    },
    {
      "cell_type": "code",
      "metadata": {
        "id": "5tgPOc6KFHGY",
        "colab": {
          "base_uri": "https://localhost:8080/"
        },
        "outputId": "e610eb7e-abad-43f9-9ce0-55f33fcbf515"
      },
      "source": [
        "TPf=sym.solve(df,x)\n",
        "TPf"
      ],
      "execution_count": 39,
      "outputs": [
        {
          "output_type": "execute_result",
          "data": {
            "text/plain": [
              "[2]"
            ]
          },
          "metadata": {},
          "execution_count": 39
        }
      ]
    },
    {
      "cell_type": "code",
      "source": [
        "x0 = TPf[0]\n",
        "x0"
      ],
      "metadata": {
        "colab": {
          "base_uri": "https://localhost:8080/",
          "height": 37
        },
        "id": "SMC3KrBLIDF5",
        "outputId": "fcf8eb0c-b427-4db8-d9aa-7a8d0f0d8b51"
      },
      "execution_count": 40,
      "outputs": [
        {
          "output_type": "execute_result",
          "data": {
            "text/plain": [
              "2"
            ],
            "text/latex": "$\\displaystyle 2$"
          },
          "metadata": {},
          "execution_count": 40
        }
      ]
    },
    {
      "cell_type": "code",
      "source": [
        "d2f=sym.diff(f,(x,2))\n",
        "d2f"
      ],
      "metadata": {
        "colab": {
          "base_uri": "https://localhost:8080/",
          "height": 37
        },
        "id": "_BCySWoMIDDJ",
        "outputId": "acaa1345-1083-4065-9138-18922b408193"
      },
      "execution_count": 41,
      "outputs": [
        {
          "output_type": "execute_result",
          "data": {
            "text/plain": [
              "-2"
            ],
            "text/latex": "$\\displaystyle -2$"
          },
          "metadata": {},
          "execution_count": 41
        }
      ]
    },
    {
      "cell_type": "code",
      "source": [
        "d2f.subs(x,x0)"
      ],
      "metadata": {
        "colab": {
          "base_uri": "https://localhost:8080/",
          "height": 37
        },
        "id": "N-CxNDc-IDAS",
        "outputId": "a995d82a-a737-44d7-ec33-7a279acaa307"
      },
      "execution_count": 42,
      "outputs": [
        {
          "output_type": "execute_result",
          "data": {
            "text/plain": [
              "-2"
            ],
            "text/latex": "$\\displaystyle -2$"
          },
          "metadata": {},
          "execution_count": 42
        }
      ]
    },
    {
      "cell_type": "code",
      "source": [
        "f_max=f.subs(x,x0)\n",
        "f_max"
      ],
      "metadata": {
        "colab": {
          "base_uri": "https://localhost:8080/",
          "height": 37
        },
        "id": "W-PhUM0bIC9h",
        "outputId": "e744a593-b460-4776-d253-107b141fac96"
      },
      "execution_count": 43,
      "outputs": [
        {
          "output_type": "execute_result",
          "data": {
            "text/plain": [
              "4"
            ],
            "text/latex": "$\\displaystyle 4$"
          },
          "metadata": {},
          "execution_count": 43
        }
      ]
    },
    {
      "cell_type": "code",
      "source": [
        "f_min=f.subs(x,0)\n",
        "f_min"
      ],
      "metadata": {
        "colab": {
          "base_uri": "https://localhost:8080/",
          "height": 37
        },
        "id": "pyrxJrzqivGR",
        "outputId": "971b62ec-224c-42dd-f36c-250ef901d586"
      },
      "execution_count": 44,
      "outputs": [
        {
          "output_type": "execute_result",
          "data": {
            "text/plain": [
              "0"
            ],
            "text/latex": "$\\displaystyle 0$"
          },
          "metadata": {},
          "execution_count": 44
        }
      ]
    },
    {
      "cell_type": "markdown",
      "metadata": {
        "id": "fxvaV-YHFHGZ"
      },
      "source": [
        "## Exercise 3\n",
        "\n",
        "Consider the function\n",
        "$$\n",
        "    g(t) = t^2(8-t^2)\n",
        "$$\n",
        "\n",
        "1. Plot the function $g(t)$ for $t\\in[-3,3]$ and from the graph estimate how many turning points the funciton will have.\n",
        "\n",
        "2. Use __diff()__ and __solve__ to find all possible turning points of $g(t)$.\n",
        "\n",
        "3. Classify these turing points a __max__ or __min__ points.\n",
        "\n",
        "4. Hence find the __maximum__ and __minimum__ values of the function."
      ]
    },
    {
      "cell_type": "code",
      "metadata": {
        "id": "0wn3e5nJFHGZ",
        "colab": {
          "base_uri": "https://localhost:8080/",
          "height": 39
        },
        "outputId": "5bbf95ae-ecbc-4aba-a191-89bc5f7fab84"
      },
      "source": [
        "t=sym.Symbol('t')\n",
        "g = t**2*(8-t**2)\n",
        "g"
      ],
      "execution_count": 45,
      "outputs": [
        {
          "output_type": "execute_result",
          "data": {
            "text/plain": [
              "t**2*(8 - t**2)"
            ],
            "text/latex": "$\\displaystyle t^{2} \\cdot \\left(8 - t^{2}\\right)$"
          },
          "metadata": {},
          "execution_count": 45
        }
      ]
    },
    {
      "cell_type": "code",
      "metadata": {
        "id": "C-R4IaThFHGZ",
        "colab": {
          "base_uri": "https://localhost:8080/",
          "height": 521
        },
        "outputId": "e7f7a7e2-b7eb-459e-f060-fbaa1a96929d"
      },
      "source": [
        "G = sym.lambdify(t,g,'numpy')\n",
        "\n",
        "T = np.linspace(-3,3,1001)\n",
        "plt.plot(T,G(T))\n",
        "\n",
        "plt.axhline(y=0,lw=0.75,c='black')\n",
        "plt.axvline(x=0,lw=0.75,c='black')\n",
        "\n",
        "plt.xlabel('x')\n",
        "plt.ylabel('y')"
      ],
      "execution_count": 46,
      "outputs": [
        {
          "output_type": "execute_result",
          "data": {
            "text/plain": [
              "Text(0, 0.5, 'y')"
            ]
          },
          "metadata": {},
          "execution_count": 46
        },
        {
          "output_type": "display_data",
          "data": {
            "text/plain": [
              "<Figure size 800x550 with 1 Axes>"
            ],
            "image/png": "[encoded data removed]"
          },
          "metadata": {}
        }
      ]
    },
    {
      "cell_type": "code",
      "metadata": {
        "id": "j_t3ODOyFHGa",
        "colab": {
          "base_uri": "https://localhost:8080/",
          "height": 39
        },
        "outputId": "487dddc1-7a09-476c-e37c-54c0be204fbe"
      },
      "source": [
        "dg=sym.diff(g,t)\n",
        "dg"
      ],
      "execution_count": 47,
      "outputs": [
        {
          "output_type": "execute_result",
          "data": {
            "text/plain": [
              "-2*t**3 + 2*t*(8 - t**2)"
            ],
            "text/latex": "$\\displaystyle - 2 t^{3} + 2 t \\left(8 - t^{2}\\right)$"
          },
          "metadata": {},
          "execution_count": 47
        }
      ]
    },
    {
      "cell_type": "code",
      "metadata": {
        "id": "6QMXkQCQFHGa",
        "colab": {
          "base_uri": "https://localhost:8080/"
        },
        "outputId": "b57e3982-5116-4ace-a786-06d3dfc4ba5c"
      },
      "source": [
        "TPg=sym.solve(dg,t)\n",
        "TPg"
      ],
      "execution_count": 48,
      "outputs": [
        {
          "output_type": "execute_result",
          "data": {
            "text/plain": [
              "[-2, 0, 2]"
            ]
          },
          "metadata": {},
          "execution_count": 48
        }
      ]
    },
    {
      "cell_type": "code",
      "source": [
        "t0 = TPg[0]\n",
        "t1 = TPg[1]\n",
        "t2 = TPg[2]"
      ],
      "metadata": {
        "id": "KrCw-ZuDLJwO"
      },
      "execution_count": 49,
      "outputs": []
    },
    {
      "cell_type": "code",
      "source": [
        "t2"
      ],
      "metadata": {
        "colab": {
          "base_uri": "https://localhost:8080/",
          "height": 37
        },
        "id": "JkBNOes7MJfe",
        "outputId": "eb64613e-2865-4d50-d81b-32e3d6c2a567"
      },
      "execution_count": 50,
      "outputs": [
        {
          "output_type": "execute_result",
          "data": {
            "text/plain": [
              "2"
            ],
            "text/latex": "$\\displaystyle 2$"
          },
          "metadata": {},
          "execution_count": 50
        }
      ]
    },
    {
      "cell_type": "code",
      "source": [
        "t1"
      ],
      "metadata": {
        "colab": {
          "base_uri": "https://localhost:8080/",
          "height": 37
        },
        "id": "z1TKvdmeMIS9",
        "outputId": "1cf1d4a5-610e-427a-891a-9a0fb839191a"
      },
      "execution_count": 51,
      "outputs": [
        {
          "output_type": "execute_result",
          "data": {
            "text/plain": [
              "0"
            ],
            "text/latex": "$\\displaystyle 0$"
          },
          "metadata": {},
          "execution_count": 51
        }
      ]
    },
    {
      "cell_type": "code",
      "source": [
        "t0"
      ],
      "metadata": {
        "colab": {
          "base_uri": "https://localhost:8080/",
          "height": 37
        },
        "id": "D-VDuIXGMHh_",
        "outputId": "d5d63464-cdcc-433a-eba7-1f0bb955c5ea"
      },
      "execution_count": 52,
      "outputs": [
        {
          "output_type": "execute_result",
          "data": {
            "text/plain": [
              "-2"
            ],
            "text/latex": "$\\displaystyle -2$"
          },
          "metadata": {},
          "execution_count": 52
        }
      ]
    },
    {
      "cell_type": "code",
      "source": [
        "d2g=sym.diff(g,(t,2))\n",
        "d2g"
      ],
      "metadata": {
        "colab": {
          "base_uri": "https://localhost:8080/",
          "height": 39
        },
        "id": "GCvUnLHpLJtG",
        "outputId": "e94b8c5b-445e-4bff-9dee-1d0803c6a6dd"
      },
      "execution_count": 53,
      "outputs": [
        {
          "output_type": "execute_result",
          "data": {
            "text/plain": [
              "4*(4 - 3*t**2)"
            ],
            "text/latex": "$\\displaystyle 4 \\cdot \\left(4 - 3 t^{2}\\right)$"
          },
          "metadata": {},
          "execution_count": 53
        }
      ]
    },
    {
      "cell_type": "code",
      "source": [
        "d2g.subs(t,t0)"
      ],
      "metadata": {
        "colab": {
          "base_uri": "https://localhost:8080/",
          "height": 37
        },
        "id": "e7ZqZLN4LJqH",
        "outputId": "0c0b0d0f-10b1-4b05-bc63-3a2b11d38300"
      },
      "execution_count": 54,
      "outputs": [
        {
          "output_type": "execute_result",
          "data": {
            "text/plain": [
              "-32"
            ],
            "text/latex": "$\\displaystyle -32$"
          },
          "metadata": {},
          "execution_count": 54
        }
      ]
    },
    {
      "cell_type": "code",
      "source": [
        "d2g.subs(t,t1)"
      ],
      "metadata": {
        "colab": {
          "base_uri": "https://localhost:8080/",
          "height": 37
        },
        "id": "LdCiOLRELJnG",
        "outputId": "4b1150d0-51e2-4221-e950-8c65c5c4d439"
      },
      "execution_count": 55,
      "outputs": [
        {
          "output_type": "execute_result",
          "data": {
            "text/plain": [
              "16"
            ],
            "text/latex": "$\\displaystyle 16$"
          },
          "metadata": {},
          "execution_count": 55
        }
      ]
    },
    {
      "cell_type": "code",
      "source": [
        "d2g.subs(t,t2)"
      ],
      "metadata": {
        "colab": {
          "base_uri": "https://localhost:8080/",
          "height": 37
        },
        "id": "vSzT3YR5LJj_",
        "outputId": "441a3824-c0b9-4ae7-e091-3a583db9051d"
      },
      "execution_count": 56,
      "outputs": [
        {
          "output_type": "execute_result",
          "data": {
            "text/plain": [
              "-32"
            ],
            "text/latex": "$\\displaystyle -32$"
          },
          "metadata": {},
          "execution_count": 56
        }
      ]
    },
    {
      "cell_type": "code",
      "source": [
        "g_max=g.subs(t,t0)\n",
        "g_max"
      ],
      "metadata": {
        "colab": {
          "base_uri": "https://localhost:8080/",
          "height": 37
        },
        "id": "PuvWCb70NAIF",
        "outputId": "c068a866-7b05-44a3-d15b-8d2ee940b030"
      },
      "execution_count": 57,
      "outputs": [
        {
          "output_type": "execute_result",
          "data": {
            "text/plain": [
              "16"
            ],
            "text/latex": "$\\displaystyle 16$"
          },
          "metadata": {},
          "execution_count": 57
        }
      ]
    },
    {
      "cell_type": "code",
      "source": [
        "g_min=g.subs(t,t1)\n",
        "g_min"
      ],
      "metadata": {
        "colab": {
          "base_uri": "https://localhost:8080/",
          "height": 37
        },
        "id": "HvXFFcjgNGdN",
        "outputId": "505f91c1-8201-4a1a-ecaf-42f160d244a8"
      },
      "execution_count": 58,
      "outputs": [
        {
          "output_type": "execute_result",
          "data": {
            "text/plain": [
              "0"
            ],
            "text/latex": "$\\displaystyle 0$"
          },
          "metadata": {},
          "execution_count": 58
        }
      ]
    },
    {
      "cell_type": "markdown",
      "metadata": {
        "id": "sxFohS8bFHGa"
      },
      "source": [
        "## Exercise 4\n",
        "\n",
        "The acceleration of a machine is given by\n",
        "$$\n",
        "    a(r) = \\frac{10r+1}{5r^2+3150}\n",
        "$$\n",
        "\n",
        "where $r$ is the gear ratio.\n",
        "\n",
        "1. Plot the function $a(r)$ for $r\\in[-30,30]$ and estimate the number of turning points.\n",
        "\n",
        "2. Use __diff()__ and __solve__ to find all possible turning points of $a(r)$.\n",
        "\n",
        "3. Classify these turing points as __max__ or __min__ points.\n",
        "\n",
        "4. Hence find the __maximum__ and __minimum__ accelerations of the machine."
      ]
    },
    {
      "cell_type": "code",
      "metadata": {
        "id": "rTWpMemFFHGb",
        "colab": {
          "base_uri": "https://localhost:8080/",
          "height": 52
        },
        "outputId": "c1bd1cd3-d6f5-4efc-d368-a7d344775e9b"
      },
      "source": [
        "r=sym.Symbol('r')\n",
        "a = ((10*r + 1) / (5*r**2+3150))\n",
        "a"
      ],
      "execution_count": 59,
      "outputs": [
        {
          "output_type": "execute_result",
          "data": {
            "text/plain": [
              "(10*r + 1)/(5*r**2 + 3150)"
            ],
            "text/latex": "$\\displaystyle \\frac{10 r + 1}{5 r^{2} + 3150}$"
          },
          "metadata": {},
          "execution_count": 59
        }
      ]
    },
    {
      "cell_type": "code",
      "metadata": {
        "id": "z4eWefmpFHGb"
      },
      "source": [
        "A = sym.lambdify(r,a,'numpy')"
      ],
      "execution_count": 60,
      "outputs": []
    },
    {
      "cell_type": "code",
      "source": [
        "R=np.linspace(-30,30,1001)\n",
        "plt.plot(R,A(R))\n",
        "plt.axhline(y=0,lw=0.75,c='black')\n",
        "plt.axvline(x=0,lw=0.75,c='black')\n",
        "\n",
        "plt.xlabel('x')\n",
        "plt.ylabel('y')"
      ],
      "metadata": {
        "colab": {
          "base_uri": "https://localhost:8080/",
          "height": 521
        },
        "id": "lZDFXpAllRb9",
        "outputId": "7633ec79-7cc6-4532-9a67-2c40bcd3efa0"
      },
      "execution_count": 61,
      "outputs": [
        {
          "output_type": "execute_result",
          "data": {
            "text/plain": [
              "Text(0, 0.5, 'y')"
            ]
          },
          "metadata": {},
          "execution_count": 61
        },
        {
          "output_type": "display_data",
          "data": {
            "text/plain": [
              "<Figure size 800x550 with 1 Axes>"
            ],
            "image/png": "[encoded data removed]"
          },
          "metadata": {}
        }
      ]
    },
    {
      "cell_type": "code",
      "metadata": {
        "id": "gfbwbkwcFHGb",
        "colab": {
          "base_uri": "https://localhost:8080/",
          "height": 60
        },
        "outputId": "b8a05ad2-a7b6-4245-d992-742ea316f874"
      },
      "source": [
        "da=sym.diff(a,r)\n",
        "da"
      ],
      "execution_count": 62,
      "outputs": [
        {
          "output_type": "execute_result",
          "data": {
            "text/plain": [
              "-10*r*(10*r + 1)/(5*r**2 + 3150)**2 + 10/(5*r**2 + 3150)"
            ],
            "text/latex": "$\\displaystyle - \\frac{10 r \\left(10 r + 1\\right)}{\\left(5 r^{2} + 3150\\right)^{2}} + \\frac{10}{5 r^{2} + 3150}$"
          },
          "metadata": {},
          "execution_count": 62
        }
      ]
    },
    {
      "cell_type": "code",
      "metadata": {
        "id": "t41J8Kd2FHGb",
        "colab": {
          "base_uri": "https://localhost:8080/"
        },
        "outputId": "d438fa48-f888-410c-f871-79c90628707b"
      },
      "source": [
        "TPa=sym.solve(da,r)\n",
        "TPa"
      ],
      "execution_count": 63,
      "outputs": [
        {
          "output_type": "execute_result",
          "data": {
            "text/plain": [
              "[-126/5, 25]"
            ]
          },
          "metadata": {},
          "execution_count": 63
        }
      ]
    },
    {
      "cell_type": "code",
      "source": [
        "r0 = TPa[0]"
      ],
      "metadata": {
        "id": "pVgepF3zmwdx"
      },
      "execution_count": 64,
      "outputs": []
    },
    {
      "cell_type": "code",
      "source": [
        "r1 = TPa[1]"
      ],
      "metadata": {
        "id": "i9WzwyOGmwVL"
      },
      "execution_count": 65,
      "outputs": []
    },
    {
      "cell_type": "code",
      "source": [
        "r0"
      ],
      "metadata": {
        "colab": {
          "base_uri": "https://localhost:8080/",
          "height": 51
        },
        "id": "GhczJZMimwN5",
        "outputId": "7166cc1d-5540-4948-f3ee-e7fecd652715"
      },
      "execution_count": 66,
      "outputs": [
        {
          "output_type": "execute_result",
          "data": {
            "text/plain": [
              "-126/5"
            ],
            "text/latex": "$\\displaystyle - \\frac{126}{5}$"
          },
          "metadata": {},
          "execution_count": 66
        }
      ]
    },
    {
      "cell_type": "code",
      "source": [
        "r1"
      ],
      "metadata": {
        "colab": {
          "base_uri": "https://localhost:8080/",
          "height": 37
        },
        "id": "t5MNQyXlngVk",
        "outputId": "4961ebd0-60bc-4bd4-9b59-defffa87455c"
      },
      "execution_count": 67,
      "outputs": [
        {
          "output_type": "execute_result",
          "data": {
            "text/plain": [
              "25"
            ],
            "text/latex": "$\\displaystyle 25$"
          },
          "metadata": {},
          "execution_count": 67
        }
      ]
    },
    {
      "cell_type": "code",
      "source": [
        "d2a=sym.diff(a,(r,2))\n",
        "d2a"
      ],
      "metadata": {
        "colab": {
          "base_uri": "https://localhost:8080/",
          "height": 84
        },
        "id": "pqiglSgDnkxs",
        "outputId": "3a5318c5-575b-45b6-ca2b-9956dd7b0e59"
      },
      "execution_count": 69,
      "outputs": [
        {
          "output_type": "execute_result",
          "data": {
            "text/plain": [
              "2*(-4*r + (10*r + 1)*(4*r**2/(r**2 + 630) - 1)/5)/(r**2 + 630)**2"
            ],
            "text/latex": "$\\displaystyle \\frac{2 \\left(- 4 r + \\frac{\\left(10 r + 1\\right) \\left(\\frac{4 r^{2}}{r^{2} + 630} - 1\\right)}{5}\\right)}{\\left(r^{2} + 630\\right)^{2}}$"
          },
          "metadata": {},
          "execution_count": 69
        }
      ]
    },
    {
      "cell_type": "code",
      "source": [
        "d2a.subs(r,r0)"
      ],
      "metadata": {
        "colab": {
          "base_uri": "https://localhost:8080/",
          "height": 51
        },
        "id": "WU34uBcqnkvm",
        "outputId": "2179fb84-9aac-4924-f4df-e9dadf1b45d3"
      },
      "execution_count": 70,
      "outputs": [
        {
          "output_type": "execute_result",
          "data": {
            "text/plain": [
              "125/1992438"
            ],
            "text/latex": "$\\displaystyle \\frac{125}{1992438}$"
          },
          "metadata": {},
          "execution_count": 70
        }
      ]
    },
    {
      "cell_type": "code",
      "source": [
        "a_max=a.subs(r,r0)\n",
        "a_max"
      ],
      "metadata": {
        "colab": {
          "base_uri": "https://localhost:8080/",
          "height": 51
        },
        "id": "hN0B3AXanksO",
        "outputId": "5cdcb69e-b783-44b5-e553-2b26f178792e"
      },
      "execution_count": 72,
      "outputs": [
        {
          "output_type": "execute_result",
          "data": {
            "text/plain": [
              "-5/126"
            ],
            "text/latex": "$\\displaystyle - \\frac{5}{126}$"
          },
          "metadata": {},
          "execution_count": 72
        }
      ]
    },
    {
      "cell_type": "code",
      "source": [
        "a_min=a.subs(r,r1)\n",
        "a_min"
      ],
      "metadata": {
        "colab": {
          "base_uri": "https://localhost:8080/",
          "height": 51
        },
        "id": "pk5pejudnkpH",
        "outputId": "70bc5fc6-1c25-411d-e03b-0cc8bee21eee"
      },
      "execution_count": 73,
      "outputs": [
        {
          "output_type": "execute_result",
          "data": {
            "text/plain": [
              "1/25"
            ],
            "text/latex": "$\\displaystyle \\frac{1}{25}$"
          },
          "metadata": {},
          "execution_count": 73
        }
      ]
    },
    {
      "cell_type": "markdown",
      "metadata": {
        "id": "YY55At8qFHGc"
      },
      "source": [
        "## Exercise 5\n",
        "The displacement (position) of a moving object at time $t$ is given by\n",
        "$$\n",
        "    D(t) = (1-t^2)e^{-t}\n",
        "$$\n",
        "\n",
        "\n",
        "1. Plot the function $D(t)$ for $t\\in[-1.5,1.5]$ and estimate the number of turning points.\n",
        "\n",
        "2. Use __diff()__ and __solve__ to find all possible turning points of $D(t)$.\n",
        "\n",
        "3. Classify these turing points as __max__ or __min__ points.\n",
        "\n",
        "4. Hence find the __maximum__ and __minimum__ displacement of the particle.\n",
        "\n",
        "\n",
        "__NOTE:__ We may write the function $e^{-t}$ in python as __sym.exp(-t)__"
      ]
    },
    {
      "cell_type": "code",
      "metadata": {
        "id": "eiHhyEP-FHGc",
        "colab": {
          "base_uri": "https://localhost:8080/",
          "height": 39
        },
        "outputId": "ecd4e14f-e931-401e-c188-8d31cdb17671"
      },
      "source": [
        "t=sym.Symbol('t')\n",
        "d= (1-t**2)*sym.exp(-t)\n",
        "d"
      ],
      "execution_count": 79,
      "outputs": [
        {
          "output_type": "execute_result",
          "data": {
            "text/plain": [
              "(1 - t**2)*exp(-t)"
            ],
            "text/latex": "$\\displaystyle \\left(1 - t^{2}\\right) e^{- t}$"
          },
          "metadata": {},
          "execution_count": 79
        }
      ]
    },
    {
      "cell_type": "code",
      "metadata": {
        "id": "lCiygmUmFHGc"
      },
      "source": [
        "D = sym.lambdify(t,d,'numpy')"
      ],
      "execution_count": 80,
      "outputs": []
    },
    {
      "cell_type": "code",
      "metadata": {
        "id": "JEhlrRyBFHGc",
        "colab": {
          "base_uri": "https://localhost:8080/",
          "height": 521
        },
        "outputId": "07bedc66-1950-4ee3-ffcc-ddbe7bda5469"
      },
      "source": [
        "T=np.linspace(-1.5,1.5,1001)\n",
        "plt.plot(T,D(T))\n",
        "\n",
        "plt.axhline(y=0,lw=0.75,c='black')\n",
        "plt.axvline(x=0,lw=0.75,c='black')\n",
        "\n",
        "plt.xlabel('x')\n",
        "plt.ylabel('y')"
      ],
      "execution_count": 81,
      "outputs": [
        {
          "output_type": "execute_result",
          "data": {
            "text/plain": [
              "Text(0, 0.5, 'y')"
            ]
          },
          "metadata": {},
          "execution_count": 81
        },
        {
          "output_type": "display_data",
          "data": {
            "text/plain": [
              "<Figure size 800x550 with 1 Axes>"
            ],
            "image/png": "[encoded data removed]"
          },
          "metadata": {}
        }
      ]
    },
    {
      "cell_type": "code",
      "metadata": {
        "id": "Iqk2OvXPFHGc",
        "colab": {
          "base_uri": "https://localhost:8080/",
          "height": 39
        },
        "outputId": "ff1c9fee-74c8-4a39-c797-44e2b8093c60"
      },
      "source": [
        "dd=sym.diff(d,t)\n",
        "dd"
      ],
      "execution_count": 82,
      "outputs": [
        {
          "output_type": "execute_result",
          "data": {
            "text/plain": [
              "-2*t*exp(-t) - (1 - t**2)*exp(-t)"
            ],
            "text/latex": "$\\displaystyle - 2 t e^{- t} - \\left(1 - t^{2}\\right) e^{- t}$"
          },
          "metadata": {},
          "execution_count": 82
        }
      ]
    },
    {
      "cell_type": "code",
      "source": [
        "TPd=sym.solve(dd,t)\n",
        "TPd"
      ],
      "metadata": {
        "colab": {
          "base_uri": "https://localhost:8080/"
        },
        "id": "FSe8zKWhqogX",
        "outputId": "8318dacd-364d-432e-84f6-2e158e9ab20b"
      },
      "execution_count": 83,
      "outputs": [
        {
          "output_type": "execute_result",
          "data": {
            "text/plain": [
              "[1 - sqrt(2), 1 + sqrt(2)]"
            ]
          },
          "metadata": {},
          "execution_count": 83
        }
      ]
    },
    {
      "cell_type": "code",
      "source": [
        "t0 = TPd[0]\n",
        "t0"
      ],
      "metadata": {
        "colab": {
          "base_uri": "https://localhost:8080/",
          "height": 38
        },
        "id": "cMzlalQXqscO",
        "outputId": "c2f455e0-b61a-4657-ae37-1342d0f35a17"
      },
      "execution_count": 87,
      "outputs": [
        {
          "output_type": "execute_result",
          "data": {
            "text/plain": [
              "1 - sqrt(2)"
            ],
            "text/latex": "$\\displaystyle 1 - \\sqrt{2}$"
          },
          "metadata": {},
          "execution_count": 87
        }
      ]
    },
    {
      "cell_type": "code",
      "source": [
        "t1 = TPd[1]\n",
        "t1"
      ],
      "metadata": {
        "colab": {
          "base_uri": "https://localhost:8080/",
          "height": 38
        },
        "id": "vj0zK6kSqwUC",
        "outputId": "5291e1e7-49d8-4285-b487-13957f8e6e41"
      },
      "execution_count": 88,
      "outputs": [
        {
          "output_type": "execute_result",
          "data": {
            "text/plain": [
              "1 + sqrt(2)"
            ],
            "text/latex": "$\\displaystyle 1 + \\sqrt{2}$"
          },
          "metadata": {},
          "execution_count": 88
        }
      ]
    },
    {
      "cell_type": "code",
      "source": [
        "d2d=sym.diff(d,(t,2))\n",
        "d2d"
      ],
      "metadata": {
        "colab": {
          "base_uri": "https://localhost:8080/",
          "height": 39
        },
        "id": "s8fOphIgqy8-",
        "outputId": "7c4c88c5-eb07-4265-becc-1a47e5f925ea"
      },
      "execution_count": 86,
      "outputs": [
        {
          "output_type": "execute_result",
          "data": {
            "text/plain": [
              "(-t**2 + 4*t - 1)*exp(-t)"
            ],
            "text/latex": "$\\displaystyle \\left(- t^{2} + 4 t - 1\\right) e^{- t}$"
          },
          "metadata": {},
          "execution_count": 86
        }
      ]
    },
    {
      "cell_type": "code",
      "source": [
        "d2d.subs(t,t0)"
      ],
      "metadata": {
        "colab": {
          "base_uri": "https://localhost:8080/",
          "height": 58
        },
        "id": "p9aCWcT_q3uF",
        "outputId": "e4c62c09-3ac1-405d-9e2a-67b8e8613be5"
      },
      "execution_count": 89,
      "outputs": [
        {
          "output_type": "execute_result",
          "data": {
            "text/plain": [
              "(-4*sqrt(2) - (1 - sqrt(2))**2 + 3)*exp(-1 + sqrt(2))"
            ],
            "text/latex": "$\\displaystyle \\left(- 4 \\sqrt{2} - \\left(1 - \\sqrt{2}\\right)^{2} + 3\\right) e^{-1 + \\sqrt{2}}$"
          },
          "metadata": {},
          "execution_count": 89
        }
      ]
    },
    {
      "cell_type": "code",
      "source": [
        "d2d.subs(t,t1)"
      ],
      "metadata": {
        "colab": {
          "base_uri": "https://localhost:8080/",
          "height": 62
        },
        "id": "lD47KZrTrDxR",
        "outputId": "bc4b4694-0ee3-4808-c9a0-32208e3e3e88"
      },
      "execution_count": 90,
      "outputs": [
        {
          "output_type": "execute_result",
          "data": {
            "text/plain": [
              "(-(1 + sqrt(2))**2 + 3 + 4*sqrt(2))*exp(-sqrt(2) - 1)"
            ],
            "text/latex": "$\\displaystyle \\frac{- \\left(1 + \\sqrt{2}\\right)^{2} + 3 + 4 \\sqrt{2}}{e^{1 + \\sqrt{2}}}$"
          },
          "metadata": {},
          "execution_count": 90
        }
      ]
    },
    {
      "cell_type": "code",
      "source": [
        "d_max=d.subs(t,t0)\n",
        "d_max"
      ],
      "metadata": {
        "colab": {
          "base_uri": "https://localhost:8080/",
          "height": 58
        },
        "id": "krvh8cHVrGB_",
        "outputId": "3d172be6-03fa-428c-cf08-d94e46bb2afe"
      },
      "execution_count": 91,
      "outputs": [
        {
          "output_type": "execute_result",
          "data": {
            "text/plain": [
              "(1 - (1 - sqrt(2))**2)*exp(-1 + sqrt(2))"
            ],
            "text/latex": "$\\displaystyle \\left(1 - \\left(1 - \\sqrt{2}\\right)^{2}\\right) e^{-1 + \\sqrt{2}}$"
          },
          "metadata": {},
          "execution_count": 91
        }
      ]
    },
    {
      "cell_type": "code",
      "source": [
        "d_min=d.subs(t,t1)\n",
        "d_min"
      ],
      "metadata": {
        "colab": {
          "base_uri": "https://localhost:8080/",
          "height": 62
        },
        "id": "2jYwMUYrrL8T",
        "outputId": "ef415b9b-e896-47d8-d886-1d0ec7cebd22"
      },
      "execution_count": 92,
      "outputs": [
        {
          "output_type": "execute_result",
          "data": {
            "text/plain": [
              "(1 - (1 + sqrt(2))**2)*exp(-sqrt(2) - 1)"
            ],
            "text/latex": "$\\displaystyle \\frac{1 - \\left(1 + \\sqrt{2}\\right)^{2}}{e^{1 + \\sqrt{2}}}$"
          },
          "metadata": {},
          "execution_count": 92
        }
      ]
    },
    {
      "cell_type": "code",
      "source": [],
      "metadata": {
        "id": "OSZLRJZErQF2"
      },
      "execution_count": null,
      "outputs": []
    }
  ]
}